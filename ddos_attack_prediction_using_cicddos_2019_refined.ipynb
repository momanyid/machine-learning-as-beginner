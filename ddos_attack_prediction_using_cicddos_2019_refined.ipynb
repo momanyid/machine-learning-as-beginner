{
  "cells": [
    {
      "cell_type": "markdown",
      "metadata": {
        "id": "view-in-github",
        "colab_type": "text"
      },
      "source": [
        "<a href=\"https://colab.research.google.com/github/momanyid/machine-learning-as-beginner/blob/main/ddos_attack_prediction_using_cicddos_2019_refined.ipynb\" target=\"_parent\"><img src=\"https://colab.research.google.com/assets/colab-badge.svg\" alt=\"Open In Colab\"/></a>"
      ]
    },
    {
      "cell_type": "markdown",
      "id": "58875391",
      "metadata": {
        "papermill": {
          "duration": 0.014921,
          "end_time": "2025-02-01T19:46:46.619506",
          "exception": false,
          "start_time": "2025-02-01T19:46:46.604585",
          "status": "completed"
        },
        "tags": [],
        "id": "58875391"
      },
      "source": [
        "# Importing and treating CIC-DDoS-2019"
      ]
    },
    {
      "cell_type": "code",
      "execution_count": null,
      "id": "19a5a080",
      "metadata": {
        "papermill": {
          "duration": 1.669622,
          "end_time": "2025-02-01T19:46:48.307899",
          "exception": false,
          "start_time": "2025-02-01T19:46:46.638277",
          "status": "completed"
        },
        "tags": [],
        "id": "19a5a080"
      },
      "outputs": [],
      "source": [
        "import pandas as pd\n",
        "import numpy as np\n",
        "from sklearn.utils import resample\n",
        "from sklearn import preprocessing"
      ]
    },
    {
      "cell_type": "markdown",
      "id": "1dac7410",
      "metadata": {
        "papermill": {
          "duration": 0.00999,
          "end_time": "2025-02-01T19:46:48.328554",
          "exception": false,
          "start_time": "2025-02-01T19:46:48.318564",
          "status": "completed"
        },
        "tags": [],
        "id": "1dac7410"
      },
      "source": [
        "## Defining functions to load files and downsample them\n",
        "\n",
        "As this research aims to develop a binary detector (Attack or Normal), we should balance the dataset between these two classes. However, CIC-DDOS2019 has few normal flows in it. Thus, downsampling is necessary.\n",
        "\n",
        "For the downsampling process, we allow anomalous flows to be \"mult\" times bigger than normal flows. This approach aims to reduce class disbalance while preventing information losses on attack flows (when the number of attack flows is downsampled to the number of normal ones, ML models could not fit appropriately).  "
      ]
    },
    {
      "cell_type": "code",
      "execution_count": null,
      "id": "2f95466d",
      "metadata": {
        "papermill": {
          "duration": 0.019678,
          "end_time": "2025-02-01T19:46:48.358459",
          "exception": false,
          "start_time": "2025-02-01T19:46:48.338781",
          "status": "completed"
        },
        "tags": [],
        "id": "2f95466d"
      },
      "outputs": [],
      "source": [
        "import pandas as pd\n",
        "import random\n",
        "from sklearn.utils import resample\n",
        "\n",
        "mult = 5\n",
        "num_samples = 5000  # Variable to control the number of rows to read\n",
        "\n",
        "def load_file(path):\n",
        "    # Count total lines in the file (excluding header)\n",
        "    total_lines = sum(1 for _ in open(path)) - 1\n",
        "\n",
        "    # Ensure at most `num_samples` rows are read randomly\n",
        "    if total_lines > num_samples:\n",
        "        skip_rows = sorted(random.sample(range(1, total_lines + 1), total_lines - num_samples))\n",
        "    else:\n",
        "        skip_rows = None  # Read entire file if it's smaller than `num_samples`\n",
        "\n",
        "    data = pd.read_csv(path, skiprows=skip_rows, sep=',', low_memory=False)\n",
        "\n",
        "    is_benign = data[' Label'] == 'BENIGN'\n",
        "    flows_ok = data[is_benign]\n",
        "    flows_ddos_full = data[~is_benign]\n",
        "\n",
        "    sizeDownSample = max(1, len(flows_ok) * mult)  # Ensure at least 1 sample\n",
        "    # sizeDownSample = len(flows_ok) * mult  # Target size for anomalous data\n",
        "\n",
        "    # Downsample majority class\n",
        "    if sizeDownSample < len(flows_ddos_full):\n",
        "        flows_ddos_reduced = resample(\n",
        "            flows_ddos_full,\n",
        "            replace=False,\n",
        "            n_samples=sizeDownSample,\n",
        "            random_state=27\n",
        "        )\n",
        "    else:\n",
        "        flows_ddos_reduced = flows_ddos_full\n",
        "\n",
        "    final_df = pd.concat([flows_ok, flows_ddos_reduced])\n",
        "\n",
        "    return final_df\n",
        "\n",
        "\n",
        "def load_huge_file(path):\n",
        "    total_lines = sum(1 for _ in open(path)) - 1\n",
        "\n",
        "    if total_lines > num_samples:\n",
        "        skip_rows = sorted(random.sample(range(1, total_lines + 1), total_lines - num_samples))\n",
        "    else:\n",
        "        skip_rows = None\n",
        "\n",
        "    df_chunk = pd.read_csv(path, skiprows=skip_rows, chunksize=500000, low_memory=False)\n",
        "\n",
        "    chunk_list_ok = []\n",
        "    chunk_list_ddos = []\n",
        "\n",
        "    for chunk in df_chunk:\n",
        "        is_benign = chunk[' Label'] == 'BENIGN'\n",
        "        flows_ok = chunk[is_benign]\n",
        "        flows_ddos_full = chunk[~is_benign]\n",
        "\n",
        "        if (len(flows_ok) * mult) < len(flows_ddos_full):\n",
        "            # sizeDownSample = len(flows_ok) * mult\n",
        "            sizeDownSample = max(1, len(flows_ok) * mult)  # Ensure at least 1 sample\n",
        "\n",
        "            flows_ddos_reduced = resample(\n",
        "                flows_ddos_full,\n",
        "                replace=False,\n",
        "                n_samples=sizeDownSample,\n",
        "                random_state=27\n",
        "            )\n",
        "        else:\n",
        "            flows_ddos_reduced = flows_ddos_full\n",
        "\n",
        "        chunk_list_ok.append(flows_ok)\n",
        "        chunk_list_ddos.append(flows_ddos_reduced)\n",
        "\n",
        "    flows_ok = pd.concat(chunk_list_ok)\n",
        "    flows_ddos = pd.concat(chunk_list_ddos)\n",
        "\n",
        "    final_df = pd.concat([flows_ok, flows_ddos])\n",
        "\n",
        "    return final_df\n"
      ]
    },
    {
      "cell_type": "markdown",
      "source": [
        "COnnecting kaggle"
      ],
      "metadata": {
        "id": "b74AXkJ5t2Xm"
      },
      "id": "b74AXkJ5t2Xm"
    },
    {
      "cell_type": "markdown",
      "source": [
        "Upload the kagle file downloaded from kagle api section\n"
      ],
      "metadata": {
        "id": "J19L1Ljlt4Nf"
      },
      "id": "J19L1Ljlt4Nf"
    },
    {
      "cell_type": "code",
      "source": [
        "from google.colab import files\n",
        "files.upload()"
      ],
      "metadata": {
        "id": "qb2hmGQEt9tE"
      },
      "id": "qb2hmGQEt9tE",
      "execution_count": null,
      "outputs": []
    },
    {
      "cell_type": "code",
      "source": [
        "!mkdir -p ~/.kaggle\n",
        "!mv kaggle.json ~/.kaggle/\n",
        "!chmod 600 ~/.kaggle/kaggle.json"
      ],
      "metadata": {
        "id": "f7luZIewuR2R"
      },
      "id": "f7luZIewuR2R",
      "execution_count": null,
      "outputs": []
    },
    {
      "cell_type": "code",
      "source": [
        "!pip install kaggle"
      ],
      "metadata": {
        "colab": {
          "base_uri": "https://localhost:8080/"
        },
        "id": "CEi4aMIluXbc",
        "outputId": "86c9944f-2a98-46a7-9d6a-84c8c83b15df"
      },
      "id": "CEi4aMIluXbc",
      "execution_count": null,
      "outputs": [
        {
          "output_type": "stream",
          "name": "stdout",
          "text": [
            "Requirement already satisfied: kaggle in /usr/local/lib/python3.11/dist-packages (1.7.4.2)\n",
            "Requirement already satisfied: bleach in /usr/local/lib/python3.11/dist-packages (from kaggle) (6.2.0)\n",
            "Requirement already satisfied: certifi>=14.05.14 in /usr/local/lib/python3.11/dist-packages (from kaggle) (2025.1.31)\n",
            "Requirement already satisfied: charset-normalizer in /usr/local/lib/python3.11/dist-packages (from kaggle) (3.4.1)\n",
            "Requirement already satisfied: idna in /usr/local/lib/python3.11/dist-packages (from kaggle) (3.10)\n",
            "Requirement already satisfied: protobuf in /usr/local/lib/python3.11/dist-packages (from kaggle) (5.29.4)\n",
            "Requirement already satisfied: python-dateutil>=2.5.3 in /usr/local/lib/python3.11/dist-packages (from kaggle) (2.8.2)\n",
            "Requirement already satisfied: python-slugify in /usr/local/lib/python3.11/dist-packages (from kaggle) (8.0.4)\n",
            "Requirement already satisfied: requests in /usr/local/lib/python3.11/dist-packages (from kaggle) (2.32.3)\n",
            "Requirement already satisfied: setuptools>=21.0.0 in /usr/local/lib/python3.11/dist-packages (from kaggle) (75.1.0)\n",
            "Requirement already satisfied: six>=1.10 in /usr/local/lib/python3.11/dist-packages (from kaggle) (1.17.0)\n",
            "Requirement already satisfied: text-unidecode in /usr/local/lib/python3.11/dist-packages (from kaggle) (1.3)\n",
            "Requirement already satisfied: tqdm in /usr/local/lib/python3.11/dist-packages (from kaggle) (4.67.1)\n",
            "Requirement already satisfied: urllib3>=1.15.1 in /usr/local/lib/python3.11/dist-packages (from kaggle) (2.3.0)\n",
            "Requirement already satisfied: webencodings in /usr/local/lib/python3.11/dist-packages (from kaggle) (0.5.1)\n"
          ]
        }
      ]
    },
    {
      "cell_type": "markdown",
      "source": [
        "### Download datasets using kaggle api"
      ],
      "metadata": {
        "id": "MzJb_zbLJ4I9"
      },
      "id": "MzJb_zbLJ4I9"
    },
    {
      "cell_type": "code",
      "source": [
        "!kaggle datasets download -d rodrigorosasilva/cic-ddos2019-30gb-full-dataset-csv-files"
      ],
      "metadata": {
        "colab": {
          "base_uri": "https://localhost:8080/"
        },
        "id": "-8YUMnXiuaas",
        "outputId": "c5fe3a13-2169-49e4-9fb6-6914e56ec48b"
      },
      "id": "-8YUMnXiuaas",
      "execution_count": null,
      "outputs": [
        {
          "output_type": "stream",
          "name": "stdout",
          "text": [
            "Dataset URL: https://www.kaggle.com/datasets/rodrigorosasilva/cic-ddos2019-30gb-full-dataset-csv-files\n",
            "License(s): other\n"
          ]
        }
      ]
    },
    {
      "cell_type": "markdown",
      "source": [
        "## Unzip the datasets"
      ],
      "metadata": {
        "id": "rHdbp0OlKDzT"
      },
      "id": "rHdbp0OlKDzT"
    },
    {
      "cell_type": "code",
      "source": [
        "!unzip cic-ddos2019-30gb-full-dataset-csv-files.zip -d /content/"
      ],
      "metadata": {
        "colab": {
          "base_uri": "https://localhost:8080/"
        },
        "id": "35Mn8p7IwU5Q",
        "outputId": "22ce01c3-dca3-405f-9908-5dd490373202"
      },
      "id": "35Mn8p7IwU5Q",
      "execution_count": null,
      "outputs": [
        {
          "output_type": "stream",
          "name": "stdout",
          "text": [
            "Archive:  cic-ddos2019-30gb-full-dataset-csv-files.zip\n",
            "  inflating: /content/01-12/DrDoS_DNS.csv  \n",
            "  inflating: /content/01-12/DrDoS_LDAP.csv  \n",
            "  inflating: /content/01-12/DrDoS_MSSQL.csv  \n",
            "  inflating: /content/01-12/DrDoS_NTP.csv  \n",
            "  inflating: /content/01-12/DrDoS_NetBIOS.csv  \n",
            "  inflating: /content/01-12/DrDoS_SNMP.csv  \n",
            "  inflating: /content/01-12/DrDoS_SSDP.csv  \n",
            "  inflating: /content/01-12/DrDoS_UDP.csv  \n",
            "  inflating: /content/01-12/Syn.csv  \n",
            "  inflating: /content/01-12/TFTP.csv  \n",
            "  inflating: /content/01-12/UDPLag.csv  \n",
            "  inflating: /content/03-11/LDAP.csv  \n",
            "  inflating: /content/03-11/MSSQL.csv  \n",
            "  inflating: /content/03-11/NetBIOS.csv  \n",
            "  inflating: /content/03-11/Portmap.csv  \n",
            "  inflating: /content/03-11/Syn.csv  \n",
            "  inflating: /content/03-11/UDP.csv  \n",
            "  inflating: /content/03-11/UDPLag.csv  \n"
          ]
        }
      ]
    },
    {
      "cell_type": "markdown",
      "id": "75645540",
      "metadata": {
        "papermill": {
          "duration": 0.00991,
          "end_time": "2025-02-01T19:46:48.378352",
          "exception": false,
          "start_time": "2025-02-01T19:46:48.368442",
          "status": "completed"
        },
        "tags": [],
        "id": "75645540"
      },
      "source": [
        "## Loading CIC-DDoS2019 - Day 1 (training)"
      ]
    },
    {
      "cell_type": "code",
      "execution_count": null,
      "id": "2d332ae7",
      "metadata": {
        "papermill": {
          "duration": 436.812152,
          "end_time": "2025-02-01T19:54:05.200445",
          "exception": false,
          "start_time": "2025-02-01T19:46:48.388293",
          "status": "completed"
        },
        "tags": [],
        "colab": {
          "base_uri": "https://localhost:8080/"
        },
        "id": "2d332ae7",
        "outputId": "19da2f43-0ab0-431f-c0d9-5275fe2becd6"
      },
      "outputs": [
        {
          "output_type": "stream",
          "name": "stdout",
          "text": [
            "file 1 loaded\n",
            "file 2 loaded DrDoS_LDAP.csv\n",
            "file 3 loaded DrDoS_MSSQL.csv\n",
            "file 4 loaded DrDoS_NetBIOS.csv\n",
            "file 5 loaded DrDoS_NTP.csv\n",
            "file 6 loaded DrDoS_SNMP.csv\n",
            "file 7 loaded DrDoS_SSDP.csv\n",
            "file 8 loaded DrDoS_UDP.csv\n",
            "file 9 loaded Syn.csv\n",
            "file 10 loaded DrDoS_DNS.csv\n",
            "file 11 loaded UDPLag.csv\n"
          ]
        }
      ],
      "source": [
        "# Load first file\n",
        "flows = load_huge_file('/content/01-12/TFTP.csv')\n",
        "print('file 1 loaded')\n",
        "\n",
        "# List of remaining files\n",
        "files = [\n",
        "    \"DrDoS_LDAP.csv\", \"DrDoS_MSSQL.csv\", \"DrDoS_NetBIOS.csv\",\n",
        "    \"DrDoS_NTP.csv\", \"DrDoS_SNMP.csv\", \"DrDoS_SSDP.csv\",\n",
        "    \"DrDoS_UDP.csv\", \"Syn.csv\", \"DrDoS_DNS.csv\", \"UDPLag.csv\"\n",
        "]\n",
        "\n",
        "# Process each file\n",
        "for i, file in enumerate(files, start=2):\n",
        "    df = load_file(f'01-12/{file}')\n",
        "\n",
        "    # Concatenate new file data\n",
        "    flows = pd.concat([flows, df], ignore_index=True)\n",
        "\n",
        "    print(f'file {i} loaded {file}')\n",
        "\n",
        "# Save to CSV\n",
        "flows.to_csv('/content/export_dataframe.csv', index=False, header=True)\n",
        "\n",
        "# Delete large variable\n",
        "del flows\n"
      ]
    },
    {
      "cell_type": "markdown",
      "id": "9f20c51b",
      "metadata": {
        "papermill": {
          "duration": 0.010216,
          "end_time": "2025-02-01T19:54:05.221480",
          "exception": false,
          "start_time": "2025-02-01T19:54:05.211264",
          "status": "completed"
        },
        "tags": [],
        "id": "9f20c51b"
      },
      "source": [
        "## Loading CIC-DDoS2019 - Day 2 (testing)"
      ]
    },
    {
      "cell_type": "code",
      "execution_count": null,
      "id": "c90ea049",
      "metadata": {
        "papermill": {
          "duration": 139.391783,
          "end_time": "2025-02-01T19:56:24.623613",
          "exception": false,
          "start_time": "2025-02-01T19:54:05.231830",
          "status": "completed"
        },
        "tags": [],
        "colab": {
          "base_uri": "https://localhost:8080/"
        },
        "id": "c90ea049",
        "outputId": "2729bfae-9c77-4774-a19b-28def7f48a7a"
      },
      "outputs": [
        {
          "output_type": "stream",
          "name": "stdout",
          "text": [
            "file 1 loaded\n",
            "file 2 loaded MSSQL.csv\n",
            "file 3 loaded NetBIOS.csv\n",
            "file 4 loaded Portmap.csv\n",
            "file 5 loaded Syn.csv\n"
          ]
        }
      ],
      "source": [
        "import pandas as pd\n",
        "\n",
        "# File paths\n",
        "base_path = \"/content/03-11/\"\n",
        "files = [\"LDAP.csv\", \"MSSQL.csv\", \"NetBIOS.csv\", \"Portmap.csv\", \"Syn.csv\"]\n",
        "# Uncomment if fixed\n",
        "# files += [\"UDP.csv\", \"UDPLag.csv\"]\n",
        "\n",
        "# Load first file\n",
        "flows = load_file(base_path + files[0])  # Expecting ONE DataFrame\n",
        "print('file 1 loaded')\n",
        "\n",
        "# Load remaining files\n",
        "for i, file in enumerate(files[1:], start=2):\n",
        "    df = load_file(base_path + file)  # Expecting ONE DataFrame\n",
        "\n",
        "    # Concatenate the new file data\n",
        "    flows = pd.concat([flows, df], ignore_index=True)\n",
        "\n",
        "    print(f'file {i} loaded {file}')\n",
        "\n",
        "# Save to CSV\n",
        "flows.to_csv('/content/export_tests.csv', index=False, header=True)\n",
        "\n",
        "# Free memory\n",
        "del flows, df\n"
      ]
    },
    {
      "cell_type": "markdown",
      "id": "a5eb3ace",
      "metadata": {
        "papermill": {
          "duration": 0.010953,
          "end_time": "2025-02-01T19:56:24.646163",
          "exception": false,
          "start_time": "2025-02-01T19:56:24.635210",
          "status": "completed"
        },
        "tags": [],
        "id": "a5eb3ace"
      },
      "source": [
        "## CIC-DDoS2019 Data Processing"
      ]
    },
    {
      "cell_type": "code",
      "execution_count": null,
      "id": "bf38e0b7",
      "metadata": {
        "papermill": {
          "duration": 0.086362,
          "end_time": "2025-02-01T19:56:24.743255",
          "exception": false,
          "start_time": "2025-02-01T19:56:24.656893",
          "status": "completed"
        },
        "tags": [],
        "colab": {
          "base_uri": "https://localhost:8080/"
        },
        "id": "bf38e0b7",
        "outputId": "54f71cdf-b08c-497c-dd31-eec362c3afce"
      },
      "outputs": [
        {
          "output_type": "stream",
          "name": "stdout",
          "text": [
            "Training data processed successfully!\n"
          ]
        },
        {
          "output_type": "stream",
          "name": "stderr",
          "text": [
            "<ipython-input-14-8e3346d7f06d>:20: FutureWarning: Downcasting behavior in `replace` is deprecated and will be removed in a future version. To retain the old behavior, explicitly call `result.infer_objects(copy=False)`. To opt-in to the future behavior, set `pd.set_option('future.no_silent_downcasting', True)`\n",
            "  samples[' Label'] = samples[' Label'].replace({\n"
          ]
        }
      ],
      "source": [
        "import pandas as pd\n",
        "import numpy as np\n",
        "import hashlib\n",
        "\n",
        "# Load dataset\n",
        "samples = pd.read_csv('/content/export_dataframe.csv', sep=',')\n",
        "\n",
        "# Function to convert string to numeric hash\n",
        "def string2numeric_hash(text):\n",
        "    return int(hashlib.md5(text.encode()).hexdigest()[:8], 16)\n",
        "\n",
        "# Replace infinite values\n",
        "samples = samples.replace(['Infinity', np.inf], 0)\n",
        "\n",
        "# Convert numerical columns safely\n",
        "samples[' Flow Packets/s'] = pd.to_numeric(samples[' Flow Packets/s'], errors='coerce').fillna(0)\n",
        "samples['Flow Bytes/s'] = pd.to_numeric(samples['Flow Bytes/s'], errors='coerce').fillna(0)\n",
        "\n",
        "# Convert labels to numeric\n",
        "samples[' Label'] = samples[' Label'].replace({\n",
        "    'BENIGN': 0, 'DrDoS_DNS': 1, 'DrDoS_LDAP': 1, 'DrDoS_MSSQL': 1,\n",
        "    'DrDoS_NTP': 1, 'DrDoS_NetBIOS': 1, 'DrDoS_SNMP': 1, 'DrDoS_SSDP': 1,\n",
        "    'DrDoS_UDP': 1, 'Syn': 1, 'TFTP': 1, 'UDP-lag': 1, 'WebDDoS': 1\n",
        "}).astype(int)\n",
        "\n",
        "# Ensure no NaN timestamps before splitting\n",
        "samples[' Timestamp'] = samples[' Timestamp'].fillna('1970-01-01 00:00:00.000000')\n",
        "\n",
        "# Process timestamps\n",
        "colunaTime = samples[' Timestamp'].str.split(' ', n=1, expand=True)\n",
        "colunaTime.columns = ['dia', 'horas']\n",
        "colunaTime = colunaTime['horas'].str.split('.', n=1, expand=True)\n",
        "colunaTime.columns = ['horas', 'milisec']\n",
        "samples[' Timestamp'] = colunaTime['horas'].apply(string2numeric_hash)\n",
        "\n",
        "# Drop unnecessary columns\n",
        "samples.drop(columns=[' Source IP', ' Destination IP', 'Flow ID', 'SimillarHTTP', 'Unnamed: 0'], inplace=True)\n",
        "\n",
        "# Save processed dataset\n",
        "samples.to_csv('/content/export_dataframe_proc.csv', index=False, header=True)\n",
        "\n",
        "print('Training data processed successfully!')\n"
      ]
    },
    {
      "cell_type": "code",
      "execution_count": null,
      "id": "f8735a6f",
      "metadata": {
        "papermill": {
          "duration": 0.07234,
          "end_time": "2025-02-01T19:56:24.826915",
          "exception": false,
          "start_time": "2025-02-01T19:56:24.754575",
          "status": "completed"
        },
        "tags": [],
        "colab": {
          "base_uri": "https://localhost:8080/"
        },
        "id": "f8735a6f",
        "outputId": "c455bf84-6b46-4c70-8cee-192dbce95ca5"
      },
      "outputs": [
        {
          "output_type": "stream",
          "name": "stdout",
          "text": [
            "Test data processed successfully!\n"
          ]
        },
        {
          "output_type": "stream",
          "name": "stderr",
          "text": [
            "<ipython-input-15-55af07190a15>:20: FutureWarning: Downcasting behavior in `replace` is deprecated and will be removed in a future version. To retain the old behavior, explicitly call `result.infer_objects(copy=False)`. To opt-in to the future behavior, set `pd.set_option('future.no_silent_downcasting', True)`\n",
            "  tests[' Label'] = tests[' Label'].replace({\n"
          ]
        }
      ],
      "source": [
        "import pandas as pd\n",
        "import numpy as np\n",
        "import hashlib\n",
        "\n",
        "# Load dataset\n",
        "tests = pd.read_csv('/content/export_tests.csv', sep=',')\n",
        "\n",
        "# Function to convert string to numeric hash\n",
        "def string2numeric_hash(text):\n",
        "    return int(hashlib.md5(text.encode()).hexdigest()[:8], 16)\n",
        "\n",
        "# Replace infinite values\n",
        "tests = tests.replace(['Infinity', np.inf], 0)\n",
        "\n",
        "# Convert numerical columns safely\n",
        "tests[' Flow Packets/s'] = pd.to_numeric(tests[' Flow Packets/s'], errors='coerce').fillna(0)\n",
        "tests['Flow Bytes/s'] = pd.to_numeric(tests['Flow Bytes/s'], errors='coerce').fillna(0)\n",
        "\n",
        "# Convert labels to numeric\n",
        "tests[' Label'] = tests[' Label'].replace({\n",
        "    'BENIGN': 0, 'LDAP': 1, 'NetBIOS': 1, 'MSSQL': 1,\n",
        "    'Portmap': 1, 'Syn': 1\n",
        "}).astype(int)\n",
        "\n",
        "# Ensure no NaN timestamps before splitting\n",
        "tests[' Timestamp'] = tests[' Timestamp'].fillna('1970-01-01 00:00:00.000000')\n",
        "\n",
        "# Process timestamps\n",
        "colunaTime = tests[' Timestamp'].str.split(' ', n=1, expand=True)\n",
        "colunaTime.columns = ['dia', 'horas']\n",
        "colunaTime = colunaTime['horas'].str.split('.', n=1, expand=True)\n",
        "colunaTime.columns = ['horas', 'milisec']\n",
        "tests[' Timestamp'] = colunaTime['horas'].apply(string2numeric_hash)\n",
        "\n",
        "# Drop unnecessary columns\n",
        "tests.drop(columns=[' Source IP', ' Destination IP', 'Flow ID', 'SimillarHTTP', 'Unnamed: 0'], inplace=True)\n",
        "\n",
        "# Save processed dataset\n",
        "tests.to_csv('/content/export_tests_proc.csv', index=False, header=True)\n",
        "\n",
        "print('Test data processed successfully!')\n"
      ]
    },
    {
      "cell_type": "markdown",
      "id": "c6a9cc12",
      "metadata": {
        "papermill": {
          "duration": 0.010729,
          "end_time": "2025-02-01T19:56:24.848936",
          "exception": false,
          "start_time": "2025-02-01T19:56:24.838207",
          "status": "completed"
        },
        "tags": [],
        "id": "c6a9cc12"
      },
      "source": [
        "## Methods implementation\n",
        "\n",
        "Importing required library"
      ]
    },
    {
      "cell_type": "code",
      "execution_count": null,
      "id": "dbf9a6d1",
      "metadata": {
        "papermill": {
          "duration": 11.370589,
          "end_time": "2025-02-01T19:56:36.230412",
          "exception": false,
          "start_time": "2025-02-01T19:56:24.859823",
          "status": "completed"
        },
        "tags": [],
        "id": "dbf9a6d1"
      },
      "outputs": [],
      "source": [
        "# Import required libraries\n",
        "from keras.models import Sequential\n",
        "\n",
        "from keras.layers import Dense,GRU,Embedding,Dropout,Flatten,Conv1D,MaxPooling1D,LSTM\n",
        "from sklearn.svm import SVC\n",
        "from sklearn.linear_model import LogisticRegression, SGDClassifier\n",
        "from sklearn.neighbors import KNeighborsClassifier"
      ]
    },
    {
      "cell_type": "markdown",
      "id": "083cc564",
      "metadata": {
        "papermill": {
          "duration": 0.010782,
          "end_time": "2025-02-01T19:56:36.252779",
          "exception": false,
          "start_time": "2025-02-01T19:56:36.241997",
          "status": "completed"
        },
        "tags": [],
        "id": "083cc564"
      },
      "source": [
        "### Gated Recurrent Units (GRU)"
      ]
    },
    {
      "cell_type": "code",
      "execution_count": null,
      "id": "4a14163e",
      "metadata": {
        "papermill": {
          "duration": 0.017529,
          "end_time": "2025-02-01T19:56:36.281150",
          "exception": false,
          "start_time": "2025-02-01T19:56:36.263621",
          "status": "completed"
        },
        "tags": [],
        "id": "4a14163e"
      },
      "outputs": [],
      "source": [
        "#input_size\n",
        "# -> CIC-DDoS2019 82\n",
        "# -> CIC-IDS2018 78\n",
        "\n",
        "def GRU_model(input_size):\n",
        "\n",
        "    # Initialize the constructor\n",
        "    model = Sequential()\n",
        "\n",
        "    model.add(GRU(32, input_shape=(input_size,1), return_sequences=False)) #\n",
        "    model.add(Dropout(0.5))\n",
        "    model.add(Dense(10, activation='relu'))\n",
        "    model.add(Dense(1, activation='sigmoid'))\n",
        "\n",
        "    model.build()\n",
        "    print(model.summary())\n",
        "\n",
        "    return model"
      ]
    },
    {
      "cell_type": "markdown",
      "id": "5e4f037b",
      "metadata": {
        "papermill": {
          "duration": 0.010513,
          "end_time": "2025-02-01T19:56:36.302442",
          "exception": false,
          "start_time": "2025-02-01T19:56:36.291929",
          "status": "completed"
        },
        "tags": [],
        "id": "5e4f037b"
      },
      "source": [
        "### Convolutional Neural Network (CNN)"
      ]
    },
    {
      "cell_type": "code",
      "execution_count": null,
      "id": "25a78607",
      "metadata": {
        "papermill": {
          "duration": 0.01692,
          "end_time": "2025-02-01T19:56:36.330088",
          "exception": false,
          "start_time": "2025-02-01T19:56:36.313168",
          "status": "completed"
        },
        "tags": [],
        "id": "25a78607"
      },
      "outputs": [],
      "source": [
        "def CNN_model(input_size):\n",
        "\n",
        "    # Initialize the constructor\n",
        "    model = Sequential()\n",
        "\n",
        "    model.add(Conv1D(filters=64, kernel_size=8, activation='relu', input_shape=(input_size,1)))\n",
        "    model.add(MaxPooling1D(2))\n",
        "    model.add(Conv1D(filters=32, kernel_size=16, activation='relu'))\n",
        "    model.add(MaxPooling1D(2))\n",
        "    model.add(Conv1D(filters=16, kernel_size=3, activation='relu'))\n",
        "    model.add(MaxPooling1D(2))\n",
        "\n",
        "    model.add(Dropout(0.5))\n",
        "\n",
        "    model.add(Flatten())\n",
        "    model.add(Dense(10, activation='relu'))\n",
        "    model.add(Dense(1, activation='sigmoid'))\n",
        "\n",
        "    print(model.summary())\n",
        "\n",
        "    return model"
      ]
    },
    {
      "cell_type": "markdown",
      "id": "ee3c40a7",
      "metadata": {
        "papermill": {
          "duration": 0.010646,
          "end_time": "2025-02-01T19:56:36.351758",
          "exception": false,
          "start_time": "2025-02-01T19:56:36.341112",
          "status": "completed"
        },
        "tags": [],
        "id": "ee3c40a7"
      },
      "source": [
        "### Long-Short Term Memory (LSTM)"
      ]
    },
    {
      "cell_type": "code",
      "execution_count": null,
      "id": "03ce1114",
      "metadata": {
        "papermill": {
          "duration": 0.016427,
          "end_time": "2025-02-01T19:56:36.379001",
          "exception": false,
          "start_time": "2025-02-01T19:56:36.362574",
          "status": "completed"
        },
        "tags": [],
        "id": "03ce1114"
      },
      "outputs": [],
      "source": [
        "def LSTM_model(input_size):\n",
        "\n",
        "    # Initialize the constructor\n",
        "    model = Sequential()\n",
        "\n",
        "    model.add(LSTM(32,input_shape=(input_size,1), return_sequences=False))\n",
        "    model.add(Dropout(0.5))\n",
        "    model.add(Dense(10, activation='relu'))\n",
        "    model.add(Dense(1, activation='sigmoid'))\n",
        "\n",
        "    print(model.summary())\n",
        "\n",
        "    return model"
      ]
    },
    {
      "cell_type": "markdown",
      "id": "cd6bea10",
      "metadata": {
        "papermill": {
          "duration": 0.010598,
          "end_time": "2025-02-01T19:56:36.400357",
          "exception": false,
          "start_time": "2025-02-01T19:56:36.389759",
          "status": "completed"
        },
        "tags": [],
        "id": "cd6bea10"
      },
      "source": [
        "### Deep Neural Network (DNN)"
      ]
    },
    {
      "cell_type": "code",
      "execution_count": null,
      "id": "4807eec1",
      "metadata": {
        "papermill": {
          "duration": 0.016231,
          "end_time": "2025-02-01T19:56:36.427927",
          "exception": false,
          "start_time": "2025-02-01T19:56:36.411696",
          "status": "completed"
        },
        "tags": [],
        "id": "4807eec1"
      },
      "outputs": [],
      "source": [
        "def DNN_model(input_size):\n",
        "\n",
        "    # Initialize the constructor\n",
        "    model = Sequential()\n",
        "\n",
        "    model.add(Dense(2, activation='relu', input_shape=(input_size,)))\n",
        "    #model.add(Dense(100, activation='relu'))\n",
        "    #model.add(Dense(40, activation='relu'))\n",
        "    #model.add(Dense(10, activation='relu'))\n",
        "    #model.add(Dropout(0.5))\n",
        "    model.add(Dense(1, activation='sigmoid'))\n",
        "\n",
        "    print(model.summary())\n",
        "\n",
        "    return model"
      ]
    },
    {
      "cell_type": "markdown",
      "id": "8b28881a",
      "metadata": {
        "papermill": {
          "duration": 0.010544,
          "end_time": "2025-02-01T19:56:36.449223",
          "exception": false,
          "start_time": "2025-02-01T19:56:36.438679",
          "status": "completed"
        },
        "tags": [],
        "id": "8b28881a"
      },
      "source": [
        "### Support Vector Machine (SVM)"
      ]
    },
    {
      "cell_type": "code",
      "execution_count": null,
      "id": "e6031b02",
      "metadata": {
        "papermill": {
          "duration": 0.015549,
          "end_time": "2025-02-01T19:56:36.475534",
          "exception": false,
          "start_time": "2025-02-01T19:56:36.459985",
          "status": "completed"
        },
        "tags": [],
        "id": "e6031b02"
      },
      "outputs": [],
      "source": [
        "def SVM():\n",
        "    return SVC(kernel='linear')"
      ]
    },
    {
      "cell_type": "markdown",
      "id": "5b052937",
      "metadata": {
        "papermill": {
          "duration": 0.010976,
          "end_time": "2025-02-01T19:56:36.497952",
          "exception": false,
          "start_time": "2025-02-01T19:56:36.486976",
          "status": "completed"
        },
        "tags": [],
        "id": "5b052937"
      },
      "source": [
        "### Logistic Regression (LR)"
      ]
    },
    {
      "cell_type": "code",
      "execution_count": null,
      "id": "9603796e",
      "metadata": {
        "papermill": {
          "duration": 0.016598,
          "end_time": "2025-02-01T19:56:36.526025",
          "exception": false,
          "start_time": "2025-02-01T19:56:36.509427",
          "status": "completed"
        },
        "tags": [],
        "id": "9603796e"
      },
      "outputs": [],
      "source": [
        "def LR():\n",
        "    return LogisticRegression()"
      ]
    },
    {
      "cell_type": "markdown",
      "id": "55bd79fd",
      "metadata": {
        "papermill": {
          "duration": 0.049747,
          "end_time": "2025-02-01T19:56:36.586782",
          "exception": false,
          "start_time": "2025-02-01T19:56:36.537035",
          "status": "completed"
        },
        "tags": [],
        "id": "55bd79fd"
      },
      "source": [
        "### Gradient Descent (GD)"
      ]
    },
    {
      "cell_type": "code",
      "execution_count": null,
      "id": "43999f69",
      "metadata": {
        "papermill": {
          "duration": 0.016035,
          "end_time": "2025-02-01T19:56:36.613884",
          "exception": false,
          "start_time": "2025-02-01T19:56:36.597849",
          "status": "completed"
        },
        "tags": [],
        "id": "43999f69"
      },
      "outputs": [],
      "source": [
        "def GD():\n",
        "    return SGDClassifier()"
      ]
    },
    {
      "cell_type": "markdown",
      "id": "779e6bdd",
      "metadata": {
        "papermill": {
          "duration": 0.01056,
          "end_time": "2025-02-01T19:56:36.635269",
          "exception": false,
          "start_time": "2025-02-01T19:56:36.624709",
          "status": "completed"
        },
        "tags": [],
        "id": "779e6bdd"
      },
      "source": [
        "### k Nearest Neighbors (kNN)"
      ]
    },
    {
      "cell_type": "code",
      "execution_count": null,
      "id": "cd017ce8",
      "metadata": {
        "papermill": {
          "duration": 0.01597,
          "end_time": "2025-02-01T19:56:36.661972",
          "exception": false,
          "start_time": "2025-02-01T19:56:36.646002",
          "status": "completed"
        },
        "tags": [],
        "id": "cd017ce8"
      },
      "outputs": [],
      "source": [
        "def kNN():\n",
        "    return KNeighborsClassifier(n_neighbors=3, n_jobs=-1)"
      ]
    },
    {
      "cell_type": "markdown",
      "id": "ab35d514",
      "metadata": {
        "papermill": {
          "duration": 0.010648,
          "end_time": "2025-02-01T19:56:36.683639",
          "exception": false,
          "start_time": "2025-02-01T19:56:36.672991",
          "status": "completed"
        },
        "tags": [],
        "id": "ab35d514"
      },
      "source": [
        "# Auxiliar Functions\n",
        "\n",
        "Implementation of auxiliar functions, such as testing, compiling/training, 3d reshape, etc."
      ]
    },
    {
      "cell_type": "markdown",
      "id": "72f18b29",
      "metadata": {
        "papermill": {
          "duration": 0.011054,
          "end_time": "2025-02-01T19:56:36.705553",
          "exception": false,
          "start_time": "2025-02-01T19:56:36.694499",
          "status": "completed"
        },
        "tags": [],
        "id": "72f18b29"
      },
      "source": [
        "### train_test(samples)\n",
        "> Receives a group of samples and split it in train/test sets."
      ]
    },
    {
      "cell_type": "code",
      "execution_count": null,
      "id": "a39cc6a3",
      "metadata": {
        "papermill": {
          "duration": 0.016753,
          "end_time": "2025-02-01T19:56:36.733116",
          "exception": false,
          "start_time": "2025-02-01T19:56:36.716363",
          "status": "completed"
        },
        "tags": [],
        "id": "a39cc6a3"
      },
      "outputs": [],
      "source": [
        "def train_test(samples):\n",
        "    # Import `train_test_split` from `sklearn.model_selection`\n",
        "    from sklearn.model_selection import train_test_split\n",
        "    import numpy as np\n",
        "\n",
        "    # Specify the data\n",
        "    X=samples.iloc[:,0:(samples.shape[1]-1)]\n",
        "\n",
        "    # Specify the target labels and flatten the array\n",
        "    #y= np.ravel(amostras.type)\n",
        "    y= samples.iloc[:,-1]\n",
        "\n",
        "    # Split the data up in train and test sets\n",
        "    X_train, X_test, y_train, y_test = train_test_split(X, y, test_size=0.33, random_state=42)\n",
        "\n",
        "    return X_train, X_test, y_train, y_test\n"
      ]
    },
    {
      "cell_type": "markdown",
      "id": "4a52c269",
      "metadata": {
        "papermill": {
          "duration": 0.010742,
          "end_time": "2025-02-01T19:56:36.754724",
          "exception": false,
          "start_time": "2025-02-01T19:56:36.743982",
          "status": "completed"
        },
        "tags": [],
        "id": "4a52c269"
      },
      "source": [
        "### normalize_data(X_train,X_test)\n",
        "\n",
        "> Normalize data between -1 and 1"
      ]
    },
    {
      "cell_type": "code",
      "execution_count": null,
      "id": "d3bb7648",
      "metadata": {
        "papermill": {
          "duration": 0.01611,
          "end_time": "2025-02-01T19:56:36.781692",
          "exception": false,
          "start_time": "2025-02-01T19:56:36.765582",
          "status": "completed"
        },
        "tags": [],
        "id": "d3bb7648"
      },
      "outputs": [],
      "source": [
        "# normalize input data\n",
        "\n",
        "def normalize_data(X_train,X_test):\n",
        "    # Import `StandardScaler` from `sklearn.preprocessing`\n",
        "    from sklearn.preprocessing import StandardScaler,MinMaxScaler\n",
        "\n",
        "    # Define the scaler\n",
        "    #scaler = StandardScaler().fit(X_train)\n",
        "    scaler = MinMaxScaler(feature_range=(-1, 1)).fit(X_train)\n",
        "\n",
        "    # Scale the train set\n",
        "    X_train = scaler.transform(X_train)\n",
        "\n",
        "    # Scale the test set\n",
        "    X_test = scaler.transform(X_test)\n",
        "\n",
        "    return X_train, X_test\n"
      ]
    },
    {
      "cell_type": "markdown",
      "id": "f5319aa8",
      "metadata": {
        "papermill": {
          "duration": 0.01061,
          "end_time": "2025-02-01T19:56:36.803318",
          "exception": false,
          "start_time": "2025-02-01T19:56:36.792708",
          "status": "completed"
        },
        "tags": [],
        "id": "f5319aa8"
      },
      "source": [
        "### format_{2,3}d()\n",
        "\n",
        "> Reshape data in 3d or 2d format (for input in methods such as GRU, CNN and LSTM)"
      ]
    },
    {
      "cell_type": "code",
      "execution_count": null,
      "id": "b7de2364",
      "metadata": {
        "papermill": {
          "duration": 0.015881,
          "end_time": "2025-02-01T19:56:36.829989",
          "exception": false,
          "start_time": "2025-02-01T19:56:36.814108",
          "status": "completed"
        },
        "tags": [],
        "id": "b7de2364"
      },
      "outputs": [],
      "source": [
        "# Reshape data input\n",
        "\n",
        "def format_3d(df):\n",
        "\n",
        "    X = np.array(df)\n",
        "    return np.reshape(X, (X.shape[0], X.shape[1], 1))\n",
        "\n",
        "def format_2d(df):\n",
        "\n",
        "    X = np.array(df)\n",
        "    return np.reshape(X, (X.shape[0], X.shape[1]))"
      ]
    },
    {
      "cell_type": "markdown",
      "id": "dc3ebcf1",
      "metadata": {
        "papermill": {
          "duration": 0.010512,
          "end_time": "2025-02-01T19:56:36.851449",
          "exception": false,
          "start_time": "2025-02-01T19:56:36.840937",
          "status": "completed"
        },
        "tags": [],
        "id": "dc3ebcf1"
      },
      "source": [
        "### compile_train(model,X_train,y_train,deep=True)\n",
        "\n",
        "> Compile and train learning model\n",
        "\n",
        "> deep = False for scikit-learn ML methods\n"
      ]
    },
    {
      "cell_type": "code",
      "execution_count": null,
      "id": "e9e103e7",
      "metadata": {
        "papermill": {
          "duration": 0.017561,
          "end_time": "2025-02-01T19:56:36.879729",
          "exception": false,
          "start_time": "2025-02-01T19:56:36.862168",
          "status": "completed"
        },
        "tags": [],
        "id": "e9e103e7"
      },
      "outputs": [],
      "source": [
        "# compile and train learning model\n",
        "def compile_train(model, X_train, y_train, deep=True):\n",
        "\n",
        "    if(deep==True):\n",
        "        import matplotlib.pyplot as plt\n",
        "\n",
        "        model.compile(loss='binary_crossentropy',\n",
        "                      optimizer='adam',\n",
        "                      metrics=['accuracy'])\n",
        "\n",
        "        history = model.fit(X_train, y_train, epochs=10, batch_size=256, verbose=1)\n",
        "\n",
        "        # summarize history for accuracy\n",
        "        plt.plot(history.history['accuracy'])  # Corrected key from 'acc' to 'accuracy'\n",
        "        plt.title('Model Accuracy')\n",
        "        plt.ylabel('Accuracy')\n",
        "        plt.xlabel('Epoch')\n",
        "        plt.legend(['Train'], loc='upper left')\n",
        "        plt.show()\n",
        "\n",
        "        # summarize history for loss\n",
        "        plt.plot(history.history['loss'])\n",
        "        plt.title('Model Loss')\n",
        "        plt.ylabel('Loss')\n",
        "        plt.xlabel('Epoch')\n",
        "        plt.legend(['Train'], loc='upper left')\n",
        "        plt.show()\n",
        "\n",
        "        print(model.metrics_names)\n",
        "\n",
        "    else:\n",
        "        model.fit(X_train, y_train)  # For SVM, LR, GD\n",
        "\n",
        "    print('Model Compiled and Trained')\n",
        "    return model\n"
      ]
    },
    {
      "cell_type": "markdown",
      "id": "ff5f7d64",
      "metadata": {
        "papermill": {
          "duration": 0.010673,
          "end_time": "2025-02-01T19:56:36.901277",
          "exception": false,
          "start_time": "2025-02-01T19:56:36.890604",
          "status": "completed"
        },
        "tags": [],
        "id": "ff5f7d64"
      },
      "source": [
        "### testes(model,X_test,y_test,y_pred, deep=True)\n",
        "\n",
        "> Testing performance outcomes of the methods\n",
        "\n",
        "> deep = False for scikit-learn ML methods\n"
      ]
    },
    {
      "cell_type": "code",
      "execution_count": null,
      "id": "65248cd5",
      "metadata": {
        "papermill": {
          "duration": 0.017345,
          "end_time": "2025-02-01T19:56:36.929482",
          "exception": false,
          "start_time": "2025-02-01T19:56:36.912137",
          "status": "completed"
        },
        "tags": [],
        "id": "65248cd5"
      },
      "outputs": [],
      "source": [
        "# Testing performance outcomes of the methods\n",
        "\n",
        "def testes(model,X_test,y_test,y_pred, deep=True):\n",
        "    if(deep==True):\n",
        "        score = model.evaluate(X_test, y_test,verbose=1)\n",
        "\n",
        "        print(score)\n",
        "\n",
        "    # Alguns testes adicionais\n",
        "    #y_test = formatar2d(y_test)\n",
        "    #y_pred = formatar2d(y_pred)\n",
        "\n",
        "\n",
        "    # Import the modules from `sklearn.metrics`\n",
        "    from sklearn.metrics import confusion_matrix, precision_score, recall_score, f1_score, cohen_kappa_score, accuracy_score\n",
        "\n",
        "    # Accuracy\n",
        "    acc = accuracy_score(y_test, y_pred)\n",
        "    print('\\nAccuracy')\n",
        "    print(acc)\n",
        "\n",
        "    # Precision\n",
        "    prec = precision_score(y_test, y_pred)#,average='macro')\n",
        "    print('\\nPrecision')\n",
        "    print(prec)\n",
        "\n",
        "    # Recall\n",
        "    rec = recall_score(y_test, y_pred) #,average='macro')\n",
        "    print('\\nRecall')\n",
        "    print(rec)\n",
        "\n",
        "    # F1 score\n",
        "    f1 = f1_score(y_test,y_pred) #,average='macro')\n",
        "    print('\\nF1 Score')\n",
        "    print(f1)\n",
        "\n",
        "    #average\n",
        "    avrg = (acc+prec+rec+f1)/4\n",
        "    print('\\nAverage (acc, prec, rec, f1)')\n",
        "    print(avrg)\n",
        "\n",
        "    return acc, prec, rec, f1, avrg"
      ]
    },
    {
      "cell_type": "markdown",
      "id": "e859b336",
      "metadata": {
        "papermill": {
          "duration": 0.010654,
          "end_time": "2025-02-01T19:56:36.951106",
          "exception": false,
          "start_time": "2025-02-01T19:56:36.940452",
          "status": "completed"
        },
        "tags": [],
        "id": "e859b336"
      },
      "source": [
        "### test_normal_atk(y_test,y_pred):\n",
        "\n",
        "> Calculate the correct classification rate of normal and attack flow records"
      ]
    },
    {
      "cell_type": "code",
      "execution_count": null,
      "id": "56bb26e2",
      "metadata": {
        "papermill": {
          "duration": 0.016527,
          "end_time": "2025-02-01T19:56:36.978405",
          "exception": false,
          "start_time": "2025-02-01T19:56:36.961878",
          "status": "completed"
        },
        "tags": [],
        "id": "56bb26e2"
      },
      "outputs": [],
      "source": [
        "def test_normal_atk(y_test,y_pred):\n",
        "    df = pd.DataFrame()\n",
        "    df['y_test'] = y_test\n",
        "    df['y_pred'] = y_pred\n",
        "\n",
        "    normal = len(df.query('y_test == 0'))\n",
        "    atk = len(y_test)-normal\n",
        "\n",
        "    wrong = df.query('y_test != y_pred')\n",
        "\n",
        "    normal_detect_rate = (normal - wrong.groupby('y_test').count().iloc[0][0]) / normal\n",
        "    atk_detect_rate = (atk - wrong.groupby('y_test').count().iloc[1][0]) / atk\n",
        "\n",
        "    #print(normal_detect_rate,atk_detect_rate)\n",
        "\n",
        "    return normal_detect_rate, atk_detect_rate\n"
      ]
    },
    {
      "cell_type": "markdown",
      "source": [
        "**The replenished norma test atk function**"
      ],
      "metadata": {
        "id": "RGDoVDZM3vEh"
      },
      "id": "RGDoVDZM3vEh"
    },
    {
      "cell_type": "code",
      "source": [
        "def test_normal_atk(y_test, y_pred):\n",
        "    df = pd.DataFrame()\n",
        "    df['y_test'] = y_test\n",
        "    df['y_pred'] = y_pred\n",
        "\n",
        "    normal = len(df.query('y_test == 0'))\n",
        "    atk = len(y_test) - normal\n",
        "\n",
        "    wrong = df.query('y_test != y_pred')\n",
        "\n",
        "    # Group by y_test and get the count\n",
        "    wrong_counts = wrong.groupby('y_test').size().reset_index(name='count')\n",
        "\n",
        "    # Calculate normal detection rate\n",
        "    if normal > 0:\n",
        "        # Check if there are any misclassified normal examples\n",
        "        normal_wrong = wrong_counts[wrong_counts['y_test'] == 0]['count'].sum() if 0 in wrong_counts['y_test'].values else 0\n",
        "        normal_detect_rate = (normal - normal_wrong) / normal\n",
        "    else:\n",
        "        normal_detect_rate = 0\n",
        "\n",
        "    # Calculate attack detection rate\n",
        "    if atk > 0:\n",
        "        # Check if there are any misclassified attack examples\n",
        "        atk_wrong = wrong_counts[wrong_counts['y_test'] == 1]['count'].sum() if 1 in wrong_counts['y_test'].values else 0\n",
        "        atk_detect_rate = (atk - atk_wrong) / atk\n",
        "    else:\n",
        "        atk_detect_rate = 0\n",
        "\n",
        "    return normal_detect_rate, atk_detect_rate"
      ],
      "metadata": {
        "id": "JXyxuNXX3mEj"
      },
      "id": "JXyxuNXX3mEj",
      "execution_count": null,
      "outputs": []
    },
    {
      "cell_type": "markdown",
      "id": "9286d98d",
      "metadata": {
        "papermill": {
          "duration": 0.011489,
          "end_time": "2025-02-01T19:56:37.000874",
          "exception": false,
          "start_time": "2025-02-01T19:56:36.989385",
          "status": "completed"
        },
        "tags": [],
        "id": "9286d98d"
      },
      "source": [
        "### Saving and Loading methods\n",
        "\n",
        "> Methods for saving and loading trained models"
      ]
    },
    {
      "cell_type": "code",
      "execution_count": null,
      "id": "f6a7834b",
      "metadata": {
        "papermill": {
          "duration": 0.01816,
          "end_time": "2025-02-01T19:56:37.029969",
          "exception": false,
          "start_time": "2025-02-01T19:56:37.011809",
          "status": "completed"
        },
        "tags": [],
        "id": "f6a7834b"
      },
      "outputs": [],
      "source": [
        "# Save model and weights\n",
        "\n",
        "def save_model(model,name):\n",
        "    from keras.models import model_from_json\n",
        "\n",
        "    arq_json = 'Models/' + name + '.json'\n",
        "    model_json = model.to_json()\n",
        "    with open(arq_json,\"w\") as json_file:\n",
        "        json_file.write(model_json)\n",
        "\n",
        "    arq_h5 = 'Models/' + name + '.h5'\n",
        "    model.save_weights(arq_h5)\n",
        "    print('Model Saved')\n",
        "\n",
        "def load_model(name):\n",
        "    from keras.models import model_from_json\n",
        "\n",
        "    arq_json = 'Models/' + name + '.json'\n",
        "    json_file = open(arq_json,'r')\n",
        "    loaded_model_json = json_file.read()\n",
        "    json_file.close()\n",
        "    loaded_model = model_from_json(loaded_model_json)\n",
        "\n",
        "    arq_h5 = 'Models/' + name + '.h5'\n",
        "    loaded_model.load_weights(arq_h5)\n",
        "\n",
        "    print('Model loaded')\n",
        "\n",
        "    return loaded_model\n",
        "\n",
        "def save_Sklearn(model,nome):\n",
        "    import pickle\n",
        "    arquivo = 'Models/'+ nome + '.pkl'\n",
        "    with open(arquivo,'wb') as file:\n",
        "        pickle.dump(model,file)\n",
        "    print('Model sklearn saved')\n",
        "\n",
        "def load_Sklearn(nome):\n",
        "    import pickle\n",
        "    arquivo = 'Models/'+ nome + '.pkl'\n",
        "    with open(arquivo,'rb') as file:\n",
        "        model = pickle.load(file)\n",
        "    print('Model sklearn loaded')\n",
        "    return model"
      ]
    },
    {
      "cell_type": "markdown",
      "id": "a10bac65",
      "metadata": {
        "papermill": {
          "duration": 0.010815,
          "end_time": "2025-02-01T19:56:37.051681",
          "exception": false,
          "start_time": "2025-02-01T19:56:37.040866",
          "status": "completed"
        },
        "tags": [],
        "id": "a10bac65"
      },
      "source": [
        "# Main script for testing the learning methods\n",
        "\n",
        "> **Dataset - CIC-DDoS2019**\n",
        "\n",
        "Loading training dataset, upsampling normal flows for balancing the training set."
      ]
    },
    {
      "cell_type": "code",
      "execution_count": null,
      "id": "94802e65",
      "metadata": {
        "papermill": {
          "duration": 0.032867,
          "end_time": "2025-02-01T19:56:37.095372",
          "exception": false,
          "start_time": "2025-02-01T19:56:37.062505",
          "status": "completed"
        },
        "tags": [],
        "id": "94802e65"
      },
      "outputs": [],
      "source": [
        "# UPSAMPLE OF NORMAL FLOWS\n",
        "\n",
        "samples = pd.read_csv('/content/export_dataframe_proc.csv', sep=',')\n",
        "\n",
        "X_train, X_test, y_train, y_test = train_test(samples)\n",
        "\n",
        "\n",
        "#junta novamente pra aumentar o numero de normais\n",
        "X = pd.concat([X_train, y_train], axis=1)\n",
        "\n",
        "# separate minority and majority classes\n",
        "is_benign = X[' Label']==0 #base de dados toda junta\n",
        "\n",
        "normal = X[is_benign]\n",
        "ddos = X[~is_benign]\n",
        "\n",
        "# upsample minority\n",
        "normal_upsampled = resample(normal,\n",
        "                          replace=True, # sample with replacement\n",
        "                          n_samples=len(ddos), # match number in majority class\n",
        "                          random_state=27) # reproducible results\n",
        "\n",
        "# combine majority and upsampled minority\n",
        "upsampled = pd.concat([normal_upsampled, ddos])\n",
        "\n",
        "# Specify the data\n",
        "X_train=upsampled.iloc[:,0:(upsampled.shape[1]-1)]    #DDoS\n",
        "y_train= upsampled.iloc[:,-1]  #DDoS\n",
        "\n",
        "input_size = (X_train.shape[1], 1)\n",
        "\n",
        "del X, normal_upsampled, ddos, upsampled, normal #, l1, l2"
      ]
    },
    {
      "cell_type": "markdown",
      "id": "9755d851",
      "metadata": {
        "papermill": {
          "duration": 0.010708,
          "end_time": "2025-02-01T19:56:37.117064",
          "exception": false,
          "start_time": "2025-02-01T19:56:37.106356",
          "status": "completed"
        },
        "tags": [],
        "id": "9755d851"
      },
      "source": [
        "Importing the test dataset (day 2) and normalizing data."
      ]
    },
    {
      "cell_type": "code",
      "execution_count": null,
      "id": "5780c99c",
      "metadata": {
        "papermill": {
          "duration": 0.032716,
          "end_time": "2025-02-01T19:56:37.160633",
          "exception": false,
          "start_time": "2025-02-01T19:56:37.127917",
          "status": "completed"
        },
        "tags": [],
        "colab": {
          "base_uri": "https://localhost:8080/"
        },
        "id": "5780c99c",
        "outputId": "68a9200b-947a-4c4c-d47e-3068d9b92b32"
      },
      "outputs": [
        {
          "output_type": "stream",
          "name": "stdout",
          "text": [
            "(1152,)\n",
            "(1152, 82)\n"
          ]
        },
        {
          "output_type": "stream",
          "name": "stderr",
          "text": [
            "/usr/local/lib/python3.11/dist-packages/sklearn/utils/validation.py:2732: UserWarning: X has feature names, but MinMaxScaler was fitted without feature names\n",
            "  warnings.warn(\n"
          ]
        }
      ],
      "source": [
        "tests = pd.read_csv('/content/export_tests_proc.csv', sep=',')\n",
        "\n",
        "# X_test = np.concatenate((X_test,(tests.iloc[:,0:(tests.shape[1]-1)]).to_numpy())) # testar 33% + dia de testes\n",
        "# y_test = np.concatenate((y_test,tests.iloc[:,-1]))\n",
        "\n",
        "del X_test,y_test                            # testar só o dia de testes\n",
        "X_test = tests.iloc[:,0:(tests.shape[1]-1)]\n",
        "y_test = tests.iloc[:,-1]\n",
        "\n",
        "print((y_test.shape))\n",
        "print((X_test.shape))\n",
        "\n",
        "X_train, X_test = normalize_data(X_train,X_test)\n"
      ]
    },
    {
      "cell_type": "markdown",
      "id": "9f7c18b1",
      "metadata": {
        "papermill": {
          "duration": 0.010832,
          "end_time": "2025-02-01T19:56:37.182629",
          "exception": false,
          "start_time": "2025-02-01T19:56:37.171797",
          "status": "completed"
        },
        "tags": [],
        "id": "9f7c18b1"
      },
      "source": [
        "Compiling and Training the methods\n",
        "\n",
        "> Comment the last 2 code blocks\n",
        "\n",
        "**OR**\n",
        "\n",
        "Loading and compiling the methods\n",
        "\n",
        "> Comment the first 2 code blocks"
      ]
    },
    {
      "cell_type": "code",
      "execution_count": null,
      "id": "7bf12ca6",
      "metadata": {
        "papermill": {
          "duration": 18.340597,
          "end_time": "2025-02-01T19:56:55.534052",
          "exception": false,
          "start_time": "2025-02-01T19:56:37.193455",
          "status": "completed"
        },
        "scrolled": true,
        "tags": [],
        "colab": {
          "base_uri": "https://localhost:8080/",
          "height": 1000
        },
        "id": "7bf12ca6",
        "outputId": "1dba50f3-9ae4-42a7-bd45-f2980b0a12cb"
      },
      "outputs": [
        {
          "output_type": "stream",
          "name": "stderr",
          "text": [
            "/usr/local/lib/python3.11/dist-packages/keras/src/layers/rnn/rnn.py:200: UserWarning: Do not pass an `input_shape`/`input_dim` argument to a layer. When using Sequential models, prefer using an `Input(shape)` object as the first layer in the model instead.\n",
            "  super().__init__(**kwargs)\n"
          ]
        },
        {
          "output_type": "display_data",
          "data": {
            "text/plain": [
              "\u001b[1mModel: \"sequential_4\"\u001b[0m\n"
            ],
            "text/html": [
              "<pre style=\"white-space:pre;overflow-x:auto;line-height:normal;font-family:Menlo,'DejaVu Sans Mono',consolas,'Courier New',monospace\"><span style=\"font-weight: bold\">Model: \"sequential_4\"</span>\n",
              "</pre>\n"
            ]
          },
          "metadata": {}
        },
        {
          "output_type": "display_data",
          "data": {
            "text/plain": [
              "┏━━━━━━━━━━━━━━━━━━━━━━━━━━━━━━━━━━━━━━┳━━━━━━━━━━━━━━━━━━━━━━━━━━━━━┳━━━━━━━━━━━━━━━━━┓\n",
              "┃\u001b[1m \u001b[0m\u001b[1mLayer (type)                        \u001b[0m\u001b[1m \u001b[0m┃\u001b[1m \u001b[0m\u001b[1mOutput Shape               \u001b[0m\u001b[1m \u001b[0m┃\u001b[1m \u001b[0m\u001b[1m        Param #\u001b[0m\u001b[1m \u001b[0m┃\n",
              "┡━━━━━━━━━━━━━━━━━━━━━━━━━━━━━━━━━━━━━━╇━━━━━━━━━━━━━━━━━━━━━━━━━━━━━╇━━━━━━━━━━━━━━━━━┩\n",
              "│ gru_1 (\u001b[38;5;33mGRU\u001b[0m)                          │ (\u001b[38;5;45mNone\u001b[0m, \u001b[38;5;34m32\u001b[0m)                  │           \u001b[38;5;34m3,360\u001b[0m │\n",
              "├──────────────────────────────────────┼─────────────────────────────┼─────────────────┤\n",
              "│ dropout_3 (\u001b[38;5;33mDropout\u001b[0m)                  │ (\u001b[38;5;45mNone\u001b[0m, \u001b[38;5;34m32\u001b[0m)                  │               \u001b[38;5;34m0\u001b[0m │\n",
              "├──────────────────────────────────────┼─────────────────────────────┼─────────────────┤\n",
              "│ dense_8 (\u001b[38;5;33mDense\u001b[0m)                      │ (\u001b[38;5;45mNone\u001b[0m, \u001b[38;5;34m10\u001b[0m)                  │             \u001b[38;5;34m330\u001b[0m │\n",
              "├──────────────────────────────────────┼─────────────────────────────┼─────────────────┤\n",
              "│ dense_9 (\u001b[38;5;33mDense\u001b[0m)                      │ (\u001b[38;5;45mNone\u001b[0m, \u001b[38;5;34m1\u001b[0m)                   │              \u001b[38;5;34m11\u001b[0m │\n",
              "└──────────────────────────────────────┴─────────────────────────────┴─────────────────┘\n"
            ],
            "text/html": [
              "<pre style=\"white-space:pre;overflow-x:auto;line-height:normal;font-family:Menlo,'DejaVu Sans Mono',consolas,'Courier New',monospace\">┏━━━━━━━━━━━━━━━━━━━━━━━━━━━━━━━━━━━━━━┳━━━━━━━━━━━━━━━━━━━━━━━━━━━━━┳━━━━━━━━━━━━━━━━━┓\n",
              "┃<span style=\"font-weight: bold\"> Layer (type)                         </span>┃<span style=\"font-weight: bold\"> Output Shape                </span>┃<span style=\"font-weight: bold\">         Param # </span>┃\n",
              "┡━━━━━━━━━━━━━━━━━━━━━━━━━━━━━━━━━━━━━━╇━━━━━━━━━━━━━━━━━━━━━━━━━━━━━╇━━━━━━━━━━━━━━━━━┩\n",
              "│ gru_1 (<span style=\"color: #0087ff; text-decoration-color: #0087ff\">GRU</span>)                          │ (<span style=\"color: #00d7ff; text-decoration-color: #00d7ff\">None</span>, <span style=\"color: #00af00; text-decoration-color: #00af00\">32</span>)                  │           <span style=\"color: #00af00; text-decoration-color: #00af00\">3,360</span> │\n",
              "├──────────────────────────────────────┼─────────────────────────────┼─────────────────┤\n",
              "│ dropout_3 (<span style=\"color: #0087ff; text-decoration-color: #0087ff\">Dropout</span>)                  │ (<span style=\"color: #00d7ff; text-decoration-color: #00d7ff\">None</span>, <span style=\"color: #00af00; text-decoration-color: #00af00\">32</span>)                  │               <span style=\"color: #00af00; text-decoration-color: #00af00\">0</span> │\n",
              "├──────────────────────────────────────┼─────────────────────────────┼─────────────────┤\n",
              "│ dense_8 (<span style=\"color: #0087ff; text-decoration-color: #0087ff\">Dense</span>)                      │ (<span style=\"color: #00d7ff; text-decoration-color: #00d7ff\">None</span>, <span style=\"color: #00af00; text-decoration-color: #00af00\">10</span>)                  │             <span style=\"color: #00af00; text-decoration-color: #00af00\">330</span> │\n",
              "├──────────────────────────────────────┼─────────────────────────────┼─────────────────┤\n",
              "│ dense_9 (<span style=\"color: #0087ff; text-decoration-color: #0087ff\">Dense</span>)                      │ (<span style=\"color: #00d7ff; text-decoration-color: #00d7ff\">None</span>, <span style=\"color: #00af00; text-decoration-color: #00af00\">1</span>)                   │              <span style=\"color: #00af00; text-decoration-color: #00af00\">11</span> │\n",
              "└──────────────────────────────────────┴─────────────────────────────┴─────────────────┘\n",
              "</pre>\n"
            ]
          },
          "metadata": {}
        },
        {
          "output_type": "display_data",
          "data": {
            "text/plain": [
              "\u001b[1m Total params: \u001b[0m\u001b[38;5;34m3,701\u001b[0m (14.46 KB)\n"
            ],
            "text/html": [
              "<pre style=\"white-space:pre;overflow-x:auto;line-height:normal;font-family:Menlo,'DejaVu Sans Mono',consolas,'Courier New',monospace\"><span style=\"font-weight: bold\"> Total params: </span><span style=\"color: #00af00; text-decoration-color: #00af00\">3,701</span> (14.46 KB)\n",
              "</pre>\n"
            ]
          },
          "metadata": {}
        },
        {
          "output_type": "display_data",
          "data": {
            "text/plain": [
              "\u001b[1m Trainable params: \u001b[0m\u001b[38;5;34m3,701\u001b[0m (14.46 KB)\n"
            ],
            "text/html": [
              "<pre style=\"white-space:pre;overflow-x:auto;line-height:normal;font-family:Menlo,'DejaVu Sans Mono',consolas,'Courier New',monospace\"><span style=\"font-weight: bold\"> Trainable params: </span><span style=\"color: #00af00; text-decoration-color: #00af00\">3,701</span> (14.46 KB)\n",
              "</pre>\n"
            ]
          },
          "metadata": {}
        },
        {
          "output_type": "display_data",
          "data": {
            "text/plain": [
              "\u001b[1m Non-trainable params: \u001b[0m\u001b[38;5;34m0\u001b[0m (0.00 B)\n"
            ],
            "text/html": [
              "<pre style=\"white-space:pre;overflow-x:auto;line-height:normal;font-family:Menlo,'DejaVu Sans Mono',consolas,'Courier New',monospace\"><span style=\"font-weight: bold\"> Non-trainable params: </span><span style=\"color: #00af00; text-decoration-color: #00af00\">0</span> (0.00 B)\n",
              "</pre>\n"
            ]
          },
          "metadata": {}
        },
        {
          "output_type": "stream",
          "name": "stdout",
          "text": [
            "None\n"
          ]
        },
        {
          "output_type": "stream",
          "name": "stderr",
          "text": [
            "/usr/local/lib/python3.11/dist-packages/keras/src/layers/convolutional/base_conv.py:107: UserWarning: Do not pass an `input_shape`/`input_dim` argument to a layer. When using Sequential models, prefer using an `Input(shape)` object as the first layer in the model instead.\n",
            "  super().__init__(activity_regularizer=activity_regularizer, **kwargs)\n"
          ]
        },
        {
          "output_type": "display_data",
          "data": {
            "text/plain": [
              "\u001b[1mModel: \"sequential_5\"\u001b[0m\n"
            ],
            "text/html": [
              "<pre style=\"white-space:pre;overflow-x:auto;line-height:normal;font-family:Menlo,'DejaVu Sans Mono',consolas,'Courier New',monospace\"><span style=\"font-weight: bold\">Model: \"sequential_5\"</span>\n",
              "</pre>\n"
            ]
          },
          "metadata": {}
        },
        {
          "output_type": "display_data",
          "data": {
            "text/plain": [
              "┏━━━━━━━━━━━━━━━━━━━━━━━━━━━━━━━━━━━━━━┳━━━━━━━━━━━━━━━━━━━━━━━━━━━━━┳━━━━━━━━━━━━━━━━━┓\n",
              "┃\u001b[1m \u001b[0m\u001b[1mLayer (type)                        \u001b[0m\u001b[1m \u001b[0m┃\u001b[1m \u001b[0m\u001b[1mOutput Shape               \u001b[0m\u001b[1m \u001b[0m┃\u001b[1m \u001b[0m\u001b[1m        Param #\u001b[0m\u001b[1m \u001b[0m┃\n",
              "┡━━━━━━━━━━━━━━━━━━━━━━━━━━━━━━━━━━━━━━╇━━━━━━━━━━━━━━━━━━━━━━━━━━━━━╇━━━━━━━━━━━━━━━━━┩\n",
              "│ conv1d_3 (\u001b[38;5;33mConv1D\u001b[0m)                    │ (\u001b[38;5;45mNone\u001b[0m, \u001b[38;5;34m75\u001b[0m, \u001b[38;5;34m64\u001b[0m)              │             \u001b[38;5;34m576\u001b[0m │\n",
              "├──────────────────────────────────────┼─────────────────────────────┼─────────────────┤\n",
              "│ max_pooling1d_3 (\u001b[38;5;33mMaxPooling1D\u001b[0m)       │ (\u001b[38;5;45mNone\u001b[0m, \u001b[38;5;34m37\u001b[0m, \u001b[38;5;34m64\u001b[0m)              │               \u001b[38;5;34m0\u001b[0m │\n",
              "├──────────────────────────────────────┼─────────────────────────────┼─────────────────┤\n",
              "│ conv1d_4 (\u001b[38;5;33mConv1D\u001b[0m)                    │ (\u001b[38;5;45mNone\u001b[0m, \u001b[38;5;34m22\u001b[0m, \u001b[38;5;34m32\u001b[0m)              │          \u001b[38;5;34m32,800\u001b[0m │\n",
              "├──────────────────────────────────────┼─────────────────────────────┼─────────────────┤\n",
              "│ max_pooling1d_4 (\u001b[38;5;33mMaxPooling1D\u001b[0m)       │ (\u001b[38;5;45mNone\u001b[0m, \u001b[38;5;34m11\u001b[0m, \u001b[38;5;34m32\u001b[0m)              │               \u001b[38;5;34m0\u001b[0m │\n",
              "├──────────────────────────────────────┼─────────────────────────────┼─────────────────┤\n",
              "│ conv1d_5 (\u001b[38;5;33mConv1D\u001b[0m)                    │ (\u001b[38;5;45mNone\u001b[0m, \u001b[38;5;34m9\u001b[0m, \u001b[38;5;34m16\u001b[0m)               │           \u001b[38;5;34m1,552\u001b[0m │\n",
              "├──────────────────────────────────────┼─────────────────────────────┼─────────────────┤\n",
              "│ max_pooling1d_5 (\u001b[38;5;33mMaxPooling1D\u001b[0m)       │ (\u001b[38;5;45mNone\u001b[0m, \u001b[38;5;34m4\u001b[0m, \u001b[38;5;34m16\u001b[0m)               │               \u001b[38;5;34m0\u001b[0m │\n",
              "├──────────────────────────────────────┼─────────────────────────────┼─────────────────┤\n",
              "│ dropout_4 (\u001b[38;5;33mDropout\u001b[0m)                  │ (\u001b[38;5;45mNone\u001b[0m, \u001b[38;5;34m4\u001b[0m, \u001b[38;5;34m16\u001b[0m)               │               \u001b[38;5;34m0\u001b[0m │\n",
              "├──────────────────────────────────────┼─────────────────────────────┼─────────────────┤\n",
              "│ flatten_1 (\u001b[38;5;33mFlatten\u001b[0m)                  │ (\u001b[38;5;45mNone\u001b[0m, \u001b[38;5;34m64\u001b[0m)                  │               \u001b[38;5;34m0\u001b[0m │\n",
              "├──────────────────────────────────────┼─────────────────────────────┼─────────────────┤\n",
              "│ dense_10 (\u001b[38;5;33mDense\u001b[0m)                     │ (\u001b[38;5;45mNone\u001b[0m, \u001b[38;5;34m10\u001b[0m)                  │             \u001b[38;5;34m650\u001b[0m │\n",
              "├──────────────────────────────────────┼─────────────────────────────┼─────────────────┤\n",
              "│ dense_11 (\u001b[38;5;33mDense\u001b[0m)                     │ (\u001b[38;5;45mNone\u001b[0m, \u001b[38;5;34m1\u001b[0m)                   │              \u001b[38;5;34m11\u001b[0m │\n",
              "└──────────────────────────────────────┴─────────────────────────────┴─────────────────┘\n"
            ],
            "text/html": [
              "<pre style=\"white-space:pre;overflow-x:auto;line-height:normal;font-family:Menlo,'DejaVu Sans Mono',consolas,'Courier New',monospace\">┏━━━━━━━━━━━━━━━━━━━━━━━━━━━━━━━━━━━━━━┳━━━━━━━━━━━━━━━━━━━━━━━━━━━━━┳━━━━━━━━━━━━━━━━━┓\n",
              "┃<span style=\"font-weight: bold\"> Layer (type)                         </span>┃<span style=\"font-weight: bold\"> Output Shape                </span>┃<span style=\"font-weight: bold\">         Param # </span>┃\n",
              "┡━━━━━━━━━━━━━━━━━━━━━━━━━━━━━━━━━━━━━━╇━━━━━━━━━━━━━━━━━━━━━━━━━━━━━╇━━━━━━━━━━━━━━━━━┩\n",
              "│ conv1d_3 (<span style=\"color: #0087ff; text-decoration-color: #0087ff\">Conv1D</span>)                    │ (<span style=\"color: #00d7ff; text-decoration-color: #00d7ff\">None</span>, <span style=\"color: #00af00; text-decoration-color: #00af00\">75</span>, <span style=\"color: #00af00; text-decoration-color: #00af00\">64</span>)              │             <span style=\"color: #00af00; text-decoration-color: #00af00\">576</span> │\n",
              "├──────────────────────────────────────┼─────────────────────────────┼─────────────────┤\n",
              "│ max_pooling1d_3 (<span style=\"color: #0087ff; text-decoration-color: #0087ff\">MaxPooling1D</span>)       │ (<span style=\"color: #00d7ff; text-decoration-color: #00d7ff\">None</span>, <span style=\"color: #00af00; text-decoration-color: #00af00\">37</span>, <span style=\"color: #00af00; text-decoration-color: #00af00\">64</span>)              │               <span style=\"color: #00af00; text-decoration-color: #00af00\">0</span> │\n",
              "├──────────────────────────────────────┼─────────────────────────────┼─────────────────┤\n",
              "│ conv1d_4 (<span style=\"color: #0087ff; text-decoration-color: #0087ff\">Conv1D</span>)                    │ (<span style=\"color: #00d7ff; text-decoration-color: #00d7ff\">None</span>, <span style=\"color: #00af00; text-decoration-color: #00af00\">22</span>, <span style=\"color: #00af00; text-decoration-color: #00af00\">32</span>)              │          <span style=\"color: #00af00; text-decoration-color: #00af00\">32,800</span> │\n",
              "├──────────────────────────────────────┼─────────────────────────────┼─────────────────┤\n",
              "│ max_pooling1d_4 (<span style=\"color: #0087ff; text-decoration-color: #0087ff\">MaxPooling1D</span>)       │ (<span style=\"color: #00d7ff; text-decoration-color: #00d7ff\">None</span>, <span style=\"color: #00af00; text-decoration-color: #00af00\">11</span>, <span style=\"color: #00af00; text-decoration-color: #00af00\">32</span>)              │               <span style=\"color: #00af00; text-decoration-color: #00af00\">0</span> │\n",
              "├──────────────────────────────────────┼─────────────────────────────┼─────────────────┤\n",
              "│ conv1d_5 (<span style=\"color: #0087ff; text-decoration-color: #0087ff\">Conv1D</span>)                    │ (<span style=\"color: #00d7ff; text-decoration-color: #00d7ff\">None</span>, <span style=\"color: #00af00; text-decoration-color: #00af00\">9</span>, <span style=\"color: #00af00; text-decoration-color: #00af00\">16</span>)               │           <span style=\"color: #00af00; text-decoration-color: #00af00\">1,552</span> │\n",
              "├──────────────────────────────────────┼─────────────────────────────┼─────────────────┤\n",
              "│ max_pooling1d_5 (<span style=\"color: #0087ff; text-decoration-color: #0087ff\">MaxPooling1D</span>)       │ (<span style=\"color: #00d7ff; text-decoration-color: #00d7ff\">None</span>, <span style=\"color: #00af00; text-decoration-color: #00af00\">4</span>, <span style=\"color: #00af00; text-decoration-color: #00af00\">16</span>)               │               <span style=\"color: #00af00; text-decoration-color: #00af00\">0</span> │\n",
              "├──────────────────────────────────────┼─────────────────────────────┼─────────────────┤\n",
              "│ dropout_4 (<span style=\"color: #0087ff; text-decoration-color: #0087ff\">Dropout</span>)                  │ (<span style=\"color: #00d7ff; text-decoration-color: #00d7ff\">None</span>, <span style=\"color: #00af00; text-decoration-color: #00af00\">4</span>, <span style=\"color: #00af00; text-decoration-color: #00af00\">16</span>)               │               <span style=\"color: #00af00; text-decoration-color: #00af00\">0</span> │\n",
              "├──────────────────────────────────────┼─────────────────────────────┼─────────────────┤\n",
              "│ flatten_1 (<span style=\"color: #0087ff; text-decoration-color: #0087ff\">Flatten</span>)                  │ (<span style=\"color: #00d7ff; text-decoration-color: #00d7ff\">None</span>, <span style=\"color: #00af00; text-decoration-color: #00af00\">64</span>)                  │               <span style=\"color: #00af00; text-decoration-color: #00af00\">0</span> │\n",
              "├──────────────────────────────────────┼─────────────────────────────┼─────────────────┤\n",
              "│ dense_10 (<span style=\"color: #0087ff; text-decoration-color: #0087ff\">Dense</span>)                     │ (<span style=\"color: #00d7ff; text-decoration-color: #00d7ff\">None</span>, <span style=\"color: #00af00; text-decoration-color: #00af00\">10</span>)                  │             <span style=\"color: #00af00; text-decoration-color: #00af00\">650</span> │\n",
              "├──────────────────────────────────────┼─────────────────────────────┼─────────────────┤\n",
              "│ dense_11 (<span style=\"color: #0087ff; text-decoration-color: #0087ff\">Dense</span>)                     │ (<span style=\"color: #00d7ff; text-decoration-color: #00d7ff\">None</span>, <span style=\"color: #00af00; text-decoration-color: #00af00\">1</span>)                   │              <span style=\"color: #00af00; text-decoration-color: #00af00\">11</span> │\n",
              "└──────────────────────────────────────┴─────────────────────────────┴─────────────────┘\n",
              "</pre>\n"
            ]
          },
          "metadata": {}
        },
        {
          "output_type": "display_data",
          "data": {
            "text/plain": [
              "\u001b[1m Total params: \u001b[0m\u001b[38;5;34m35,589\u001b[0m (139.02 KB)\n"
            ],
            "text/html": [
              "<pre style=\"white-space:pre;overflow-x:auto;line-height:normal;font-family:Menlo,'DejaVu Sans Mono',consolas,'Courier New',monospace\"><span style=\"font-weight: bold\"> Total params: </span><span style=\"color: #00af00; text-decoration-color: #00af00\">35,589</span> (139.02 KB)\n",
              "</pre>\n"
            ]
          },
          "metadata": {}
        },
        {
          "output_type": "display_data",
          "data": {
            "text/plain": [
              "\u001b[1m Trainable params: \u001b[0m\u001b[38;5;34m35,589\u001b[0m (139.02 KB)\n"
            ],
            "text/html": [
              "<pre style=\"white-space:pre;overflow-x:auto;line-height:normal;font-family:Menlo,'DejaVu Sans Mono',consolas,'Courier New',monospace\"><span style=\"font-weight: bold\"> Trainable params: </span><span style=\"color: #00af00; text-decoration-color: #00af00\">35,589</span> (139.02 KB)\n",
              "</pre>\n"
            ]
          },
          "metadata": {}
        },
        {
          "output_type": "display_data",
          "data": {
            "text/plain": [
              "\u001b[1m Non-trainable params: \u001b[0m\u001b[38;5;34m0\u001b[0m (0.00 B)\n"
            ],
            "text/html": [
              "<pre style=\"white-space:pre;overflow-x:auto;line-height:normal;font-family:Menlo,'DejaVu Sans Mono',consolas,'Courier New',monospace\"><span style=\"font-weight: bold\"> Non-trainable params: </span><span style=\"color: #00af00; text-decoration-color: #00af00\">0</span> (0.00 B)\n",
              "</pre>\n"
            ]
          },
          "metadata": {}
        },
        {
          "output_type": "stream",
          "name": "stdout",
          "text": [
            "None\n"
          ]
        },
        {
          "output_type": "display_data",
          "data": {
            "text/plain": [
              "\u001b[1mModel: \"sequential_6\"\u001b[0m\n"
            ],
            "text/html": [
              "<pre style=\"white-space:pre;overflow-x:auto;line-height:normal;font-family:Menlo,'DejaVu Sans Mono',consolas,'Courier New',monospace\"><span style=\"font-weight: bold\">Model: \"sequential_6\"</span>\n",
              "</pre>\n"
            ]
          },
          "metadata": {}
        },
        {
          "output_type": "display_data",
          "data": {
            "text/plain": [
              "┏━━━━━━━━━━━━━━━━━━━━━━━━━━━━━━━━━━━━━━┳━━━━━━━━━━━━━━━━━━━━━━━━━━━━━┳━━━━━━━━━━━━━━━━━┓\n",
              "┃\u001b[1m \u001b[0m\u001b[1mLayer (type)                        \u001b[0m\u001b[1m \u001b[0m┃\u001b[1m \u001b[0m\u001b[1mOutput Shape               \u001b[0m\u001b[1m \u001b[0m┃\u001b[1m \u001b[0m\u001b[1m        Param #\u001b[0m\u001b[1m \u001b[0m┃\n",
              "┡━━━━━━━━━━━━━━━━━━━━━━━━━━━━━━━━━━━━━━╇━━━━━━━━━━━━━━━━━━━━━━━━━━━━━╇━━━━━━━━━━━━━━━━━┩\n",
              "│ lstm_1 (\u001b[38;5;33mLSTM\u001b[0m)                        │ (\u001b[38;5;45mNone\u001b[0m, \u001b[38;5;34m32\u001b[0m)                  │           \u001b[38;5;34m4,352\u001b[0m │\n",
              "├──────────────────────────────────────┼─────────────────────────────┼─────────────────┤\n",
              "│ dropout_5 (\u001b[38;5;33mDropout\u001b[0m)                  │ (\u001b[38;5;45mNone\u001b[0m, \u001b[38;5;34m32\u001b[0m)                  │               \u001b[38;5;34m0\u001b[0m │\n",
              "├──────────────────────────────────────┼─────────────────────────────┼─────────────────┤\n",
              "│ dense_12 (\u001b[38;5;33mDense\u001b[0m)                     │ (\u001b[38;5;45mNone\u001b[0m, \u001b[38;5;34m10\u001b[0m)                  │             \u001b[38;5;34m330\u001b[0m │\n",
              "├──────────────────────────────────────┼─────────────────────────────┼─────────────────┤\n",
              "│ dense_13 (\u001b[38;5;33mDense\u001b[0m)                     │ (\u001b[38;5;45mNone\u001b[0m, \u001b[38;5;34m1\u001b[0m)                   │              \u001b[38;5;34m11\u001b[0m │\n",
              "└──────────────────────────────────────┴─────────────────────────────┴─────────────────┘\n"
            ],
            "text/html": [
              "<pre style=\"white-space:pre;overflow-x:auto;line-height:normal;font-family:Menlo,'DejaVu Sans Mono',consolas,'Courier New',monospace\">┏━━━━━━━━━━━━━━━━━━━━━━━━━━━━━━━━━━━━━━┳━━━━━━━━━━━━━━━━━━━━━━━━━━━━━┳━━━━━━━━━━━━━━━━━┓\n",
              "┃<span style=\"font-weight: bold\"> Layer (type)                         </span>┃<span style=\"font-weight: bold\"> Output Shape                </span>┃<span style=\"font-weight: bold\">         Param # </span>┃\n",
              "┡━━━━━━━━━━━━━━━━━━━━━━━━━━━━━━━━━━━━━━╇━━━━━━━━━━━━━━━━━━━━━━━━━━━━━╇━━━━━━━━━━━━━━━━━┩\n",
              "│ lstm_1 (<span style=\"color: #0087ff; text-decoration-color: #0087ff\">LSTM</span>)                        │ (<span style=\"color: #00d7ff; text-decoration-color: #00d7ff\">None</span>, <span style=\"color: #00af00; text-decoration-color: #00af00\">32</span>)                  │           <span style=\"color: #00af00; text-decoration-color: #00af00\">4,352</span> │\n",
              "├──────────────────────────────────────┼─────────────────────────────┼─────────────────┤\n",
              "│ dropout_5 (<span style=\"color: #0087ff; text-decoration-color: #0087ff\">Dropout</span>)                  │ (<span style=\"color: #00d7ff; text-decoration-color: #00d7ff\">None</span>, <span style=\"color: #00af00; text-decoration-color: #00af00\">32</span>)                  │               <span style=\"color: #00af00; text-decoration-color: #00af00\">0</span> │\n",
              "├──────────────────────────────────────┼─────────────────────────────┼─────────────────┤\n",
              "│ dense_12 (<span style=\"color: #0087ff; text-decoration-color: #0087ff\">Dense</span>)                     │ (<span style=\"color: #00d7ff; text-decoration-color: #00d7ff\">None</span>, <span style=\"color: #00af00; text-decoration-color: #00af00\">10</span>)                  │             <span style=\"color: #00af00; text-decoration-color: #00af00\">330</span> │\n",
              "├──────────────────────────────────────┼─────────────────────────────┼─────────────────┤\n",
              "│ dense_13 (<span style=\"color: #0087ff; text-decoration-color: #0087ff\">Dense</span>)                     │ (<span style=\"color: #00d7ff; text-decoration-color: #00d7ff\">None</span>, <span style=\"color: #00af00; text-decoration-color: #00af00\">1</span>)                   │              <span style=\"color: #00af00; text-decoration-color: #00af00\">11</span> │\n",
              "└──────────────────────────────────────┴─────────────────────────────┴─────────────────┘\n",
              "</pre>\n"
            ]
          },
          "metadata": {}
        },
        {
          "output_type": "display_data",
          "data": {
            "text/plain": [
              "\u001b[1m Total params: \u001b[0m\u001b[38;5;34m4,693\u001b[0m (18.33 KB)\n"
            ],
            "text/html": [
              "<pre style=\"white-space:pre;overflow-x:auto;line-height:normal;font-family:Menlo,'DejaVu Sans Mono',consolas,'Courier New',monospace\"><span style=\"font-weight: bold\"> Total params: </span><span style=\"color: #00af00; text-decoration-color: #00af00\">4,693</span> (18.33 KB)\n",
              "</pre>\n"
            ]
          },
          "metadata": {}
        },
        {
          "output_type": "display_data",
          "data": {
            "text/plain": [
              "\u001b[1m Trainable params: \u001b[0m\u001b[38;5;34m4,693\u001b[0m (18.33 KB)\n"
            ],
            "text/html": [
              "<pre style=\"white-space:pre;overflow-x:auto;line-height:normal;font-family:Menlo,'DejaVu Sans Mono',consolas,'Courier New',monospace\"><span style=\"font-weight: bold\"> Trainable params: </span><span style=\"color: #00af00; text-decoration-color: #00af00\">4,693</span> (18.33 KB)\n",
              "</pre>\n"
            ]
          },
          "metadata": {}
        },
        {
          "output_type": "display_data",
          "data": {
            "text/plain": [
              "\u001b[1m Non-trainable params: \u001b[0m\u001b[38;5;34m0\u001b[0m (0.00 B)\n"
            ],
            "text/html": [
              "<pre style=\"white-space:pre;overflow-x:auto;line-height:normal;font-family:Menlo,'DejaVu Sans Mono',consolas,'Courier New',monospace\"><span style=\"font-weight: bold\"> Non-trainable params: </span><span style=\"color: #00af00; text-decoration-color: #00af00\">0</span> (0.00 B)\n",
              "</pre>\n"
            ]
          },
          "metadata": {}
        },
        {
          "output_type": "stream",
          "name": "stdout",
          "text": [
            "None\n"
          ]
        },
        {
          "output_type": "stream",
          "name": "stderr",
          "text": [
            "/usr/local/lib/python3.11/dist-packages/keras/src/layers/core/dense.py:87: UserWarning: Do not pass an `input_shape`/`input_dim` argument to a layer. When using Sequential models, prefer using an `Input(shape)` object as the first layer in the model instead.\n",
            "  super().__init__(activity_regularizer=activity_regularizer, **kwargs)\n"
          ]
        },
        {
          "output_type": "display_data",
          "data": {
            "text/plain": [
              "\u001b[1mModel: \"sequential_7\"\u001b[0m\n"
            ],
            "text/html": [
              "<pre style=\"white-space:pre;overflow-x:auto;line-height:normal;font-family:Menlo,'DejaVu Sans Mono',consolas,'Courier New',monospace\"><span style=\"font-weight: bold\">Model: \"sequential_7\"</span>\n",
              "</pre>\n"
            ]
          },
          "metadata": {}
        },
        {
          "output_type": "display_data",
          "data": {
            "text/plain": [
              "┏━━━━━━━━━━━━━━━━━━━━━━━━━━━━━━━━━━━━━━┳━━━━━━━━━━━━━━━━━━━━━━━━━━━━━┳━━━━━━━━━━━━━━━━━┓\n",
              "┃\u001b[1m \u001b[0m\u001b[1mLayer (type)                        \u001b[0m\u001b[1m \u001b[0m┃\u001b[1m \u001b[0m\u001b[1mOutput Shape               \u001b[0m\u001b[1m \u001b[0m┃\u001b[1m \u001b[0m\u001b[1m        Param #\u001b[0m\u001b[1m \u001b[0m┃\n",
              "┡━━━━━━━━━━━━━━━━━━━━━━━━━━━━━━━━━━━━━━╇━━━━━━━━━━━━━━━━━━━━━━━━━━━━━╇━━━━━━━━━━━━━━━━━┩\n",
              "│ dense_14 (\u001b[38;5;33mDense\u001b[0m)                     │ (\u001b[38;5;45mNone\u001b[0m, \u001b[38;5;34m2\u001b[0m)                   │             \u001b[38;5;34m166\u001b[0m │\n",
              "├──────────────────────────────────────┼─────────────────────────────┼─────────────────┤\n",
              "│ dense_15 (\u001b[38;5;33mDense\u001b[0m)                     │ (\u001b[38;5;45mNone\u001b[0m, \u001b[38;5;34m1\u001b[0m)                   │               \u001b[38;5;34m3\u001b[0m │\n",
              "└──────────────────────────────────────┴─────────────────────────────┴─────────────────┘\n"
            ],
            "text/html": [
              "<pre style=\"white-space:pre;overflow-x:auto;line-height:normal;font-family:Menlo,'DejaVu Sans Mono',consolas,'Courier New',monospace\">┏━━━━━━━━━━━━━━━━━━━━━━━━━━━━━━━━━━━━━━┳━━━━━━━━━━━━━━━━━━━━━━━━━━━━━┳━━━━━━━━━━━━━━━━━┓\n",
              "┃<span style=\"font-weight: bold\"> Layer (type)                         </span>┃<span style=\"font-weight: bold\"> Output Shape                </span>┃<span style=\"font-weight: bold\">         Param # </span>┃\n",
              "┡━━━━━━━━━━━━━━━━━━━━━━━━━━━━━━━━━━━━━━╇━━━━━━━━━━━━━━━━━━━━━━━━━━━━━╇━━━━━━━━━━━━━━━━━┩\n",
              "│ dense_14 (<span style=\"color: #0087ff; text-decoration-color: #0087ff\">Dense</span>)                     │ (<span style=\"color: #00d7ff; text-decoration-color: #00d7ff\">None</span>, <span style=\"color: #00af00; text-decoration-color: #00af00\">2</span>)                   │             <span style=\"color: #00af00; text-decoration-color: #00af00\">166</span> │\n",
              "├──────────────────────────────────────┼─────────────────────────────┼─────────────────┤\n",
              "│ dense_15 (<span style=\"color: #0087ff; text-decoration-color: #0087ff\">Dense</span>)                     │ (<span style=\"color: #00d7ff; text-decoration-color: #00d7ff\">None</span>, <span style=\"color: #00af00; text-decoration-color: #00af00\">1</span>)                   │               <span style=\"color: #00af00; text-decoration-color: #00af00\">3</span> │\n",
              "└──────────────────────────────────────┴─────────────────────────────┴─────────────────┘\n",
              "</pre>\n"
            ]
          },
          "metadata": {}
        },
        {
          "output_type": "display_data",
          "data": {
            "text/plain": [
              "\u001b[1m Total params: \u001b[0m\u001b[38;5;34m169\u001b[0m (676.00 B)\n"
            ],
            "text/html": [
              "<pre style=\"white-space:pre;overflow-x:auto;line-height:normal;font-family:Menlo,'DejaVu Sans Mono',consolas,'Courier New',monospace\"><span style=\"font-weight: bold\"> Total params: </span><span style=\"color: #00af00; text-decoration-color: #00af00\">169</span> (676.00 B)\n",
              "</pre>\n"
            ]
          },
          "metadata": {}
        },
        {
          "output_type": "display_data",
          "data": {
            "text/plain": [
              "\u001b[1m Trainable params: \u001b[0m\u001b[38;5;34m169\u001b[0m (676.00 B)\n"
            ],
            "text/html": [
              "<pre style=\"white-space:pre;overflow-x:auto;line-height:normal;font-family:Menlo,'DejaVu Sans Mono',consolas,'Courier New',monospace\"><span style=\"font-weight: bold\"> Trainable params: </span><span style=\"color: #00af00; text-decoration-color: #00af00\">169</span> (676.00 B)\n",
              "</pre>\n"
            ]
          },
          "metadata": {}
        },
        {
          "output_type": "display_data",
          "data": {
            "text/plain": [
              "\u001b[1m Non-trainable params: \u001b[0m\u001b[38;5;34m0\u001b[0m (0.00 B)\n"
            ],
            "text/html": [
              "<pre style=\"white-space:pre;overflow-x:auto;line-height:normal;font-family:Menlo,'DejaVu Sans Mono',consolas,'Courier New',monospace\"><span style=\"font-weight: bold\"> Non-trainable params: </span><span style=\"color: #00af00; text-decoration-color: #00af00\">0</span> (0.00 B)\n",
              "</pre>\n"
            ]
          },
          "metadata": {}
        },
        {
          "output_type": "stream",
          "name": "stdout",
          "text": [
            "None\n",
            "Epoch 1/10\n",
            "\u001b[1m4/4\u001b[0m \u001b[32m━━━━━━━━━━━━━━━━━━━━\u001b[0m\u001b[37m\u001b[0m \u001b[1m5s\u001b[0m 122ms/step - accuracy: 0.6565 - loss: 0.6911\n",
            "Epoch 2/10\n",
            "\u001b[1m4/4\u001b[0m \u001b[32m━━━━━━━━━━━━━━━━━━━━\u001b[0m\u001b[37m\u001b[0m \u001b[1m1s\u001b[0m 122ms/step - accuracy: 0.7678 - loss: 0.6708\n",
            "Epoch 3/10\n",
            "\u001b[1m4/4\u001b[0m \u001b[32m━━━━━━━━━━━━━━━━━━━━\u001b[0m\u001b[37m\u001b[0m \u001b[1m1s\u001b[0m 123ms/step - accuracy: 0.8407 - loss: 0.6531\n",
            "Epoch 4/10\n",
            "\u001b[1m4/4\u001b[0m \u001b[32m━━━━━━━━━━━━━━━━━━━━\u001b[0m\u001b[37m\u001b[0m \u001b[1m1s\u001b[0m 125ms/step - accuracy: 0.8950 - loss: 0.6319\n",
            "Epoch 5/10\n",
            "\u001b[1m4/4\u001b[0m \u001b[32m━━━━━━━━━━━━━━━━━━━━\u001b[0m\u001b[37m\u001b[0m \u001b[1m1s\u001b[0m 137ms/step - accuracy: 0.8954 - loss: 0.6143\n",
            "Epoch 6/10\n",
            "\u001b[1m4/4\u001b[0m \u001b[32m━━━━━━━━━━━━━━━━━━━━\u001b[0m\u001b[37m\u001b[0m \u001b[1m1s\u001b[0m 125ms/step - accuracy: 0.9013 - loss: 0.5992\n",
            "Epoch 7/10\n",
            "\u001b[1m4/4\u001b[0m \u001b[32m━━━━━━━━━━━━━━━━━━━━\u001b[0m\u001b[37m\u001b[0m \u001b[1m1s\u001b[0m 114ms/step - accuracy: 0.9090 - loss: 0.5811\n",
            "Epoch 8/10\n",
            "\u001b[1m4/4\u001b[0m \u001b[32m━━━━━━━━━━━━━━━━━━━━\u001b[0m\u001b[37m\u001b[0m \u001b[1m1s\u001b[0m 125ms/step - accuracy: 0.9110 - loss: 0.5652\n",
            "Epoch 9/10\n",
            "\u001b[1m4/4\u001b[0m \u001b[32m━━━━━━━━━━━━━━━━━━━━\u001b[0m\u001b[37m\u001b[0m \u001b[1m0s\u001b[0m 115ms/step - accuracy: 0.9253 - loss: 0.5486\n",
            "Epoch 10/10\n",
            "\u001b[1m4/4\u001b[0m \u001b[32m━━━━━━━━━━━━━━━━━━━━\u001b[0m\u001b[37m\u001b[0m \u001b[1m1s\u001b[0m 129ms/step - accuracy: 0.9227 - loss: 0.5359\n"
          ]
        },
        {
          "output_type": "display_data",
          "data": {
            "text/plain": [
              "<Figure size 640x480 with 1 Axes>"
            ],
            "image/png": "[encoded data removed]"
          },
          "metadata": {}
        },
        {
          "output_type": "display_data",
          "data": {
            "text/plain": [
              "<Figure size 640x480 with 1 Axes>"
            ],
            "image/png": "[encoded data removed]"
          },
          "metadata": {}
        },
        {
          "output_type": "stream",
          "name": "stdout",
          "text": [
            "['loss', 'compile_metrics']\n",
            "Model Compiled and Trained\n",
            "Epoch 1/10\n",
            "\u001b[1m4/4\u001b[0m \u001b[32m━━━━━━━━━━━━━━━━━━━━\u001b[0m\u001b[37m\u001b[0m \u001b[1m3s\u001b[0m 89ms/step - accuracy: 0.5761 - loss: 0.6855\n",
            "Epoch 2/10\n",
            "\u001b[1m4/4\u001b[0m \u001b[32m━━━━━━━━━━━━━━━━━━━━\u001b[0m\u001b[37m\u001b[0m \u001b[1m1s\u001b[0m 99ms/step - accuracy: 0.7028 - loss: 0.6528\n",
            "Epoch 3/10\n",
            "\u001b[1m4/4\u001b[0m \u001b[32m━━━━━━━━━━━━━━━━━━━━\u001b[0m\u001b[37m\u001b[0m \u001b[1m0s\u001b[0m 83ms/step - accuracy: 0.7370 - loss: 0.6217\n",
            "Epoch 4/10\n",
            "\u001b[1m4/4\u001b[0m \u001b[32m━━━━━━━━━━━━━━━━━━━━\u001b[0m\u001b[37m\u001b[0m \u001b[1m0s\u001b[0m 90ms/step - accuracy: 0.7806 - loss: 0.5729\n",
            "Epoch 5/10\n",
            "\u001b[1m4/4\u001b[0m \u001b[32m━━━━━━━━━━━━━━━━━━━━\u001b[0m\u001b[37m\u001b[0m \u001b[1m1s\u001b[0m 86ms/step - accuracy: 0.8336 - loss: 0.5267\n",
            "Epoch 6/10\n",
            "\u001b[1m4/4\u001b[0m \u001b[32m━━━━━━━━━━━━━━━━━━━━\u001b[0m\u001b[37m\u001b[0m \u001b[1m1s\u001b[0m 96ms/step - accuracy: 0.8412 - loss: 0.4671\n",
            "Epoch 7/10\n",
            "\u001b[1m4/4\u001b[0m \u001b[32m━━━━━━━━━━━━━━━━━━━━\u001b[0m\u001b[37m\u001b[0m \u001b[1m0s\u001b[0m 88ms/step - accuracy: 0.8585 - loss: 0.4423\n",
            "Epoch 8/10\n",
            "\u001b[1m4/4\u001b[0m \u001b[32m━━━━━━━━━━━━━━━━━━━━\u001b[0m\u001b[37m\u001b[0m \u001b[1m0s\u001b[0m 95ms/step - accuracy: 0.9218 - loss: 0.3718\n",
            "Epoch 9/10\n",
            "\u001b[1m4/4\u001b[0m \u001b[32m━━━━━━━━━━━━━━━━━━━━\u001b[0m\u001b[37m\u001b[0m \u001b[1m1s\u001b[0m 92ms/step - accuracy: 0.9277 - loss: 0.3149\n",
            "Epoch 10/10\n",
            "\u001b[1m4/4\u001b[0m \u001b[32m━━━━━━━━━━━━━━━━━━━━\u001b[0m\u001b[37m\u001b[0m \u001b[1m1s\u001b[0m 104ms/step - accuracy: 0.9392 - loss: 0.2600\n"
          ]
        },
        {
          "output_type": "display_data",
          "data": {
            "text/plain": [
              "<Figure size 640x480 with 1 Axes>"
            ],
            "image/png": "[encoded data removed]"
          },
          "metadata": {}
        },
        {
          "output_type": "display_data",
          "data": {
            "text/plain": [
              "<Figure size 640x480 with 1 Axes>"
            ],
            "image/png": "[encoded data removed]"
          },
          "metadata": {}
        },
        {
          "output_type": "stream",
          "name": "stdout",
          "text": [
            "['loss', 'compile_metrics']\n",
            "Model Compiled and Trained\n",
            "Epoch 1/10\n",
            "\u001b[1m4/4\u001b[0m \u001b[32m━━━━━━━━━━━━━━━━━━━━\u001b[0m\u001b[37m\u001b[0m \u001b[1m4s\u001b[0m 102ms/step - accuracy: 0.5327 - loss: 0.6965\n",
            "Epoch 2/10\n",
            "\u001b[1m4/4\u001b[0m \u001b[32m━━━━━━━━━━━━━━━━━━━━\u001b[0m\u001b[37m\u001b[0m \u001b[1m0s\u001b[0m 93ms/step - accuracy: 0.5957 - loss: 0.6871\n",
            "Epoch 3/10\n",
            "\u001b[1m4/4\u001b[0m \u001b[32m━━━━━━━━━━━━━━━━━━━━\u001b[0m\u001b[37m\u001b[0m \u001b[1m0s\u001b[0m 94ms/step - accuracy: 0.6258 - loss: 0.6806\n",
            "Epoch 4/10\n",
            "\u001b[1m4/4\u001b[0m \u001b[32m━━━━━━━━━━━━━━━━━━━━\u001b[0m\u001b[37m\u001b[0m \u001b[1m0s\u001b[0m 99ms/step - accuracy: 0.6777 - loss: 0.6721\n",
            "Epoch 5/10\n",
            "\u001b[1m4/4\u001b[0m \u001b[32m━━━━━━━━━━━━━━━━━━━━\u001b[0m\u001b[37m\u001b[0m \u001b[1m1s\u001b[0m 99ms/step - accuracy: 0.7038 - loss: 0.6670\n",
            "Epoch 6/10\n",
            "\u001b[1m4/4\u001b[0m \u001b[32m━━━━━━━━━━━━━━━━━━━━\u001b[0m\u001b[37m\u001b[0m \u001b[1m0s\u001b[0m 100ms/step - accuracy: 0.7173 - loss: 0.6604\n",
            "Epoch 7/10\n",
            "\u001b[1m4/4\u001b[0m \u001b[32m━━━━━━━━━━━━━━━━━━━━\u001b[0m\u001b[37m\u001b[0m \u001b[1m0s\u001b[0m 98ms/step - accuracy: 0.7783 - loss: 0.6490\n",
            "Epoch 8/10\n",
            "\u001b[1m4/4\u001b[0m \u001b[32m━━━━━━━━━━━━━━━━━━━━\u001b[0m\u001b[37m\u001b[0m \u001b[1m1s\u001b[0m 105ms/step - accuracy: 0.7457 - loss: 0.6420\n",
            "Epoch 9/10\n",
            "\u001b[1m4/4\u001b[0m \u001b[32m━━━━━━━━━━━━━━━━━━━━\u001b[0m\u001b[37m\u001b[0m \u001b[1m1s\u001b[0m 104ms/step - accuracy: 0.7523 - loss: 0.6324\n",
            "Epoch 10/10\n",
            "\u001b[1m4/4\u001b[0m \u001b[32m━━━━━━━━━━━━━━━━━━━━\u001b[0m\u001b[37m\u001b[0m \u001b[1m0s\u001b[0m 100ms/step - accuracy: 0.7574 - loss: 0.6223\n"
          ]
        },
        {
          "output_type": "display_data",
          "data": {
            "text/plain": [
              "<Figure size 640x480 with 1 Axes>"
            ],
            "image/png": "[encoded data removed]"
          },
          "metadata": {}
        },
        {
          "output_type": "display_data",
          "data": {
            "text/plain": [
              "<Figure size 640x480 with 1 Axes>"
            ],
            "image/png": "[encoded data removed]"
          },
          "metadata": {}
        },
        {
          "output_type": "stream",
          "name": "stdout",
          "text": [
            "['loss', 'compile_metrics']\n",
            "Model Compiled and Trained\n",
            "Epoch 1/10\n",
            "\u001b[1m4/4\u001b[0m \u001b[32m━━━━━━━━━━━━━━━━━━━━\u001b[0m\u001b[37m\u001b[0m \u001b[1m1s\u001b[0m 12ms/step - accuracy: 0.5273 - loss: 0.6976\n",
            "Epoch 2/10\n",
            "\u001b[1m4/4\u001b[0m \u001b[32m━━━━━━━━━━━━━━━━━━━━\u001b[0m\u001b[37m\u001b[0m \u001b[1m0s\u001b[0m 13ms/step - accuracy: 0.6002 - loss: 0.6924\n",
            "Epoch 3/10\n",
            "\u001b[1m4/4\u001b[0m \u001b[32m━━━━━━━━━━━━━━━━━━━━\u001b[0m\u001b[37m\u001b[0m \u001b[1m0s\u001b[0m 14ms/step - accuracy: 0.6121 - loss: 0.6899\n",
            "Epoch 4/10\n",
            "\u001b[1m4/4\u001b[0m \u001b[32m━━━━━━━━━━━━━━━━━━━━\u001b[0m\u001b[37m\u001b[0m \u001b[1m0s\u001b[0m 13ms/step - accuracy: 0.6169 - loss: 0.6862\n",
            "Epoch 5/10\n",
            "\u001b[1m4/4\u001b[0m \u001b[32m━━━━━━━━━━━━━━━━━━━━\u001b[0m\u001b[37m\u001b[0m \u001b[1m0s\u001b[0m 13ms/step - accuracy: 0.6089 - loss: 0.6846\n",
            "Epoch 6/10\n",
            "\u001b[1m4/4\u001b[0m \u001b[32m━━━━━━━━━━━━━━━━━━━━\u001b[0m\u001b[37m\u001b[0m \u001b[1m0s\u001b[0m 16ms/step - accuracy: 0.6400 - loss: 0.6812 \n",
            "Epoch 7/10\n",
            "\u001b[1m4/4\u001b[0m \u001b[32m━━━━━━━━━━━━━━━━━━━━\u001b[0m\u001b[37m\u001b[0m \u001b[1m0s\u001b[0m 15ms/step - accuracy: 0.6610 - loss: 0.6787\n",
            "Epoch 8/10\n",
            "\u001b[1m4/4\u001b[0m \u001b[32m━━━━━━━━━━━━━━━━━━━━\u001b[0m\u001b[37m\u001b[0m \u001b[1m0s\u001b[0m 13ms/step - accuracy: 0.6519 - loss: 0.6761\n",
            "Epoch 9/10\n",
            "\u001b[1m4/4\u001b[0m \u001b[32m━━━━━━━━━━━━━━━━━━━━\u001b[0m\u001b[37m\u001b[0m \u001b[1m0s\u001b[0m 13ms/step - accuracy: 0.6787 - loss: 0.6735\n",
            "Epoch 10/10\n",
            "\u001b[1m4/4\u001b[0m \u001b[32m━━━━━━━━━━━━━━━━━━━━\u001b[0m\u001b[37m\u001b[0m \u001b[1m0s\u001b[0m 19ms/step - accuracy: 0.6922 - loss: 0.6691\n"
          ]
        },
        {
          "output_type": "display_data",
          "data": {
            "text/plain": [
              "<Figure size 640x480 with 1 Axes>"
            ],
            "image/png": "[encoded data removed]"
          },
          "metadata": {}
        },
        {
          "output_type": "display_data",
          "data": {
            "text/plain": [
              "<Figure size 640x480 with 1 Axes>"
            ],
            "image/png": "[encoded data removed]"
          },
          "metadata": {}
        },
        {
          "output_type": "stream",
          "name": "stdout",
          "text": [
            "['loss', 'compile_metrics']\n",
            "Model Compiled and Trained\n",
            "Model Compiled and Trained\n",
            "Model Compiled and Trained\n",
            "Model Compiled and Trained\n",
            "Model Compiled and Trained\n"
          ]
        }
      ],
      "source": [
        "\n",
        "## Comment next 2 blocks if loading pre-trained models\n",
        "## Execute them if training new models\n",
        "\n",
        "model_gru = GRU_model(X_train.shape[1]) #quando treina novo modelo\n",
        "model_cnn = CNN_model(X_train.shape[1])\n",
        "model_lstm = LSTM_model(X_train.shape[1])\n",
        "model_dnn = DNN_model(X_train.shape[1])\n",
        "model_svm = SVM()\n",
        "model_lr = LR()\n",
        "model_gd = GD()\n",
        "model_knn = kNN()\n",
        "\n",
        "model_gru = compile_train(model_gru,format_3d(X_train),y_train)  #quando treina novo modelo, ou retreina\n",
        "model_cnn = compile_train(model_cnn,format_3d(X_train),y_train)\n",
        "model_lstm = compile_train(model_lstm,format_3d(X_train),y_train)\n",
        "model_dnn = compile_train(model_dnn,X_train,y_train)\n",
        "model_svm = compile_train(model_svm,X_train,y_train,False)\n",
        "model_lr = compile_train(model_lr,X_train,y_train,False)\n",
        "model_gd = compile_train(model_gd,X_train,y_train,False)\n",
        "model_knn = compile_train(model_knn,X_train,y_train,False)\n",
        "\n",
        "## Comment next 2 blocks if training new models\n",
        "## Execute them if loading pre-trained models\n",
        "\n",
        "# model_gru = load_model('GRU20-32-b256') #when loading previously saved trained model and weights\n",
        "# model_cnn = load_model('CNN5-3cam-b2560')\n",
        "# model_lstm = load_model('LSTM5-32-b256')\n",
        "# model_dnn = load_model('DNN5-2560')\n",
        "# model_svm = load_Sklearn('SVM')\n",
        "# model_lr = load_Sklearn('LR')\n",
        "# model_gd = load_Sklearn('GD')\n",
        "# model_knn = load_Sklearn('kNN-1viz')\n",
        "\n",
        "# model_gru.compile(loss='binary_crossentropy', optimizer='adam', metrics=['accuracy']) #qdo carrega modelo salvo\n",
        "# model_cnn.compile(loss='binary_crossentropy', optimizer='adam', metrics=['accuracy'])\n",
        "# model_lstm.compile(loss='binary_crossentropy', optimizer='adam', metrics=['accuracy'])\n",
        "# model_dnn.compile(loss='binary_crossentropy', optimizer='adam', metrics=['accuracy'])\n"
      ]
    },
    {
      "cell_type": "markdown",
      "id": "6f3b9af1",
      "metadata": {
        "papermill": {
          "duration": 0.022401,
          "end_time": "2025-02-01T19:56:55.581100",
          "exception": false,
          "start_time": "2025-02-01T19:56:55.558699",
          "status": "completed"
        },
        "tags": [],
        "id": "6f3b9af1"
      },
      "source": [
        "# Testing CIC-DDoS2019"
      ]
    },
    {
      "cell_type": "code",
      "execution_count": null,
      "id": "c993b7c2",
      "metadata": {
        "papermill": {
          "duration": 0.029407,
          "end_time": "2025-02-01T19:56:55.632940",
          "exception": false,
          "start_time": "2025-02-01T19:56:55.603533",
          "status": "completed"
        },
        "tags": [],
        "id": "c993b7c2"
      },
      "outputs": [],
      "source": [
        "results = pd.DataFrame(columns=['Method','Accuracy','Precision','Recall', 'F1_Score', 'Average','Normal_Detect_Rate','Atk_Detect_Rate'])"
      ]
    },
    {
      "cell_type": "markdown",
      "id": "87f4d340",
      "metadata": {
        "papermill": {
          "duration": 0.022185,
          "end_time": "2025-02-01T19:56:55.677557",
          "exception": false,
          "start_time": "2025-02-01T19:56:55.655372",
          "status": "completed"
        },
        "tags": [],
        "id": "87f4d340"
      },
      "source": [
        "### GRU"
      ]
    },
    {
      "cell_type": "code",
      "execution_count": null,
      "id": "cde90133",
      "metadata": {
        "papermill": {
          "duration": 0.651977,
          "end_time": "2025-02-01T19:56:56.351775",
          "exception": false,
          "start_time": "2025-02-01T19:56:55.699798",
          "status": "completed"
        },
        "tags": [],
        "colab": {
          "base_uri": "https://localhost:8080/"
        },
        "id": "cde90133",
        "outputId": "b5ffea06-c5e7-415b-9495-035a886e3d26"
      },
      "outputs": [
        {
          "output_type": "stream",
          "name": "stdout",
          "text": [
            "\u001b[1m36/36\u001b[0m \u001b[32m━━━━━━━━━━━━━━━━━━━━\u001b[0m\u001b[37m\u001b[0m \u001b[1m0s\u001b[0m 12ms/step\n",
            "\u001b[1m36/36\u001b[0m \u001b[32m━━━━━━━━━━━━━━━━━━━━\u001b[0m\u001b[37m\u001b[0m \u001b[1m1s\u001b[0m 14ms/step - accuracy: 0.7138 - loss: 0.5943\n",
            "[0.5493913888931274, 0.8333333134651184]\n",
            "\n",
            "Accuracy\n",
            "0.8333333333333334\n",
            "\n",
            "Precision\n",
            "0.8333333333333334\n",
            "\n",
            "Recall\n",
            "1.0\n",
            "\n",
            "F1 Score\n",
            "0.9090909090909091\n",
            "\n",
            "Average (acc, prec, rec, f1)\n",
            "0.893939393939394\n"
          ]
        }
      ],
      "source": [
        "y_pred = model_gru.predict(format_3d(X_test))\n",
        "\n",
        "y_pred = y_pred.round()\n",
        "\n",
        "acc, prec, rec, f1, avrg = testes(model_gru,format_3d(X_test),y_test,y_pred)\n",
        "\n",
        "norm, atk = test_normal_atk(y_test,y_pred)\n",
        "\n",
        "# Replace append with concat\n",
        "results = pd.concat([results, pd.DataFrame([{'Method': 'GRU', 'Accuracy': acc, 'Precision': prec,\n",
        "                                             'F1_Score': f1, 'Recall': rec, 'Average': avrg,\n",
        "                                             'Normal_Detect_Rate': norm, 'Atk_Detect_Rate': atk}])],\n",
        "                     ignore_index=True)\n"
      ]
    },
    {
      "cell_type": "markdown",
      "id": "c2a9346e",
      "metadata": {
        "papermill": {
          "duration": 0.022671,
          "end_time": "2025-02-01T19:56:56.398540",
          "exception": false,
          "start_time": "2025-02-01T19:56:56.375869",
          "status": "completed"
        },
        "tags": [],
        "id": "c2a9346e"
      },
      "source": [
        "### CNN"
      ]
    },
    {
      "cell_type": "code",
      "execution_count": null,
      "id": "7ba6e5af",
      "metadata": {
        "papermill": {
          "duration": 1.516203,
          "end_time": "2025-02-01T19:56:57.937495",
          "exception": false,
          "start_time": "2025-02-01T19:56:56.421292",
          "status": "completed"
        },
        "tags": [],
        "colab": {
          "base_uri": "https://localhost:8080/"
        },
        "id": "7ba6e5af",
        "outputId": "564bb5e2-69f6-4b8e-8713-47898e43a1ca"
      },
      "outputs": [
        {
          "output_type": "stream",
          "name": "stdout",
          "text": [
            "\u001b[1m36/36\u001b[0m \u001b[32m━━━━━━━━━━━━━━━━━━━━\u001b[0m\u001b[37m\u001b[0m \u001b[1m0s\u001b[0m 5ms/step\n",
            "\u001b[1m36/36\u001b[0m \u001b[32m━━━━━━━━━━━━━━━━━━━━\u001b[0m\u001b[37m\u001b[0m \u001b[1m1s\u001b[0m 6ms/step - accuracy: 0.7199 - loss: 13067748.0000\n",
            "[9223192.0, 0.8350694179534912]\n",
            "\n",
            "Accuracy\n",
            "0.8350694444444444\n",
            "\n",
            "Precision\n",
            "0.8431372549019608\n",
            "\n",
            "Recall\n",
            "0.9854166666666667\n",
            "\n",
            "F1 Score\n",
            "0.9087415946205571\n",
            "\n",
            "Average (acc, prec, rec, f1)\n",
            "0.8930912401584072\n"
          ]
        }
      ],
      "source": [
        "y_pred = model_cnn.predict(format_3d(X_test))\n",
        "\n",
        "y_pred = y_pred.round()\n",
        "\n",
        "acc, prec, rec, f1, avrg = testes(model_cnn, format_3d(X_test), y_test, y_pred)\n",
        "\n",
        "norm, atk = test_normal_atk(y_test, y_pred)\n",
        "\n",
        "# Replace append with concat\n",
        "results = pd.concat([results, pd.DataFrame([{'Method': 'CNN', 'Accuracy': acc, 'Precision': prec,\n",
        "                                             'F1_Score': f1, 'Recall': rec, 'Average': avrg,\n",
        "                                             'Normal_Detect_Rate': norm, 'Atk_Detect_Rate': atk}])],\n",
        "                     ignore_index=True)\n"
      ]
    },
    {
      "cell_type": "markdown",
      "id": "76b88b09",
      "metadata": {
        "papermill": {
          "duration": 0.023427,
          "end_time": "2025-02-01T19:56:57.984994",
          "exception": false,
          "start_time": "2025-02-01T19:56:57.961567",
          "status": "completed"
        },
        "tags": [],
        "id": "76b88b09"
      },
      "source": [
        "### LSTM"
      ]
    },
    {
      "cell_type": "code",
      "execution_count": null,
      "id": "cb6d8c8f",
      "metadata": {
        "papermill": {
          "duration": 0.642472,
          "end_time": "2025-02-01T19:56:58.650874",
          "exception": false,
          "start_time": "2025-02-01T19:56:58.008402",
          "status": "completed"
        },
        "tags": [],
        "colab": {
          "base_uri": "https://localhost:8080/"
        },
        "id": "cb6d8c8f",
        "outputId": "9ab9aa64-e006-4f80-aa32-0899e1d0f6ad"
      },
      "outputs": [
        {
          "output_type": "stream",
          "name": "stdout",
          "text": [
            "\u001b[1m36/36\u001b[0m \u001b[32m━━━━━━━━━━━━━━━━━━━━\u001b[0m\u001b[37m\u001b[0m \u001b[1m2s\u001b[0m 31ms/step\n",
            "\u001b[1m36/36\u001b[0m \u001b[32m━━━━━━━━━━━━━━━━━━━━\u001b[0m\u001b[37m\u001b[0m \u001b[1m2s\u001b[0m 27ms/step - accuracy: 0.7138 - loss: 0.6951\n",
            "[0.6888779997825623, 0.8333333134651184]\n",
            "\n",
            "Accuracy\n",
            "0.8333333333333334\n",
            "\n",
            "Precision\n",
            "0.8333333333333334\n",
            "\n",
            "Recall\n",
            "1.0\n",
            "\n",
            "F1 Score\n",
            "0.9090909090909091\n",
            "\n",
            "Average (acc, prec, rec, f1)\n",
            "0.893939393939394\n"
          ]
        }
      ],
      "source": [
        "y_pred = model_lstm.predict(format_3d(X_test))\n",
        "\n",
        "y_pred = y_pred.round()\n",
        "\n",
        "acc, prec, rec, f1, avrg = testes(model_lstm, format_3d(X_test), y_test, y_pred)\n",
        "\n",
        "norm, atk = test_normal_atk(y_test, y_pred)\n",
        "\n",
        "# Replace append with concat\n",
        "results = pd.concat([results, pd.DataFrame([{'Method': 'LSTM', 'Accuracy': acc, 'Precision': prec,\n",
        "                                             'F1_Score': f1, 'Recall': rec, 'Average': avrg,\n",
        "                                             'Normal_Detect_Rate': norm, 'Atk_Detect_Rate': atk}])],\n",
        "                     ignore_index=True)\n"
      ]
    },
    {
      "cell_type": "markdown",
      "id": "cb6dd48f",
      "metadata": {
        "papermill": {
          "duration": 0.023906,
          "end_time": "2025-02-01T19:56:58.699076",
          "exception": false,
          "start_time": "2025-02-01T19:56:58.675170",
          "status": "completed"
        },
        "tags": [],
        "id": "cb6dd48f"
      },
      "source": [
        "### DNN"
      ]
    },
    {
      "cell_type": "code",
      "execution_count": null,
      "id": "d0c3f864",
      "metadata": {
        "papermill": {
          "duration": 1.070253,
          "end_time": "2025-02-01T19:56:59.792811",
          "exception": false,
          "start_time": "2025-02-01T19:56:58.722558",
          "status": "completed"
        },
        "tags": [],
        "colab": {
          "base_uri": "https://localhost:8080/"
        },
        "id": "d0c3f864",
        "outputId": "6830911c-265f-45df-d144-30d0d45b31d7"
      },
      "outputs": [
        {
          "output_type": "stream",
          "name": "stdout",
          "text": [
            "\u001b[1m36/36\u001b[0m \u001b[32m━━━━━━━━━━━━━━━━━━━━\u001b[0m\u001b[37m\u001b[0m \u001b[1m0s\u001b[0m 3ms/step\n",
            "\u001b[1m36/36\u001b[0m \u001b[32m━━━━━━━━━━━━━━━━━━━━\u001b[0m\u001b[37m\u001b[0m \u001b[1m1s\u001b[0m 14ms/step - accuracy: 0.6158 - loss: 1932759.8750\n",
            "[980483.4375, 0.7864583134651184]\n",
            "\n",
            "Accuracy\n",
            "0.7864583333333334\n",
            "\n",
            "Precision\n",
            "0.8269230769230769\n",
            "\n",
            "Recall\n",
            "0.940625\n",
            "\n",
            "F1 Score\n",
            "0.8801169590643275\n",
            "\n",
            "Average (acc, prec, rec, f1)\n",
            "0.8585308423301845\n"
          ]
        }
      ],
      "source": [
        "y_pred = model_dnn.predict(X_test)\n",
        "\n",
        "y_pred = y_pred.round()\n",
        "\n",
        "acc, prec, rec, f1, avrg = testes(model_dnn, X_test, y_test, y_pred)\n",
        "\n",
        "norm, atk = test_normal_atk(y_test, y_pred)\n",
        "\n",
        "# Replace append with concat\n",
        "results = pd.concat([results, pd.DataFrame([{'Method': 'DNN', 'Accuracy': acc, 'Precision': prec,\n",
        "                                             'F1_Score': f1, 'Recall': rec, 'Average': avrg,\n",
        "                                             'Normal_Detect_Rate': norm, 'Atk_Detect_Rate': atk}])],\n",
        "                     ignore_index=True)\n"
      ]
    },
    {
      "cell_type": "markdown",
      "id": "06d785c0",
      "metadata": {
        "papermill": {
          "duration": 0.023805,
          "end_time": "2025-02-01T19:56:59.841586",
          "exception": false,
          "start_time": "2025-02-01T19:56:59.817781",
          "status": "completed"
        },
        "tags": [],
        "id": "06d785c0"
      },
      "source": [
        "### SVM"
      ]
    },
    {
      "cell_type": "code",
      "execution_count": null,
      "id": "6e9f38bb",
      "metadata": {
        "papermill": {
          "duration": 0.048687,
          "end_time": "2025-02-01T19:56:59.914425",
          "exception": false,
          "start_time": "2025-02-01T19:56:59.865738",
          "status": "completed"
        },
        "tags": [],
        "colab": {
          "base_uri": "https://localhost:8080/"
        },
        "id": "6e9f38bb",
        "outputId": "5b889f9f-2eab-4c32-d94a-76ce8402a012"
      },
      "outputs": [
        {
          "output_type": "stream",
          "name": "stdout",
          "text": [
            "\n",
            "Accuracy\n",
            "0.8359375\n",
            "\n",
            "Precision\n",
            "0.8360941586748039\n",
            "\n",
            "Recall\n",
            "0.9989583333333333\n",
            "\n",
            "F1 Score\n",
            "0.9102990033222591\n",
            "\n",
            "Average (acc, prec, rec, f1)\n",
            "0.895322248832599\n"
          ]
        }
      ],
      "source": [
        "y_pred = model_svm.predict(X_test)\n",
        "\n",
        "y_pred = y_pred.round()\n",
        "\n",
        "acc, prec, rec, f1, avrg = testes(model_svm, X_test, y_test, y_pred, False)\n",
        "\n",
        "norm, atk = test_normal_atk(y_test, y_pred)\n",
        "\n",
        "# Replace append with concat\n",
        "results = pd.concat([results, pd.DataFrame([{'Method': 'SVM', 'Accuracy': acc, 'Precision': prec,\n",
        "                                             'F1_Score': f1, 'Recall': rec, 'Average': avrg,\n",
        "                                             'Normal_Detect_Rate': norm, 'Atk_Detect_Rate': atk}])],\n",
        "                     ignore_index=True)\n"
      ]
    },
    {
      "cell_type": "markdown",
      "id": "3e69d6f6",
      "metadata": {
        "papermill": {
          "duration": 0.02377,
          "end_time": "2025-02-01T19:56:59.962383",
          "exception": false,
          "start_time": "2025-02-01T19:56:59.938613",
          "status": "completed"
        },
        "tags": [],
        "id": "3e69d6f6"
      },
      "source": [
        "### LR"
      ]
    },
    {
      "cell_type": "code",
      "execution_count": null,
      "id": "80bc3711",
      "metadata": {
        "papermill": {
          "duration": 0.04692,
          "end_time": "2025-02-01T19:57:00.033873",
          "exception": false,
          "start_time": "2025-02-01T19:56:59.986953",
          "status": "completed"
        },
        "tags": [],
        "colab": {
          "base_uri": "https://localhost:8080/"
        },
        "id": "80bc3711",
        "outputId": "d135239b-b50a-494f-af8a-addc2eb215c7"
      },
      "outputs": [
        {
          "output_type": "stream",
          "name": "stdout",
          "text": [
            "\n",
            "Accuracy\n",
            "0.8350694444444444\n",
            "\n",
            "Precision\n",
            "0.8347826086956521\n",
            "\n",
            "Recall\n",
            "1.0\n",
            "\n",
            "F1 Score\n",
            "0.909952606635071\n",
            "\n",
            "Average (acc, prec, rec, f1)\n",
            "0.8949511649437919\n"
          ]
        }
      ],
      "source": [
        "y_pred = model_lr.predict(X_test)\n",
        "\n",
        "y_pred = y_pred.round()\n",
        "\n",
        "acc, prec, rec, f1, avrg = testes(model_lr, X_test, y_test, y_pred, False)\n",
        "\n",
        "norm, atk = test_normal_atk(y_test, y_pred)\n",
        "\n",
        "# Replace append with concat\n",
        "results = pd.concat([results, pd.DataFrame([{'Method': 'LR', 'Accuracy': acc, 'Precision': prec,\n",
        "                                             'F1_Score': f1, 'Recall': rec, 'Average': avrg,\n",
        "                                             'Normal_Detect_Rate': norm, 'Atk_Detect_Rate': atk}])],\n",
        "                     ignore_index=True)\n"
      ]
    },
    {
      "cell_type": "markdown",
      "id": "eb4a5ace",
      "metadata": {
        "papermill": {
          "duration": 0.024082,
          "end_time": "2025-02-01T19:57:00.082144",
          "exception": false,
          "start_time": "2025-02-01T19:57:00.058062",
          "status": "completed"
        },
        "tags": [],
        "id": "eb4a5ace"
      },
      "source": [
        "### GB"
      ]
    },
    {
      "cell_type": "code",
      "execution_count": null,
      "id": "a8f16e29",
      "metadata": {
        "papermill": {
          "duration": 0.047992,
          "end_time": "2025-02-01T19:57:00.154451",
          "exception": false,
          "start_time": "2025-02-01T19:57:00.106459",
          "status": "completed"
        },
        "tags": [],
        "colab": {
          "base_uri": "https://localhost:8080/"
        },
        "id": "a8f16e29",
        "outputId": "ccc2c6e8-7694-470d-db70-7de5d2f2c109"
      },
      "outputs": [
        {
          "output_type": "stream",
          "name": "stdout",
          "text": [
            "\n",
            "Accuracy\n",
            "0.8333333333333334\n",
            "\n",
            "Precision\n",
            "0.8333333333333334\n",
            "\n",
            "Recall\n",
            "1.0\n",
            "\n",
            "F1 Score\n",
            "0.9090909090909091\n",
            "\n",
            "Average (acc, prec, rec, f1)\n",
            "0.893939393939394\n"
          ]
        }
      ],
      "source": [
        "y_pred = model_gd.predict(X_test)\n",
        "\n",
        "y_pred = y_pred.round()\n",
        "\n",
        "acc, prec, rec, f1, avrg = testes(model_gd, X_test, y_test, y_pred, False)\n",
        "\n",
        "norm, atk = test_normal_atk(y_test, y_pred)\n",
        "\n",
        "# Replace append with concat\n",
        "results = pd.concat([results, pd.DataFrame([{'Method': 'GB', 'Accuracy': acc, 'Precision': prec,\n",
        "                                             'F1_Score': f1, 'Recall': rec, 'Average': avrg,\n",
        "                                             'Normal_Detect_Rate': norm, 'Atk_Detect_Rate': atk}])],\n",
        "                     ignore_index=True)\n"
      ]
    },
    {
      "cell_type": "markdown",
      "id": "2bacbdce",
      "metadata": {
        "papermill": {
          "duration": 0.023867,
          "end_time": "2025-02-01T19:57:00.202394",
          "exception": false,
          "start_time": "2025-02-01T19:57:00.178527",
          "status": "completed"
        },
        "tags": [],
        "id": "2bacbdce"
      },
      "source": [
        "### kNN"
      ]
    },
    {
      "cell_type": "code",
      "execution_count": null,
      "id": "e513a071",
      "metadata": {
        "papermill": {
          "duration": 0.140062,
          "end_time": "2025-02-01T19:57:00.366398",
          "exception": false,
          "start_time": "2025-02-01T19:57:00.226336",
          "status": "completed"
        },
        "tags": [],
        "colab": {
          "base_uri": "https://localhost:8080/"
        },
        "id": "e513a071",
        "outputId": "3a3a2330-8e97-43b2-cb2a-abe40cc7ae0c"
      },
      "outputs": [
        {
          "output_type": "stream",
          "name": "stdout",
          "text": [
            "\n",
            "Accuracy\n",
            "0.8576388888888888\n",
            "\n",
            "Precision\n",
            "0.8658088235294118\n",
            "\n",
            "Recall\n",
            "0.98125\n",
            "\n",
            "F1 Score\n",
            "0.919921875\n",
            "\n",
            "Average (acc, prec, rec, f1)\n",
            "0.9061548968545752\n"
          ]
        }
      ],
      "source": [
        "y_pred = model_knn.predict(X_test)\n",
        "\n",
        "y_pred = y_pred.round()\n",
        "\n",
        "acc, prec, rec, f1, avrg = testes(model_knn, X_test, y_test, y_pred, False)\n",
        "\n",
        "norm, atk = test_normal_atk(y_test, y_pred)\n",
        "\n",
        "# Replace append with concat\n",
        "results = pd.concat([results, pd.DataFrame([{'Method': 'kNN', 'Accuracy': acc, 'Precision': prec,\n",
        "                                             'F1_Score': f1, 'Recall': rec, 'Average': avrg,\n",
        "                                             'Normal_Detect_Rate': norm, 'Atk_Detect_Rate': atk}])],\n",
        "                     ignore_index=True)\n"
      ]
    },
    {
      "cell_type": "markdown",
      "id": "700a6793",
      "metadata": {
        "papermill": {
          "duration": 0.024087,
          "end_time": "2025-02-01T19:57:00.415160",
          "exception": false,
          "start_time": "2025-02-01T19:57:00.391073",
          "status": "completed"
        },
        "tags": [],
        "id": "700a6793"
      },
      "source": [
        "# Discussion and Results\n",
        "\n",
        "Showing the table 'results', containing the performance metrics outcomes for each method."
      ]
    },
    {
      "cell_type": "code",
      "execution_count": null,
      "id": "75e672fb",
      "metadata": {
        "papermill": {
          "duration": 0.044027,
          "end_time": "2025-02-01T19:57:00.483943",
          "exception": false,
          "start_time": "2025-02-01T19:57:00.439916",
          "status": "completed"
        },
        "tags": [],
        "colab": {
          "base_uri": "https://localhost:8080/",
          "height": 300
        },
        "id": "75e672fb",
        "outputId": "372789d1-260e-4bef-b87b-305199c1f408"
      },
      "outputs": [
        {
          "output_type": "execute_result",
          "data": {
            "text/plain": [
              "  Method  Accuracy  Precision    Recall  F1_Score   Average  \\\n",
              "0    GRU  0.833333   0.833333  1.000000  0.909091  0.893939   \n",
              "1    CNN  0.835069   0.843137  0.985417  0.908742  0.893091   \n",
              "2   LSTM  0.833333   0.833333  1.000000  0.909091  0.893939   \n",
              "3    DNN  0.786458   0.826923  0.940625  0.880117  0.858531   \n",
              "4    SVM  0.835938   0.836094  0.998958  0.910299  0.895322   \n",
              "5     LR  0.835069   0.834783  1.000000  0.909953  0.894951   \n",
              "6     GB  0.833333   0.833333  1.000000  0.909091  0.893939   \n",
              "7    kNN  0.857639   0.865809  0.981250  0.919922  0.906155   \n",
              "\n",
              "   Normal_Detect_Rate  Atk_Detect_Rate  \n",
              "0            0.000000         1.000000  \n",
              "1            0.083333         0.985417  \n",
              "2            0.000000         1.000000  \n",
              "3            0.015625         0.940625  \n",
              "4            0.020833         0.998958  \n",
              "5            0.010417         1.000000  \n",
              "6            0.000000         1.000000  \n",
              "7            0.239583         0.981250  "
            ],
            "text/html": [
              "\n",
              "  <div id=\"df-0bbf940d-d519-41f1-9f8d-b0f40b1c9595\" class=\"colab-df-container\">\n",
              "    <div>\n",
              "<style scoped>\n",
              "    .dataframe tbody tr th:only-of-type {\n",
              "        vertical-align: middle;\n",
              "    }\n",
              "\n",
              "    .dataframe tbody tr th {\n",
              "        vertical-align: top;\n",
              "    }\n",
              "\n",
              "    .dataframe thead th {\n",
              "        text-align: right;\n",
              "    }\n",
              "</style>\n",
              "<table border=\"1\" class=\"dataframe\">\n",
              "  <thead>\n",
              "    <tr style=\"text-align: right;\">\n",
              "      <th></th>\n",
              "      <th>Method</th>\n",
              "      <th>Accuracy</th>\n",
              "      <th>Precision</th>\n",
              "      <th>Recall</th>\n",
              "      <th>F1_Score</th>\n",
              "      <th>Average</th>\n",
              "      <th>Normal_Detect_Rate</th>\n",
              "      <th>Atk_Detect_Rate</th>\n",
              "    </tr>\n",
              "  </thead>\n",
              "  <tbody>\n",
              "    <tr>\n",
              "      <th>0</th>\n",
              "      <td>GRU</td>\n",
              "      <td>0.833333</td>\n",
              "      <td>0.833333</td>\n",
              "      <td>1.000000</td>\n",
              "      <td>0.909091</td>\n",
              "      <td>0.893939</td>\n",
              "      <td>0.000000</td>\n",
              "      <td>1.000000</td>\n",
              "    </tr>\n",
              "    <tr>\n",
              "      <th>1</th>\n",
              "      <td>CNN</td>\n",
              "      <td>0.835069</td>\n",
              "      <td>0.843137</td>\n",
              "      <td>0.985417</td>\n",
              "      <td>0.908742</td>\n",
              "      <td>0.893091</td>\n",
              "      <td>0.083333</td>\n",
              "      <td>0.985417</td>\n",
              "    </tr>\n",
              "    <tr>\n",
              "      <th>2</th>\n",
              "      <td>LSTM</td>\n",
              "      <td>0.833333</td>\n",
              "      <td>0.833333</td>\n",
              "      <td>1.000000</td>\n",
              "      <td>0.909091</td>\n",
              "      <td>0.893939</td>\n",
              "      <td>0.000000</td>\n",
              "      <td>1.000000</td>\n",
              "    </tr>\n",
              "    <tr>\n",
              "      <th>3</th>\n",
              "      <td>DNN</td>\n",
              "      <td>0.786458</td>\n",
              "      <td>0.826923</td>\n",
              "      <td>0.940625</td>\n",
              "      <td>0.880117</td>\n",
              "      <td>0.858531</td>\n",
              "      <td>0.015625</td>\n",
              "      <td>0.940625</td>\n",
              "    </tr>\n",
              "    <tr>\n",
              "      <th>4</th>\n",
              "      <td>SVM</td>\n",
              "      <td>0.835938</td>\n",
              "      <td>0.836094</td>\n",
              "      <td>0.998958</td>\n",
              "      <td>0.910299</td>\n",
              "      <td>0.895322</td>\n",
              "      <td>0.020833</td>\n",
              "      <td>0.998958</td>\n",
              "    </tr>\n",
              "    <tr>\n",
              "      <th>5</th>\n",
              "      <td>LR</td>\n",
              "      <td>0.835069</td>\n",
              "      <td>0.834783</td>\n",
              "      <td>1.000000</td>\n",
              "      <td>0.909953</td>\n",
              "      <td>0.894951</td>\n",
              "      <td>0.010417</td>\n",
              "      <td>1.000000</td>\n",
              "    </tr>\n",
              "    <tr>\n",
              "      <th>6</th>\n",
              "      <td>GB</td>\n",
              "      <td>0.833333</td>\n",
              "      <td>0.833333</td>\n",
              "      <td>1.000000</td>\n",
              "      <td>0.909091</td>\n",
              "      <td>0.893939</td>\n",
              "      <td>0.000000</td>\n",
              "      <td>1.000000</td>\n",
              "    </tr>\n",
              "    <tr>\n",
              "      <th>7</th>\n",
              "      <td>kNN</td>\n",
              "      <td>0.857639</td>\n",
              "      <td>0.865809</td>\n",
              "      <td>0.981250</td>\n",
              "      <td>0.919922</td>\n",
              "      <td>0.906155</td>\n",
              "      <td>0.239583</td>\n",
              "      <td>0.981250</td>\n",
              "    </tr>\n",
              "  </tbody>\n",
              "</table>\n",
              "</div>\n",
              "    <div class=\"colab-df-buttons\">\n",
              "\n",
              "  <div class=\"colab-df-container\">\n",
              "    <button class=\"colab-df-convert\" onclick=\"convertToInteractive('df-0bbf940d-d519-41f1-9f8d-b0f40b1c9595')\"\n",
              "            title=\"Convert this dataframe to an interactive table.\"\n",
              "            style=\"display:none;\">\n",
              "\n",
              "  <svg xmlns=\"http://www.w3.org/2000/svg\" height=\"24px\" viewBox=\"0 -960 960 960\">\n",
              "    <path d=\"M120-120v-720h720v720H120Zm60-500h600v-160H180v160Zm220 220h160v-160H400v160Zm0 220h160v-160H400v160ZM180-400h160v-160H180v160Zm440 0h160v-160H620v160ZM180-180h160v-160H180v160Zm440 0h160v-160H620v160Z\"/>\n",
              "  </svg>\n",
              "    </button>\n",
              "\n",
              "  <style>\n",
              "    .colab-df-container {\n",
              "      display:flex;\n",
              "      gap: 12px;\n",
              "    }\n",
              "\n",
              "    .colab-df-convert {\n",
              "      background-color: #E8F0FE;\n",
              "      border: none;\n",
              "      border-radius: 50%;\n",
              "      cursor: pointer;\n",
              "      display: none;\n",
              "      fill: #1967D2;\n",
              "      height: 32px;\n",
              "      padding: 0 0 0 0;\n",
              "      width: 32px;\n",
              "    }\n",
              "\n",
              "    .colab-df-convert:hover {\n",
              "      background-color: #E2EBFA;\n",
              "      box-shadow: 0px 1px 2px rgba(60, 64, 67, 0.3), 0px 1px 3px 1px rgba(60, 64, 67, 0.15);\n",
              "      fill: #174EA6;\n",
              "    }\n",
              "\n",
              "    .colab-df-buttons div {\n",
              "      margin-bottom: 4px;\n",
              "    }\n",
              "\n",
              "    [theme=dark] .colab-df-convert {\n",
              "      background-color: #3B4455;\n",
              "      fill: #D2E3FC;\n",
              "    }\n",
              "\n",
              "    [theme=dark] .colab-df-convert:hover {\n",
              "      background-color: #434B5C;\n",
              "      box-shadow: 0px 1px 3px 1px rgba(0, 0, 0, 0.15);\n",
              "      filter: drop-shadow(0px 1px 2px rgba(0, 0, 0, 0.3));\n",
              "      fill: #FFFFFF;\n",
              "    }\n",
              "  </style>\n",
              "\n",
              "    <script>\n",
              "      const buttonEl =\n",
              "        document.querySelector('#df-0bbf940d-d519-41f1-9f8d-b0f40b1c9595 button.colab-df-convert');\n",
              "      buttonEl.style.display =\n",
              "        google.colab.kernel.accessAllowed ? 'block' : 'none';\n",
              "\n",
              "      async function convertToInteractive(key) {\n",
              "        const element = document.querySelector('#df-0bbf940d-d519-41f1-9f8d-b0f40b1c9595');\n",
              "        const dataTable =\n",
              "          await google.colab.kernel.invokeFunction('convertToInteractive',\n",
              "                                                    [key], {});\n",
              "        if (!dataTable) return;\n",
              "\n",
              "        const docLinkHtml = 'Like what you see? Visit the ' +\n",
              "          '<a target=\"_blank\" href=https://colab.research.google.com/notebooks/data_table.ipynb>data table notebook</a>'\n",
              "          + ' to learn more about interactive tables.';\n",
              "        element.innerHTML = '';\n",
              "        dataTable['output_type'] = 'display_data';\n",
              "        await google.colab.output.renderOutput(dataTable, element);\n",
              "        const docLink = document.createElement('div');\n",
              "        docLink.innerHTML = docLinkHtml;\n",
              "        element.appendChild(docLink);\n",
              "      }\n",
              "    </script>\n",
              "  </div>\n",
              "\n",
              "\n",
              "<div id=\"df-34e66324-9159-405f-a21f-bd99fc8b0c4f\">\n",
              "  <button class=\"colab-df-quickchart\" onclick=\"quickchart('df-34e66324-9159-405f-a21f-bd99fc8b0c4f')\"\n",
              "            title=\"Suggest charts\"\n",
              "            style=\"display:none;\">\n",
              "\n",
              "<svg xmlns=\"http://www.w3.org/2000/svg\" height=\"24px\"viewBox=\"0 0 24 24\"\n",
              "     width=\"24px\">\n",
              "    <g>\n",
              "        <path d=\"M19 3H5c-1.1 0-2 .9-2 2v14c0 1.1.9 2 2 2h14c1.1 0 2-.9 2-2V5c0-1.1-.9-2-2-2zM9 17H7v-7h2v7zm4 0h-2V7h2v10zm4 0h-2v-4h2v4z\"/>\n",
              "    </g>\n",
              "</svg>\n",
              "  </button>\n",
              "\n",
              "<style>\n",
              "  .colab-df-quickchart {\n",
              "      --bg-color: #E8F0FE;\n",
              "      --fill-color: #1967D2;\n",
              "      --hover-bg-color: #E2EBFA;\n",
              "      --hover-fill-color: #174EA6;\n",
              "      --disabled-fill-color: #AAA;\n",
              "      --disabled-bg-color: #DDD;\n",
              "  }\n",
              "\n",
              "  [theme=dark] .colab-df-quickchart {\n",
              "      --bg-color: #3B4455;\n",
              "      --fill-color: #D2E3FC;\n",
              "      --hover-bg-color: #434B5C;\n",
              "      --hover-fill-color: #FFFFFF;\n",
              "      --disabled-bg-color: #3B4455;\n",
              "      --disabled-fill-color: #666;\n",
              "  }\n",
              "\n",
              "  .colab-df-quickchart {\n",
              "    background-color: var(--bg-color);\n",
              "    border: none;\n",
              "    border-radius: 50%;\n",
              "    cursor: pointer;\n",
              "    display: none;\n",
              "    fill: var(--fill-color);\n",
              "    height: 32px;\n",
              "    padding: 0;\n",
              "    width: 32px;\n",
              "  }\n",
              "\n",
              "  .colab-df-quickchart:hover {\n",
              "    background-color: var(--hover-bg-color);\n",
              "    box-shadow: 0 1px 2px rgba(60, 64, 67, 0.3), 0 1px 3px 1px rgba(60, 64, 67, 0.15);\n",
              "    fill: var(--button-hover-fill-color);\n",
              "  }\n",
              "\n",
              "  .colab-df-quickchart-complete:disabled,\n",
              "  .colab-df-quickchart-complete:disabled:hover {\n",
              "    background-color: var(--disabled-bg-color);\n",
              "    fill: var(--disabled-fill-color);\n",
              "    box-shadow: none;\n",
              "  }\n",
              "\n",
              "  .colab-df-spinner {\n",
              "    border: 2px solid var(--fill-color);\n",
              "    border-color: transparent;\n",
              "    border-bottom-color: var(--fill-color);\n",
              "    animation:\n",
              "      spin 1s steps(1) infinite;\n",
              "  }\n",
              "\n",
              "  @keyframes spin {\n",
              "    0% {\n",
              "      border-color: transparent;\n",
              "      border-bottom-color: var(--fill-color);\n",
              "      border-left-color: var(--fill-color);\n",
              "    }\n",
              "    20% {\n",
              "      border-color: transparent;\n",
              "      border-left-color: var(--fill-color);\n",
              "      border-top-color: var(--fill-color);\n",
              "    }\n",
              "    30% {\n",
              "      border-color: transparent;\n",
              "      border-left-color: var(--fill-color);\n",
              "      border-top-color: var(--fill-color);\n",
              "      border-right-color: var(--fill-color);\n",
              "    }\n",
              "    40% {\n",
              "      border-color: transparent;\n",
              "      border-right-color: var(--fill-color);\n",
              "      border-top-color: var(--fill-color);\n",
              "    }\n",
              "    60% {\n",
              "      border-color: transparent;\n",
              "      border-right-color: var(--fill-color);\n",
              "    }\n",
              "    80% {\n",
              "      border-color: transparent;\n",
              "      border-right-color: var(--fill-color);\n",
              "      border-bottom-color: var(--fill-color);\n",
              "    }\n",
              "    90% {\n",
              "      border-color: transparent;\n",
              "      border-bottom-color: var(--fill-color);\n",
              "    }\n",
              "  }\n",
              "</style>\n",
              "\n",
              "  <script>\n",
              "    async function quickchart(key) {\n",
              "      const quickchartButtonEl =\n",
              "        document.querySelector('#' + key + ' button');\n",
              "      quickchartButtonEl.disabled = true;  // To prevent multiple clicks.\n",
              "      quickchartButtonEl.classList.add('colab-df-spinner');\n",
              "      try {\n",
              "        const charts = await google.colab.kernel.invokeFunction(\n",
              "            'suggestCharts', [key], {});\n",
              "      } catch (error) {\n",
              "        console.error('Error during call to suggestCharts:', error);\n",
              "      }\n",
              "      quickchartButtonEl.classList.remove('colab-df-spinner');\n",
              "      quickchartButtonEl.classList.add('colab-df-quickchart-complete');\n",
              "    }\n",
              "    (() => {\n",
              "      let quickchartButtonEl =\n",
              "        document.querySelector('#df-34e66324-9159-405f-a21f-bd99fc8b0c4f button');\n",
              "      quickchartButtonEl.style.display =\n",
              "        google.colab.kernel.accessAllowed ? 'block' : 'none';\n",
              "    })();\n",
              "  </script>\n",
              "</div>\n",
              "\n",
              "  <div id=\"id_eb17b68a-77e7-4a46-ac30-3886a457dc41\">\n",
              "    <style>\n",
              "      .colab-df-generate {\n",
              "        background-color: #E8F0FE;\n",
              "        border: none;\n",
              "        border-radius: 50%;\n",
              "        cursor: pointer;\n",
              "        display: none;\n",
              "        fill: #1967D2;\n",
              "        height: 32px;\n",
              "        padding: 0 0 0 0;\n",
              "        width: 32px;\n",
              "      }\n",
              "\n",
              "      .colab-df-generate:hover {\n",
              "        background-color: #E2EBFA;\n",
              "        box-shadow: 0px 1px 2px rgba(60, 64, 67, 0.3), 0px 1px 3px 1px rgba(60, 64, 67, 0.15);\n",
              "        fill: #174EA6;\n",
              "      }\n",
              "\n",
              "      [theme=dark] .colab-df-generate {\n",
              "        background-color: #3B4455;\n",
              "        fill: #D2E3FC;\n",
              "      }\n",
              "\n",
              "      [theme=dark] .colab-df-generate:hover {\n",
              "        background-color: #434B5C;\n",
              "        box-shadow: 0px 1px 3px 1px rgba(0, 0, 0, 0.15);\n",
              "        filter: drop-shadow(0px 1px 2px rgba(0, 0, 0, 0.3));\n",
              "        fill: #FFFFFF;\n",
              "      }\n",
              "    </style>\n",
              "    <button class=\"colab-df-generate\" onclick=\"generateWithVariable('results')\"\n",
              "            title=\"Generate code using this dataframe.\"\n",
              "            style=\"display:none;\">\n",
              "\n",
              "  <svg xmlns=\"http://www.w3.org/2000/svg\" height=\"24px\"viewBox=\"0 0 24 24\"\n",
              "       width=\"24px\">\n",
              "    <path d=\"M7,19H8.4L18.45,9,17,7.55,7,17.6ZM5,21V16.75L18.45,3.32a2,2,0,0,1,2.83,0l1.4,1.43a1.91,1.91,0,0,1,.58,1.4,1.91,1.91,0,0,1-.58,1.4L9.25,21ZM18.45,9,17,7.55Zm-12,3A5.31,5.31,0,0,0,4.9,8.1,5.31,5.31,0,0,0,1,6.5,5.31,5.31,0,0,0,4.9,4.9,5.31,5.31,0,0,0,6.5,1,5.31,5.31,0,0,0,8.1,4.9,5.31,5.31,0,0,0,12,6.5,5.46,5.46,0,0,0,6.5,12Z\"/>\n",
              "  </svg>\n",
              "    </button>\n",
              "    <script>\n",
              "      (() => {\n",
              "      const buttonEl =\n",
              "        document.querySelector('#id_eb17b68a-77e7-4a46-ac30-3886a457dc41 button.colab-df-generate');\n",
              "      buttonEl.style.display =\n",
              "        google.colab.kernel.accessAllowed ? 'block' : 'none';\n",
              "\n",
              "      buttonEl.onclick = () => {\n",
              "        google.colab.notebook.generateWithVariable('results');\n",
              "      }\n",
              "      })();\n",
              "    </script>\n",
              "  </div>\n",
              "\n",
              "    </div>\n",
              "  </div>\n"
            ],
            "application/vnd.google.colaboratory.intrinsic+json": {
              "type": "dataframe",
              "variable_name": "results",
              "summary": "{\n  \"name\": \"results\",\n  \"rows\": 8,\n  \"fields\": [\n    {\n      \"column\": \"Method\",\n      \"properties\": {\n        \"dtype\": \"string\",\n        \"num_unique_values\": 8,\n        \"samples\": [\n          \"CNN\",\n          \"LR\",\n          \"GRU\"\n        ],\n        \"semantic_type\": \"\",\n        \"description\": \"\"\n      }\n    },\n    {\n      \"column\": \"Accuracy\",\n      \"properties\": {\n        \"dtype\": \"number\",\n        \"std\": 0.019881193170852938,\n        \"min\": 0.7864583333333334,\n        \"max\": 0.8576388888888888,\n        \"num_unique_values\": 5,\n        \"samples\": [\n          0.8350694444444444,\n          0.8576388888888888,\n          0.7864583333333334\n        ],\n        \"semantic_type\": \"\",\n        \"description\": \"\"\n      }\n    },\n    {\n      \"column\": \"Precision\",\n      \"properties\": {\n        \"dtype\": \"number\",\n        \"std\": 0.011957035817063743,\n        \"min\": 0.8269230769230769,\n        \"max\": 0.8658088235294118,\n        \"num_unique_values\": 6,\n        \"samples\": [\n          0.8333333333333334,\n          0.8431372549019608,\n          0.8658088235294118\n        ],\n        \"semantic_type\": \"\",\n        \"description\": \"\"\n      }\n    },\n    {\n      \"column\": \"Recall\",\n      \"properties\": {\n        \"dtype\": \"number\",\n        \"std\": 0.02067461864583705,\n        \"min\": 0.940625,\n        \"max\": 1.0,\n        \"num_unique_values\": 5,\n        \"samples\": [\n          0.9854166666666667,\n          0.98125,\n          0.940625\n        ],\n        \"semantic_type\": \"\",\n        \"description\": \"\"\n      }\n    },\n    {\n      \"column\": \"F1_Score\",\n      \"properties\": {\n        \"dtype\": \"number\",\n        \"std\": 0.011497896058131913,\n        \"min\": 0.8801169590643275,\n        \"max\": 0.919921875,\n        \"num_unique_values\": 6,\n        \"samples\": [\n          0.9090909090909091,\n          0.9087415946205571,\n          0.919921875\n        ],\n        \"semantic_type\": \"\",\n        \"description\": \"\"\n      }\n    },\n    {\n      \"column\": \"Average\",\n      \"properties\": {\n        \"dtype\": \"number\",\n        \"std\": 0.013877358676737932,\n        \"min\": 0.8585308423301845,\n        \"max\": 0.9061548968545752,\n        \"num_unique_values\": 6,\n        \"samples\": [\n          0.893939393939394,\n          0.8930912401584072,\n          0.9061548968545752\n        ],\n        \"semantic_type\": \"\",\n        \"description\": \"\"\n      }\n    },\n    {\n      \"column\": \"Normal_Detect_Rate\",\n      \"properties\": {\n        \"dtype\": \"number\",\n        \"std\": 0.0828406894594023,\n        \"min\": 0.0,\n        \"max\": 0.23958333333333334,\n        \"num_unique_values\": 6,\n        \"samples\": [\n          0.0,\n          0.08333333333333333,\n          0.23958333333333334\n        ],\n        \"semantic_type\": \"\",\n        \"description\": \"\"\n      }\n    },\n    {\n      \"column\": \"Atk_Detect_Rate\",\n      \"properties\": {\n        \"dtype\": \"number\",\n        \"std\": 0.02067461864583705,\n        \"min\": 0.940625,\n        \"max\": 1.0,\n        \"num_unique_values\": 5,\n        \"samples\": [\n          0.9854166666666667,\n          0.98125,\n          0.940625\n        ],\n        \"semantic_type\": \"\",\n        \"description\": \"\"\n      }\n    }\n  ]\n}"
            }
          },
          "metadata": {},
          "execution_count": 52
        }
      ],
      "source": [
        "results"
      ]
    },
    {
      "cell_type": "markdown",
      "id": "70ff7e7f",
      "metadata": {
        "papermill": {
          "duration": 0.02461,
          "end_time": "2025-02-01T19:57:00.533038",
          "exception": false,
          "start_time": "2025-02-01T19:57:00.508428",
          "status": "completed"
        },
        "tags": [],
        "id": "70ff7e7f"
      },
      "source": [
        "**Classification Metrics:**\n",
        "* Accuracy\n",
        "* Precision\n",
        "* Recall\n",
        "* F1 Measure (F1 Score)\n",
        "\n",
        "Showing performance outcomes of the methods:\n",
        "* GRU\n",
        "* DNN\n",
        "* SVM\n",
        "* LR\n",
        "* GB\n",
        "* kNN\n",
        "\n",
        "LSTM and CNN were separated for visualization improvement."
      ]
    },
    {
      "cell_type": "code",
      "execution_count": null,
      "id": "8f85aab5",
      "metadata": {
        "papermill": {
          "duration": 0.429733,
          "end_time": "2025-02-01T19:57:00.987621",
          "exception": false,
          "start_time": "2025-02-01T19:57:00.557888",
          "status": "completed"
        },
        "tags": [],
        "id": "8f85aab5"
      },
      "outputs": [],
      "source": [
        "import seaborn as sns\n",
        "import matplotlib.pyplot as plt\n",
        "sns.set()"
      ]
    },
    {
      "cell_type": "code",
      "execution_count": null,
      "id": "f774c3dc",
      "metadata": {
        "papermill": {
          "duration": 1.4112,
          "end_time": "2025-02-01T19:57:02.424727",
          "exception": false,
          "start_time": "2025-02-01T19:57:01.013527",
          "status": "completed"
        },
        "tags": [],
        "colab": {
          "base_uri": "https://localhost:8080/",
          "height": 356
        },
        "id": "f774c3dc",
        "outputId": "93a30a9c-40a0-46f1-d01a-ff0bccfd67ec"
      },
      "outputs": [
        {
          "output_type": "error",
          "ename": "ValueError",
          "evalue": "The following variable cannot be assigned with wide-form data: `col`",
          "traceback": [
            "\u001b[0;31m---------------------------------------------------------------------------\u001b[0m",
            "\u001b[0;31mValueError\u001b[0m                                Traceback (most recent call last)",
            "\u001b[0;32m<ipython-input-54-1e83fd834292>\u001b[0m in \u001b[0;36m<cell line: 0>\u001b[0;34m()\u001b[0m\n\u001b[0;32m----> 1\u001b[0;31m \u001b[0max\u001b[0m \u001b[0;34m=\u001b[0m \u001b[0msns\u001b[0m\u001b[0;34m.\u001b[0m\u001b[0mcatplot\u001b[0m\u001b[0;34m(\u001b[0m\u001b[0mdata\u001b[0m\u001b[0;34m=\u001b[0m\u001b[0mresults\u001b[0m\u001b[0;34m.\u001b[0m\u001b[0miloc\u001b[0m\u001b[0;34m[\u001b[0m\u001b[0;34m:\u001b[0m\u001b[0;34m,\u001b[0m\u001b[0;34m:\u001b[0m\u001b[0;36m5\u001b[0m\u001b[0;34m]\u001b[0m\u001b[0;34m.\u001b[0m\u001b[0mquery\u001b[0m\u001b[0;34m(\u001b[0m\u001b[0;34m'Method != \"LSTM\" and Method != \"CNN\"'\u001b[0m\u001b[0;34m)\u001b[0m\u001b[0;34m,\u001b[0m \u001b[0mcol\u001b[0m\u001b[0;34m=\u001b[0m\u001b[0;34m'Method'\u001b[0m\u001b[0;34m,\u001b[0m \u001b[0mcol_wrap\u001b[0m\u001b[0;34m=\u001b[0m\u001b[0;36m3\u001b[0m\u001b[0;34m,\u001b[0m \u001b[0mkind\u001b[0m\u001b[0;34m=\u001b[0m\u001b[0;34m'bar'\u001b[0m\u001b[0;34m,\u001b[0m \u001b[0mheight\u001b[0m\u001b[0;34m=\u001b[0m\u001b[0;36m3\u001b[0m\u001b[0;34m,\u001b[0m \u001b[0maspect\u001b[0m\u001b[0;34m=\u001b[0m\u001b[0;36m2\u001b[0m\u001b[0;34m)\u001b[0m\u001b[0;34m\u001b[0m\u001b[0;34m\u001b[0m\u001b[0m\n\u001b[0m\u001b[1;32m      2\u001b[0m \u001b[0max\u001b[0m\u001b[0;34m.\u001b[0m\u001b[0mset\u001b[0m\u001b[0;34m(\u001b[0m\u001b[0mylim\u001b[0m\u001b[0;34m=\u001b[0m\u001b[0;34m(\u001b[0m\u001b[0;36m0.99\u001b[0m\u001b[0;34m,\u001b[0m\u001b[0;36m1\u001b[0m\u001b[0;34m)\u001b[0m\u001b[0;34m)\u001b[0m\u001b[0;34m\u001b[0m\u001b[0;34m\u001b[0m\u001b[0m\n\u001b[1;32m      3\u001b[0m \u001b[0max\u001b[0m\u001b[0;34m.\u001b[0m\u001b[0mset_xticklabels\u001b[0m\u001b[0;34m(\u001b[0m\u001b[0mrotation\u001b[0m\u001b[0;34m=\u001b[0m\u001b[0;36m45\u001b[0m\u001b[0;34m)\u001b[0m\u001b[0;34m\u001b[0m\u001b[0;34m\u001b[0m\u001b[0m\n\u001b[1;32m      4\u001b[0m \u001b[0max\u001b[0m \u001b[0;34m=\u001b[0m \u001b[0max\u001b[0m\u001b[0;34m\u001b[0m\u001b[0;34m\u001b[0m\u001b[0m\n",
            "\u001b[0;32m/usr/local/lib/python3.11/dist-packages/seaborn/categorical.py\u001b[0m in \u001b[0;36mcatplot\u001b[0;34m(data, x, y, hue, row, col, kind, estimator, errorbar, n_boot, seed, units, weights, order, hue_order, row_order, col_order, col_wrap, height, aspect, log_scale, native_scale, formatter, orient, color, palette, hue_norm, legend, legend_out, sharex, sharey, margin_titles, facet_kws, ci, **kwargs)\u001b[0m\n\u001b[1;32m   2780\u001b[0m             \u001b[0;32mraise\u001b[0m \u001b[0mValueError\u001b[0m\u001b[0;34m(\u001b[0m\u001b[0;34m\"Cannot pass values for both `x` and `y`.\"\u001b[0m\u001b[0;34m)\u001b[0m\u001b[0;34m\u001b[0m\u001b[0;34m\u001b[0m\u001b[0m\n\u001b[1;32m   2781\u001b[0m \u001b[0;34m\u001b[0m\u001b[0m\n\u001b[0;32m-> 2782\u001b[0;31m     p = Plotter(\n\u001b[0m\u001b[1;32m   2783\u001b[0m         \u001b[0mdata\u001b[0m\u001b[0;34m=\u001b[0m\u001b[0mdata\u001b[0m\u001b[0;34m,\u001b[0m\u001b[0;34m\u001b[0m\u001b[0;34m\u001b[0m\u001b[0m\n\u001b[1;32m   2784\u001b[0m         variables=dict(\n",
            "\u001b[0;32m/usr/local/lib/python3.11/dist-packages/seaborn/categorical.py\u001b[0m in \u001b[0;36m__init__\u001b[0;34m(self, data, variables, order, orient, require_numeric, color, legend)\u001b[0m\n\u001b[1;32m     65\u001b[0m     ):\n\u001b[1;32m     66\u001b[0m \u001b[0;34m\u001b[0m\u001b[0m\n\u001b[0;32m---> 67\u001b[0;31m         \u001b[0msuper\u001b[0m\u001b[0;34m(\u001b[0m\u001b[0;34m)\u001b[0m\u001b[0;34m.\u001b[0m\u001b[0m__init__\u001b[0m\u001b[0;34m(\u001b[0m\u001b[0mdata\u001b[0m\u001b[0;34m=\u001b[0m\u001b[0mdata\u001b[0m\u001b[0;34m,\u001b[0m \u001b[0mvariables\u001b[0m\u001b[0;34m=\u001b[0m\u001b[0mvariables\u001b[0m\u001b[0;34m)\u001b[0m\u001b[0;34m\u001b[0m\u001b[0;34m\u001b[0m\u001b[0m\n\u001b[0m\u001b[1;32m     68\u001b[0m \u001b[0;34m\u001b[0m\u001b[0m\n\u001b[1;32m     69\u001b[0m         \u001b[0;31m# This method takes care of some bookkeeping that is necessary because the\u001b[0m\u001b[0;34m\u001b[0m\u001b[0;34m\u001b[0m\u001b[0m\n",
            "\u001b[0;32m/usr/local/lib/python3.11/dist-packages/seaborn/_base.py\u001b[0m in \u001b[0;36m__init__\u001b[0;34m(self, data, variables)\u001b[0m\n\u001b[1;32m    632\u001b[0m         \u001b[0;31m# information for numeric axes would be information about log scales.\u001b[0m\u001b[0;34m\u001b[0m\u001b[0;34m\u001b[0m\u001b[0m\n\u001b[1;32m    633\u001b[0m         \u001b[0mself\u001b[0m\u001b[0;34m.\u001b[0m\u001b[0m_var_ordered\u001b[0m \u001b[0;34m=\u001b[0m \u001b[0;34m{\u001b[0m\u001b[0;34m\"x\"\u001b[0m\u001b[0;34m:\u001b[0m \u001b[0;32mFalse\u001b[0m\u001b[0;34m,\u001b[0m \u001b[0;34m\"y\"\u001b[0m\u001b[0;34m:\u001b[0m \u001b[0;32mFalse\u001b[0m\u001b[0;34m}\u001b[0m  \u001b[0;31m# alt., used DefaultDict\u001b[0m\u001b[0;34m\u001b[0m\u001b[0;34m\u001b[0m\u001b[0m\n\u001b[0;32m--> 634\u001b[0;31m         \u001b[0mself\u001b[0m\u001b[0;34m.\u001b[0m\u001b[0massign_variables\u001b[0m\u001b[0;34m(\u001b[0m\u001b[0mdata\u001b[0m\u001b[0;34m,\u001b[0m \u001b[0mvariables\u001b[0m\u001b[0;34m)\u001b[0m\u001b[0;34m\u001b[0m\u001b[0;34m\u001b[0m\u001b[0m\n\u001b[0m\u001b[1;32m    635\u001b[0m \u001b[0;34m\u001b[0m\u001b[0m\n\u001b[1;32m    636\u001b[0m         \u001b[0;31m# TODO Lots of tests assume that these are called to initialize the\u001b[0m\u001b[0;34m\u001b[0m\u001b[0;34m\u001b[0m\u001b[0m\n",
            "\u001b[0;32m/usr/local/lib/python3.11/dist-packages/seaborn/_base.py\u001b[0m in \u001b[0;36massign_variables\u001b[0;34m(self, data, variables)\u001b[0m\n\u001b[1;32m    671\u001b[0m         \u001b[0;32mif\u001b[0m \u001b[0mx\u001b[0m \u001b[0;32mis\u001b[0m \u001b[0;32mNone\u001b[0m \u001b[0;32mand\u001b[0m \u001b[0my\u001b[0m \u001b[0;32mis\u001b[0m \u001b[0;32mNone\u001b[0m\u001b[0;34m:\u001b[0m\u001b[0;34m\u001b[0m\u001b[0;34m\u001b[0m\u001b[0m\n\u001b[1;32m    672\u001b[0m             \u001b[0mself\u001b[0m\u001b[0;34m.\u001b[0m\u001b[0minput_format\u001b[0m \u001b[0;34m=\u001b[0m \u001b[0;34m\"wide\"\u001b[0m\u001b[0;34m\u001b[0m\u001b[0;34m\u001b[0m\u001b[0m\n\u001b[0;32m--> 673\u001b[0;31m             \u001b[0mframe\u001b[0m\u001b[0;34m,\u001b[0m \u001b[0mnames\u001b[0m \u001b[0;34m=\u001b[0m \u001b[0mself\u001b[0m\u001b[0;34m.\u001b[0m\u001b[0m_assign_variables_wideform\u001b[0m\u001b[0;34m(\u001b[0m\u001b[0mdata\u001b[0m\u001b[0;34m,\u001b[0m \u001b[0;34m**\u001b[0m\u001b[0mvariables\u001b[0m\u001b[0;34m)\u001b[0m\u001b[0;34m\u001b[0m\u001b[0;34m\u001b[0m\u001b[0m\n\u001b[0m\u001b[1;32m    674\u001b[0m         \u001b[0;32melse\u001b[0m\u001b[0;34m:\u001b[0m\u001b[0;34m\u001b[0m\u001b[0;34m\u001b[0m\u001b[0m\n\u001b[1;32m    675\u001b[0m             \u001b[0;31m# When dealing with long-form input, use the newer PlotData\u001b[0m\u001b[0;34m\u001b[0m\u001b[0;34m\u001b[0m\u001b[0m\n",
            "\u001b[0;32m/usr/local/lib/python3.11/dist-packages/seaborn/_base.py\u001b[0m in \u001b[0;36m_assign_variables_wideform\u001b[0;34m(self, data, **kwargs)\u001b[0m\n\u001b[1;32m    721\u001b[0m             \u001b[0merr\u001b[0m \u001b[0;34m=\u001b[0m \u001b[0;34mf\"The following variable{s} cannot be assigned with wide-form data: \"\u001b[0m\u001b[0;34m\u001b[0m\u001b[0;34m\u001b[0m\u001b[0m\n\u001b[1;32m    722\u001b[0m             \u001b[0merr\u001b[0m \u001b[0;34m+=\u001b[0m \u001b[0;34m\", \"\u001b[0m\u001b[0;34m.\u001b[0m\u001b[0mjoin\u001b[0m\u001b[0;34m(\u001b[0m\u001b[0;34mf\"`{v}`\"\u001b[0m \u001b[0;32mfor\u001b[0m \u001b[0mv\u001b[0m \u001b[0;32min\u001b[0m \u001b[0massigned\u001b[0m\u001b[0;34m)\u001b[0m\u001b[0;34m\u001b[0m\u001b[0;34m\u001b[0m\u001b[0m\n\u001b[0;32m--> 723\u001b[0;31m             \u001b[0;32mraise\u001b[0m \u001b[0mValueError\u001b[0m\u001b[0;34m(\u001b[0m\u001b[0merr\u001b[0m\u001b[0;34m)\u001b[0m\u001b[0;34m\u001b[0m\u001b[0;34m\u001b[0m\u001b[0m\n\u001b[0m\u001b[1;32m    724\u001b[0m \u001b[0;34m\u001b[0m\u001b[0m\n\u001b[1;32m    725\u001b[0m         \u001b[0;31m# Determine if the data object actually has any data in it\u001b[0m\u001b[0;34m\u001b[0m\u001b[0;34m\u001b[0m\u001b[0m\n",
            "\u001b[0;31mValueError\u001b[0m: The following variable cannot be assigned with wide-form data: `col`"
          ]
        }
      ],
      "source": [
        "ax = sns.catplot(data=results.iloc[:,:5].query('Method != \"LSTM\" and Method != \"CNN\"'), col='Method', col_wrap=3, kind='bar', height=3, aspect=2)\n",
        "ax.set(ylim=(0.99,1))\n",
        "ax.set_xticklabels(rotation=45)\n",
        "ax = ax\n"
      ]
    },
    {
      "cell_type": "markdown",
      "id": "8317cc08",
      "metadata": {
        "papermill": {
          "duration": 0.025716,
          "end_time": "2025-02-01T19:57:02.478172",
          "exception": false,
          "start_time": "2025-02-01T19:57:02.452456",
          "status": "completed"
        },
        "tags": [],
        "id": "8317cc08"
      },
      "source": [
        "> As observed, the evaluated methods achieved good performance outcomes close to 1. As the evaluated methods achieved similar outcomes, a more specific analysis should be performed."
      ]
    },
    {
      "cell_type": "code",
      "source": [
        "# Filter the data\n",
        "filtered_results = results.iloc[:,:5].query('Method != \"LSTM\" and Method != \"CNN\"')\n",
        "\n",
        "# Reshape the data from wide to long format\n",
        "melted_results = filtered_results.melt(id_vars=['Method'],\n",
        "                                      value_vars=['Accuracy', 'Precision', 'F1_Score', 'Recall'],\n",
        "                                      var_name='Metric', value_name='Value')\n",
        "\n",
        "# Create the plot\n",
        "ax = sns.catplot(data=melted_results, x='Metric', y='Value', col='Method',\n",
        "                col_wrap=3, kind='bar', height=3, aspect=2)\n",
        "ax.set(ylim=(0.99, 1))\n",
        "ax.set_xticklabels(rotation=45)"
      ],
      "metadata": {
        "colab": {
          "base_uri": "https://localhost:8080/",
          "height": 321
        },
        "id": "8tS4OAh84v5d",
        "outputId": "be3d70be-1d9d-4af6-aff3-9569b027cd4f"
      },
      "id": "8tS4OAh84v5d",
      "execution_count": null,
      "outputs": [
        {
          "output_type": "execute_result",
          "data": {
            "text/plain": [
              "<seaborn.axisgrid.FacetGrid at 0x7b0b40b82450>"
            ]
          },
          "metadata": {},
          "execution_count": 56
        },
        {
          "output_type": "display_data",
          "data": {
            "text/plain": [
              "<Figure size 1812.22x600 with 6 Axes>"
            ],
            "image/png": "[encoded data removed]"
          },
          "metadata": {}
        }
      ]
    },
    {
      "cell_type": "markdown",
      "id": "1cc5e4fe",
      "metadata": {
        "papermill": {
          "duration": 0.026178,
          "end_time": "2025-02-01T19:57:02.530681",
          "exception": false,
          "start_time": "2025-02-01T19:57:02.504503",
          "status": "completed"
        },
        "tags": [],
        "id": "1cc5e4fe"
      },
      "source": [
        "Showing results of the LSTM and CNN methods."
      ]
    },
    {
      "cell_type": "code",
      "execution_count": null,
      "id": "f6992bed",
      "metadata": {
        "papermill": {
          "duration": 0.558711,
          "end_time": "2025-02-01T19:57:03.114890",
          "exception": false,
          "start_time": "2025-02-01T19:57:02.556179",
          "status": "completed"
        },
        "tags": [],
        "colab": {
          "base_uri": "https://localhost:8080/",
          "height": 356
        },
        "id": "f6992bed",
        "outputId": "4f97614d-4391-4664-ae89-19d323cda284"
      },
      "outputs": [
        {
          "output_type": "error",
          "ename": "ValueError",
          "evalue": "The following variable cannot be assigned with wide-form data: `col`",
          "traceback": [
            "\u001b[0;31m---------------------------------------------------------------------------\u001b[0m",
            "\u001b[0;31mValueError\u001b[0m                                Traceback (most recent call last)",
            "\u001b[0;32m<ipython-input-58-36c3887552d7>\u001b[0m in \u001b[0;36m<cell line: 0>\u001b[0;34m()\u001b[0m\n\u001b[0;32m----> 1\u001b[0;31m \u001b[0max\u001b[0m \u001b[0;34m=\u001b[0m \u001b[0msns\u001b[0m\u001b[0;34m.\u001b[0m\u001b[0mcatplot\u001b[0m\u001b[0;34m(\u001b[0m\u001b[0mdata\u001b[0m\u001b[0;34m=\u001b[0m\u001b[0mresults\u001b[0m\u001b[0;34m.\u001b[0m\u001b[0miloc\u001b[0m\u001b[0;34m[\u001b[0m\u001b[0;34m:\u001b[0m\u001b[0;34m,\u001b[0m\u001b[0;34m:\u001b[0m\u001b[0;36m5\u001b[0m\u001b[0;34m]\u001b[0m\u001b[0;34m.\u001b[0m\u001b[0mquery\u001b[0m\u001b[0;34m(\u001b[0m\u001b[0;34m'Method == \"LSTM\" or Method == \"CNN\"'\u001b[0m\u001b[0;34m)\u001b[0m\u001b[0;34m,\u001b[0m \u001b[0mcol\u001b[0m\u001b[0;34m=\u001b[0m\u001b[0;34m'Method'\u001b[0m\u001b[0;34m,\u001b[0m \u001b[0mcol_wrap\u001b[0m\u001b[0;34m=\u001b[0m\u001b[0;36m3\u001b[0m\u001b[0;34m,\u001b[0m \u001b[0mkind\u001b[0m\u001b[0;34m=\u001b[0m\u001b[0;34m'bar'\u001b[0m\u001b[0;34m,\u001b[0m \u001b[0mheight\u001b[0m\u001b[0;34m=\u001b[0m\u001b[0;36m3\u001b[0m\u001b[0;34m,\u001b[0m \u001b[0maspect\u001b[0m\u001b[0;34m=\u001b[0m\u001b[0;36m2\u001b[0m\u001b[0;34m)\u001b[0m\u001b[0;34m\u001b[0m\u001b[0;34m\u001b[0m\u001b[0m\n\u001b[0m\u001b[1;32m      2\u001b[0m \u001b[0max\u001b[0m\u001b[0;34m.\u001b[0m\u001b[0mset\u001b[0m\u001b[0;34m(\u001b[0m\u001b[0mylim\u001b[0m\u001b[0;34m=\u001b[0m\u001b[0;34m(\u001b[0m\u001b[0;36m0.97\u001b[0m\u001b[0;34m,\u001b[0m\u001b[0;36m1\u001b[0m\u001b[0;34m)\u001b[0m\u001b[0;34m)\u001b[0m\u001b[0;34m\u001b[0m\u001b[0;34m\u001b[0m\u001b[0m\n\u001b[1;32m      3\u001b[0m \u001b[0max\u001b[0m\u001b[0;34m.\u001b[0m\u001b[0mset_xticklabels\u001b[0m\u001b[0;34m(\u001b[0m\u001b[0mrotation\u001b[0m\u001b[0;34m=\u001b[0m\u001b[0;36m45\u001b[0m\u001b[0;34m)\u001b[0m\u001b[0;34m\u001b[0m\u001b[0;34m\u001b[0m\u001b[0m\n\u001b[1;32m      4\u001b[0m \u001b[0max\u001b[0m \u001b[0;34m=\u001b[0m \u001b[0max\u001b[0m\u001b[0;34m\u001b[0m\u001b[0;34m\u001b[0m\u001b[0m\n",
            "\u001b[0;32m/usr/local/lib/python3.11/dist-packages/seaborn/categorical.py\u001b[0m in \u001b[0;36mcatplot\u001b[0;34m(data, x, y, hue, row, col, kind, estimator, errorbar, n_boot, seed, units, weights, order, hue_order, row_order, col_order, col_wrap, height, aspect, log_scale, native_scale, formatter, orient, color, palette, hue_norm, legend, legend_out, sharex, sharey, margin_titles, facet_kws, ci, **kwargs)\u001b[0m\n\u001b[1;32m   2780\u001b[0m             \u001b[0;32mraise\u001b[0m \u001b[0mValueError\u001b[0m\u001b[0;34m(\u001b[0m\u001b[0;34m\"Cannot pass values for both `x` and `y`.\"\u001b[0m\u001b[0;34m)\u001b[0m\u001b[0;34m\u001b[0m\u001b[0;34m\u001b[0m\u001b[0m\n\u001b[1;32m   2781\u001b[0m \u001b[0;34m\u001b[0m\u001b[0m\n\u001b[0;32m-> 2782\u001b[0;31m     p = Plotter(\n\u001b[0m\u001b[1;32m   2783\u001b[0m         \u001b[0mdata\u001b[0m\u001b[0;34m=\u001b[0m\u001b[0mdata\u001b[0m\u001b[0;34m,\u001b[0m\u001b[0;34m\u001b[0m\u001b[0;34m\u001b[0m\u001b[0m\n\u001b[1;32m   2784\u001b[0m         variables=dict(\n",
            "\u001b[0;32m/usr/local/lib/python3.11/dist-packages/seaborn/categorical.py\u001b[0m in \u001b[0;36m__init__\u001b[0;34m(self, data, variables, order, orient, require_numeric, color, legend)\u001b[0m\n\u001b[1;32m     65\u001b[0m     ):\n\u001b[1;32m     66\u001b[0m \u001b[0;34m\u001b[0m\u001b[0m\n\u001b[0;32m---> 67\u001b[0;31m         \u001b[0msuper\u001b[0m\u001b[0;34m(\u001b[0m\u001b[0;34m)\u001b[0m\u001b[0;34m.\u001b[0m\u001b[0m__init__\u001b[0m\u001b[0;34m(\u001b[0m\u001b[0mdata\u001b[0m\u001b[0;34m=\u001b[0m\u001b[0mdata\u001b[0m\u001b[0;34m,\u001b[0m \u001b[0mvariables\u001b[0m\u001b[0;34m=\u001b[0m\u001b[0mvariables\u001b[0m\u001b[0;34m)\u001b[0m\u001b[0;34m\u001b[0m\u001b[0;34m\u001b[0m\u001b[0m\n\u001b[0m\u001b[1;32m     68\u001b[0m \u001b[0;34m\u001b[0m\u001b[0m\n\u001b[1;32m     69\u001b[0m         \u001b[0;31m# This method takes care of some bookkeeping that is necessary because the\u001b[0m\u001b[0;34m\u001b[0m\u001b[0;34m\u001b[0m\u001b[0m\n",
            "\u001b[0;32m/usr/local/lib/python3.11/dist-packages/seaborn/_base.py\u001b[0m in \u001b[0;36m__init__\u001b[0;34m(self, data, variables)\u001b[0m\n\u001b[1;32m    632\u001b[0m         \u001b[0;31m# information for numeric axes would be information about log scales.\u001b[0m\u001b[0;34m\u001b[0m\u001b[0;34m\u001b[0m\u001b[0m\n\u001b[1;32m    633\u001b[0m         \u001b[0mself\u001b[0m\u001b[0;34m.\u001b[0m\u001b[0m_var_ordered\u001b[0m \u001b[0;34m=\u001b[0m \u001b[0;34m{\u001b[0m\u001b[0;34m\"x\"\u001b[0m\u001b[0;34m:\u001b[0m \u001b[0;32mFalse\u001b[0m\u001b[0;34m,\u001b[0m \u001b[0;34m\"y\"\u001b[0m\u001b[0;34m:\u001b[0m \u001b[0;32mFalse\u001b[0m\u001b[0;34m}\u001b[0m  \u001b[0;31m# alt., used DefaultDict\u001b[0m\u001b[0;34m\u001b[0m\u001b[0;34m\u001b[0m\u001b[0m\n\u001b[0;32m--> 634\u001b[0;31m         \u001b[0mself\u001b[0m\u001b[0;34m.\u001b[0m\u001b[0massign_variables\u001b[0m\u001b[0;34m(\u001b[0m\u001b[0mdata\u001b[0m\u001b[0;34m,\u001b[0m \u001b[0mvariables\u001b[0m\u001b[0;34m)\u001b[0m\u001b[0;34m\u001b[0m\u001b[0;34m\u001b[0m\u001b[0m\n\u001b[0m\u001b[1;32m    635\u001b[0m \u001b[0;34m\u001b[0m\u001b[0m\n\u001b[1;32m    636\u001b[0m         \u001b[0;31m# TODO Lots of tests assume that these are called to initialize the\u001b[0m\u001b[0;34m\u001b[0m\u001b[0;34m\u001b[0m\u001b[0m\n",
            "\u001b[0;32m/usr/local/lib/python3.11/dist-packages/seaborn/_base.py\u001b[0m in \u001b[0;36massign_variables\u001b[0;34m(self, data, variables)\u001b[0m\n\u001b[1;32m    671\u001b[0m         \u001b[0;32mif\u001b[0m \u001b[0mx\u001b[0m \u001b[0;32mis\u001b[0m \u001b[0;32mNone\u001b[0m \u001b[0;32mand\u001b[0m \u001b[0my\u001b[0m \u001b[0;32mis\u001b[0m \u001b[0;32mNone\u001b[0m\u001b[0;34m:\u001b[0m\u001b[0;34m\u001b[0m\u001b[0;34m\u001b[0m\u001b[0m\n\u001b[1;32m    672\u001b[0m             \u001b[0mself\u001b[0m\u001b[0;34m.\u001b[0m\u001b[0minput_format\u001b[0m \u001b[0;34m=\u001b[0m \u001b[0;34m\"wide\"\u001b[0m\u001b[0;34m\u001b[0m\u001b[0;34m\u001b[0m\u001b[0m\n\u001b[0;32m--> 673\u001b[0;31m             \u001b[0mframe\u001b[0m\u001b[0;34m,\u001b[0m \u001b[0mnames\u001b[0m \u001b[0;34m=\u001b[0m \u001b[0mself\u001b[0m\u001b[0;34m.\u001b[0m\u001b[0m_assign_variables_wideform\u001b[0m\u001b[0;34m(\u001b[0m\u001b[0mdata\u001b[0m\u001b[0;34m,\u001b[0m \u001b[0;34m**\u001b[0m\u001b[0mvariables\u001b[0m\u001b[0;34m)\u001b[0m\u001b[0;34m\u001b[0m\u001b[0;34m\u001b[0m\u001b[0m\n\u001b[0m\u001b[1;32m    674\u001b[0m         \u001b[0;32melse\u001b[0m\u001b[0;34m:\u001b[0m\u001b[0;34m\u001b[0m\u001b[0;34m\u001b[0m\u001b[0m\n\u001b[1;32m    675\u001b[0m             \u001b[0;31m# When dealing with long-form input, use the newer PlotData\u001b[0m\u001b[0;34m\u001b[0m\u001b[0;34m\u001b[0m\u001b[0m\n",
            "\u001b[0;32m/usr/local/lib/python3.11/dist-packages/seaborn/_base.py\u001b[0m in \u001b[0;36m_assign_variables_wideform\u001b[0;34m(self, data, **kwargs)\u001b[0m\n\u001b[1;32m    721\u001b[0m             \u001b[0merr\u001b[0m \u001b[0;34m=\u001b[0m \u001b[0;34mf\"The following variable{s} cannot be assigned with wide-form data: \"\u001b[0m\u001b[0;34m\u001b[0m\u001b[0;34m\u001b[0m\u001b[0m\n\u001b[1;32m    722\u001b[0m             \u001b[0merr\u001b[0m \u001b[0;34m+=\u001b[0m \u001b[0;34m\", \"\u001b[0m\u001b[0;34m.\u001b[0m\u001b[0mjoin\u001b[0m\u001b[0;34m(\u001b[0m\u001b[0;34mf\"`{v}`\"\u001b[0m \u001b[0;32mfor\u001b[0m \u001b[0mv\u001b[0m \u001b[0;32min\u001b[0m \u001b[0massigned\u001b[0m\u001b[0;34m)\u001b[0m\u001b[0;34m\u001b[0m\u001b[0;34m\u001b[0m\u001b[0m\n\u001b[0;32m--> 723\u001b[0;31m             \u001b[0;32mraise\u001b[0m \u001b[0mValueError\u001b[0m\u001b[0;34m(\u001b[0m\u001b[0merr\u001b[0m\u001b[0;34m)\u001b[0m\u001b[0;34m\u001b[0m\u001b[0;34m\u001b[0m\u001b[0m\n\u001b[0m\u001b[1;32m    724\u001b[0m \u001b[0;34m\u001b[0m\u001b[0m\n\u001b[1;32m    725\u001b[0m         \u001b[0;31m# Determine if the data object actually has any data in it\u001b[0m\u001b[0;34m\u001b[0m\u001b[0;34m\u001b[0m\u001b[0m\n",
            "\u001b[0;31mValueError\u001b[0m: The following variable cannot be assigned with wide-form data: `col`"
          ]
        }
      ],
      "source": [
        "ax = sns.catplot(data=results.iloc[:,:5].query('Method == \"LSTM\" or Method == \"CNN\"'), col='Method', col_wrap=3, kind='bar', height=3, aspect=2)\n",
        "ax.set(ylim=(0.97,1))\n",
        "ax.set_xticklabels(rotation=45)\n",
        "ax = ax"
      ]
    },
    {
      "cell_type": "code",
      "source": [
        "# Filter the data for LSTM and CNN methods\n",
        "filtered_results = results.iloc[:,:5].query('Method == \"LSTM\" or Method == \"CNN\"')\n",
        "\n",
        "# Reshape the data from wide to long format\n",
        "melted_results = filtered_results.melt(id_vars=['Method'],\n",
        "                                     value_vars=['Accuracy', 'Precision', 'F1_Score', 'Recall'],\n",
        "                                     var_name='Metric', value_name='Value')\n",
        "\n",
        "# Create the plot\n",
        "ax = sns.catplot(data=melted_results, x='Metric', y='Value', col='Method',\n",
        "                col_wrap=2, kind='bar', height=3, aspect=2)\n",
        "ax.set(ylim=(0.97, 1))\n",
        "ax.set_xticklabels(rotation=45)"
      ],
      "metadata": {
        "colab": {
          "base_uri": "https://localhost:8080/",
          "height": 283
        },
        "id": "t0JIwa0N5GIO",
        "outputId": "8c08b4e7-6190-4f55-dfe2-a122a44fe470"
      },
      "id": "t0JIwa0N5GIO",
      "execution_count": null,
      "outputs": [
        {
          "output_type": "execute_result",
          "data": {
            "text/plain": [
              "<seaborn.axisgrid.FacetGrid at 0x7b0b40ff5750>"
            ]
          },
          "metadata": {},
          "execution_count": 59
        },
        {
          "output_type": "display_data",
          "data": {
            "text/plain": [
              "<Figure size 1212.22x300 with 2 Axes>"
            ],
            "image/png": "[encoded data removed]"
          },
          "metadata": {}
        }
      ]
    },
    {
      "cell_type": "markdown",
      "id": "fd8fb310",
      "metadata": {
        "papermill": {
          "duration": 0.029504,
          "end_time": "2025-02-01T19:57:03.171794",
          "exception": false,
          "start_time": "2025-02-01T19:57:03.142290",
          "status": "completed"
        },
        "tags": [],
        "id": "fd8fb310"
      },
      "source": [
        "> CNN and LSTM fared worse between the tested approaches. However, these methods achieved performance metrics above 97%, which is a relatively good outcome."
      ]
    },
    {
      "cell_type": "markdown",
      "id": "c7e28d09",
      "metadata": {
        "papermill": {
          "duration": 0.025695,
          "end_time": "2025-02-01T19:57:03.224830",
          "exception": false,
          "start_time": "2025-02-01T19:57:03.199135",
          "status": "completed"
        },
        "tags": [],
        "id": "c7e28d09"
      },
      "source": [
        "**Average of the Metrics**\n",
        "\n",
        "Plotting the Average of the previously mentioned performance metrics to summarize the method's results."
      ]
    },
    {
      "cell_type": "code",
      "execution_count": null,
      "id": "41514821",
      "metadata": {
        "papermill": {
          "duration": 0.521332,
          "end_time": "2025-02-01T19:57:03.772208",
          "exception": false,
          "start_time": "2025-02-01T19:57:03.250876",
          "status": "completed"
        },
        "tags": [],
        "colab": {
          "base_uri": "https://localhost:8080/",
          "height": 373
        },
        "id": "41514821",
        "outputId": "42c5539d-f405-4ed7-ffdc-2dacbb992a44"
      },
      "outputs": [
        {
          "output_type": "display_data",
          "data": {
            "text/plain": [
              "<Figure size 1200x400 with 1 Axes>"
            ],
            "image/png": "[encoded data removed]"
          },
          "metadata": {}
        }
      ],
      "source": [
        "plt.figure(figsize=(12, 4))\n",
        "ax = sns.barplot(data=results, y='Method', x='Average')\n",
        "ax.set(xlim=(0.98, 1))\n",
        "ax.set_title('Average of the Metrics', fontsize=18, loc='left')\n",
        "# If you want to modify the x-tick labels, uncomment the line below and provide the desired labels\n",
        "# ax.set_xticklabels(ax.get_xticklabels(), rotation=45)  # Example for rotating labels\n",
        "ax = ax\n",
        "plt.show()\n"
      ]
    },
    {
      "cell_type": "markdown",
      "id": "e81901f4",
      "metadata": {
        "papermill": {
          "duration": 0.026279,
          "end_time": "2025-02-01T19:57:03.826330",
          "exception": false,
          "start_time": "2025-02-01T19:57:03.800051",
          "status": "completed"
        },
        "tags": [],
        "id": "e81901f4"
      },
      "source": [
        "> As observed, on average, kNN fared slightly better compared to GB, LR, SVM, and GRU, which, in turn, achieved very similar results. However, these methods performed nearly 99.9%, which is considered a good classification outcome."
      ]
    },
    {
      "cell_type": "markdown",
      "id": "58ce54f4",
      "metadata": {
        "papermill": {
          "duration": 0.025948,
          "end_time": "2025-02-01T19:57:03.878625",
          "exception": false,
          "start_time": "2025-02-01T19:57:03.852677",
          "status": "completed"
        },
        "tags": [],
        "id": "58ce54f4"
      },
      "source": [
        "**Detection rate of Normal and Attack flow records**\n",
        "\n",
        "The following plot shows the results of each method for classifying normal and attack flow records."
      ]
    },
    {
      "cell_type": "code",
      "execution_count": null,
      "id": "2980fab7",
      "metadata": {
        "papermill": {
          "duration": 1.754987,
          "end_time": "2025-02-01T19:57:05.660794",
          "exception": false,
          "start_time": "2025-02-01T19:57:03.905807",
          "status": "completed"
        },
        "tags": [],
        "colab": {
          "base_uri": "https://localhost:8080/",
          "height": 356
        },
        "id": "2980fab7",
        "outputId": "06646c4a-4960-4afd-9948-78ac2377abec"
      },
      "outputs": [
        {
          "output_type": "error",
          "ename": "ValueError",
          "evalue": "The following variable cannot be assigned with wide-form data: `col`",
          "traceback": [
            "\u001b[0;31m---------------------------------------------------------------------------\u001b[0m",
            "\u001b[0;31mValueError\u001b[0m                                Traceback (most recent call last)",
            "\u001b[0;32m<ipython-input-62-5ab7c2eae05a>\u001b[0m in \u001b[0;36m<cell line: 0>\u001b[0;34m()\u001b[0m\n\u001b[0;32m----> 1\u001b[0;31m \u001b[0max\u001b[0m \u001b[0;34m=\u001b[0m \u001b[0msns\u001b[0m\u001b[0;34m.\u001b[0m\u001b[0mcatplot\u001b[0m\u001b[0;34m(\u001b[0m\u001b[0mdata\u001b[0m\u001b[0;34m=\u001b[0m\u001b[0mresults\u001b[0m\u001b[0;34m[\u001b[0m\u001b[0;34m[\u001b[0m\u001b[0;34m'Method'\u001b[0m\u001b[0;34m,\u001b[0m \u001b[0;34m'Normal_Detect_Rate'\u001b[0m\u001b[0;34m,\u001b[0m \u001b[0;34m'Atk_Detect_Rate'\u001b[0m\u001b[0;34m]\u001b[0m\u001b[0;34m]\u001b[0m\u001b[0;34m,\u001b[0m \u001b[0mcol\u001b[0m\u001b[0;34m=\u001b[0m\u001b[0;34m'Method'\u001b[0m\u001b[0;34m,\u001b[0m \u001b[0mcol_wrap\u001b[0m\u001b[0;34m=\u001b[0m\u001b[0;36m3\u001b[0m\u001b[0;34m,\u001b[0m \u001b[0mkind\u001b[0m\u001b[0;34m=\u001b[0m\u001b[0;34m'bar'\u001b[0m\u001b[0;34m,\u001b[0m \u001b[0mheight\u001b[0m\u001b[0;34m=\u001b[0m\u001b[0;36m3\u001b[0m\u001b[0;34m,\u001b[0m \u001b[0maspect\u001b[0m\u001b[0;34m=\u001b[0m\u001b[0;36m2\u001b[0m\u001b[0;34m)\u001b[0m\u001b[0;34m\u001b[0m\u001b[0;34m\u001b[0m\u001b[0m\n\u001b[0m\u001b[1;32m      2\u001b[0m \u001b[0max\u001b[0m\u001b[0;34m.\u001b[0m\u001b[0mset\u001b[0m\u001b[0;34m(\u001b[0m\u001b[0mylim\u001b[0m\u001b[0;34m=\u001b[0m\u001b[0;34m(\u001b[0m\u001b[0;36m0.97\u001b[0m\u001b[0;34m,\u001b[0m\u001b[0;36m1\u001b[0m\u001b[0;34m)\u001b[0m\u001b[0;34m)\u001b[0m\u001b[0;34m\u001b[0m\u001b[0;34m\u001b[0m\u001b[0m\n\u001b[1;32m      3\u001b[0m \u001b[0max\u001b[0m\u001b[0;34m.\u001b[0m\u001b[0mset_xticklabels\u001b[0m\u001b[0;34m(\u001b[0m\u001b[0mrotation\u001b[0m\u001b[0;34m=\u001b[0m\u001b[0;36m45\u001b[0m\u001b[0;34m)\u001b[0m\u001b[0;34m\u001b[0m\u001b[0;34m\u001b[0m\u001b[0m\n\u001b[1;32m      4\u001b[0m \u001b[0max\u001b[0m \u001b[0;34m=\u001b[0m \u001b[0max\u001b[0m\u001b[0;34m\u001b[0m\u001b[0;34m\u001b[0m\u001b[0m\n",
            "\u001b[0;32m/usr/local/lib/python3.11/dist-packages/seaborn/categorical.py\u001b[0m in \u001b[0;36mcatplot\u001b[0;34m(data, x, y, hue, row, col, kind, estimator, errorbar, n_boot, seed, units, weights, order, hue_order, row_order, col_order, col_wrap, height, aspect, log_scale, native_scale, formatter, orient, color, palette, hue_norm, legend, legend_out, sharex, sharey, margin_titles, facet_kws, ci, **kwargs)\u001b[0m\n\u001b[1;32m   2780\u001b[0m             \u001b[0;32mraise\u001b[0m \u001b[0mValueError\u001b[0m\u001b[0;34m(\u001b[0m\u001b[0;34m\"Cannot pass values for both `x` and `y`.\"\u001b[0m\u001b[0;34m)\u001b[0m\u001b[0;34m\u001b[0m\u001b[0;34m\u001b[0m\u001b[0m\n\u001b[1;32m   2781\u001b[0m \u001b[0;34m\u001b[0m\u001b[0m\n\u001b[0;32m-> 2782\u001b[0;31m     p = Plotter(\n\u001b[0m\u001b[1;32m   2783\u001b[0m         \u001b[0mdata\u001b[0m\u001b[0;34m=\u001b[0m\u001b[0mdata\u001b[0m\u001b[0;34m,\u001b[0m\u001b[0;34m\u001b[0m\u001b[0;34m\u001b[0m\u001b[0m\n\u001b[1;32m   2784\u001b[0m         variables=dict(\n",
            "\u001b[0;32m/usr/local/lib/python3.11/dist-packages/seaborn/categorical.py\u001b[0m in \u001b[0;36m__init__\u001b[0;34m(self, data, variables, order, orient, require_numeric, color, legend)\u001b[0m\n\u001b[1;32m     65\u001b[0m     ):\n\u001b[1;32m     66\u001b[0m \u001b[0;34m\u001b[0m\u001b[0m\n\u001b[0;32m---> 67\u001b[0;31m         \u001b[0msuper\u001b[0m\u001b[0;34m(\u001b[0m\u001b[0;34m)\u001b[0m\u001b[0;34m.\u001b[0m\u001b[0m__init__\u001b[0m\u001b[0;34m(\u001b[0m\u001b[0mdata\u001b[0m\u001b[0;34m=\u001b[0m\u001b[0mdata\u001b[0m\u001b[0;34m,\u001b[0m \u001b[0mvariables\u001b[0m\u001b[0;34m=\u001b[0m\u001b[0mvariables\u001b[0m\u001b[0;34m)\u001b[0m\u001b[0;34m\u001b[0m\u001b[0;34m\u001b[0m\u001b[0m\n\u001b[0m\u001b[1;32m     68\u001b[0m \u001b[0;34m\u001b[0m\u001b[0m\n\u001b[1;32m     69\u001b[0m         \u001b[0;31m# This method takes care of some bookkeeping that is necessary because the\u001b[0m\u001b[0;34m\u001b[0m\u001b[0;34m\u001b[0m\u001b[0m\n",
            "\u001b[0;32m/usr/local/lib/python3.11/dist-packages/seaborn/_base.py\u001b[0m in \u001b[0;36m__init__\u001b[0;34m(self, data, variables)\u001b[0m\n\u001b[1;32m    632\u001b[0m         \u001b[0;31m# information for numeric axes would be information about log scales.\u001b[0m\u001b[0;34m\u001b[0m\u001b[0;34m\u001b[0m\u001b[0m\n\u001b[1;32m    633\u001b[0m         \u001b[0mself\u001b[0m\u001b[0;34m.\u001b[0m\u001b[0m_var_ordered\u001b[0m \u001b[0;34m=\u001b[0m \u001b[0;34m{\u001b[0m\u001b[0;34m\"x\"\u001b[0m\u001b[0;34m:\u001b[0m \u001b[0;32mFalse\u001b[0m\u001b[0;34m,\u001b[0m \u001b[0;34m\"y\"\u001b[0m\u001b[0;34m:\u001b[0m \u001b[0;32mFalse\u001b[0m\u001b[0;34m}\u001b[0m  \u001b[0;31m# alt., used DefaultDict\u001b[0m\u001b[0;34m\u001b[0m\u001b[0;34m\u001b[0m\u001b[0m\n\u001b[0;32m--> 634\u001b[0;31m         \u001b[0mself\u001b[0m\u001b[0;34m.\u001b[0m\u001b[0massign_variables\u001b[0m\u001b[0;34m(\u001b[0m\u001b[0mdata\u001b[0m\u001b[0;34m,\u001b[0m \u001b[0mvariables\u001b[0m\u001b[0;34m)\u001b[0m\u001b[0;34m\u001b[0m\u001b[0;34m\u001b[0m\u001b[0m\n\u001b[0m\u001b[1;32m    635\u001b[0m \u001b[0;34m\u001b[0m\u001b[0m\n\u001b[1;32m    636\u001b[0m         \u001b[0;31m# TODO Lots of tests assume that these are called to initialize the\u001b[0m\u001b[0;34m\u001b[0m\u001b[0;34m\u001b[0m\u001b[0m\n",
            "\u001b[0;32m/usr/local/lib/python3.11/dist-packages/seaborn/_base.py\u001b[0m in \u001b[0;36massign_variables\u001b[0;34m(self, data, variables)\u001b[0m\n\u001b[1;32m    671\u001b[0m         \u001b[0;32mif\u001b[0m \u001b[0mx\u001b[0m \u001b[0;32mis\u001b[0m \u001b[0;32mNone\u001b[0m \u001b[0;32mand\u001b[0m \u001b[0my\u001b[0m \u001b[0;32mis\u001b[0m \u001b[0;32mNone\u001b[0m\u001b[0;34m:\u001b[0m\u001b[0;34m\u001b[0m\u001b[0;34m\u001b[0m\u001b[0m\n\u001b[1;32m    672\u001b[0m             \u001b[0mself\u001b[0m\u001b[0;34m.\u001b[0m\u001b[0minput_format\u001b[0m \u001b[0;34m=\u001b[0m \u001b[0;34m\"wide\"\u001b[0m\u001b[0;34m\u001b[0m\u001b[0;34m\u001b[0m\u001b[0m\n\u001b[0;32m--> 673\u001b[0;31m             \u001b[0mframe\u001b[0m\u001b[0;34m,\u001b[0m \u001b[0mnames\u001b[0m \u001b[0;34m=\u001b[0m \u001b[0mself\u001b[0m\u001b[0;34m.\u001b[0m\u001b[0m_assign_variables_wideform\u001b[0m\u001b[0;34m(\u001b[0m\u001b[0mdata\u001b[0m\u001b[0;34m,\u001b[0m \u001b[0;34m**\u001b[0m\u001b[0mvariables\u001b[0m\u001b[0;34m)\u001b[0m\u001b[0;34m\u001b[0m\u001b[0;34m\u001b[0m\u001b[0m\n\u001b[0m\u001b[1;32m    674\u001b[0m         \u001b[0;32melse\u001b[0m\u001b[0;34m:\u001b[0m\u001b[0;34m\u001b[0m\u001b[0;34m\u001b[0m\u001b[0m\n\u001b[1;32m    675\u001b[0m             \u001b[0;31m# When dealing with long-form input, use the newer PlotData\u001b[0m\u001b[0;34m\u001b[0m\u001b[0;34m\u001b[0m\u001b[0m\n",
            "\u001b[0;32m/usr/local/lib/python3.11/dist-packages/seaborn/_base.py\u001b[0m in \u001b[0;36m_assign_variables_wideform\u001b[0;34m(self, data, **kwargs)\u001b[0m\n\u001b[1;32m    721\u001b[0m             \u001b[0merr\u001b[0m \u001b[0;34m=\u001b[0m \u001b[0;34mf\"The following variable{s} cannot be assigned with wide-form data: \"\u001b[0m\u001b[0;34m\u001b[0m\u001b[0;34m\u001b[0m\u001b[0m\n\u001b[1;32m    722\u001b[0m             \u001b[0merr\u001b[0m \u001b[0;34m+=\u001b[0m \u001b[0;34m\", \"\u001b[0m\u001b[0;34m.\u001b[0m\u001b[0mjoin\u001b[0m\u001b[0;34m(\u001b[0m\u001b[0;34mf\"`{v}`\"\u001b[0m \u001b[0;32mfor\u001b[0m \u001b[0mv\u001b[0m \u001b[0;32min\u001b[0m \u001b[0massigned\u001b[0m\u001b[0;34m)\u001b[0m\u001b[0;34m\u001b[0m\u001b[0;34m\u001b[0m\u001b[0m\n\u001b[0;32m--> 723\u001b[0;31m             \u001b[0;32mraise\u001b[0m \u001b[0mValueError\u001b[0m\u001b[0;34m(\u001b[0m\u001b[0merr\u001b[0m\u001b[0;34m)\u001b[0m\u001b[0;34m\u001b[0m\u001b[0;34m\u001b[0m\u001b[0m\n\u001b[0m\u001b[1;32m    724\u001b[0m \u001b[0;34m\u001b[0m\u001b[0m\n\u001b[1;32m    725\u001b[0m         \u001b[0;31m# Determine if the data object actually has any data in it\u001b[0m\u001b[0;34m\u001b[0m\u001b[0;34m\u001b[0m\u001b[0m\n",
            "\u001b[0;31mValueError\u001b[0m: The following variable cannot be assigned with wide-form data: `col`"
          ]
        }
      ],
      "source": [
        "ax = sns.catplot(data=results[['Method', 'Normal_Detect_Rate', 'Atk_Detect_Rate']], col='Method', col_wrap=3, kind='bar', height=3, aspect=2)\n",
        "ax.set(ylim=(0.97,1))\n",
        "ax.set_xticklabels(rotation=45)\n",
        "ax = ax\n"
      ]
    },
    {
      "cell_type": "markdown",
      "id": "966bbfb3",
      "metadata": {
        "papermill": {
          "duration": 0.030642,
          "end_time": "2025-02-01T19:57:05.720291",
          "exception": false,
          "start_time": "2025-02-01T19:57:05.689649",
          "status": "completed"
        },
        "tags": [],
        "id": "966bbfb3"
      },
      "source": [
        "> kNN achieved the best classification outcomes.\n",
        "\n",
        "> GRU showed the most balanced approach regarding classifying normal and attack flows.\n",
        "\n",
        "> Although CNN achieved a relatively good classification of attacks, the classification of normal record flows was low compared to other methods. This result can explain the Accuracy rate of this method. This situation also occurs with the LSTM method, which achieved a good classification rate for normal flows and a low classification rate for attack ones."
      ]
    },
    {
      "cell_type": "code",
      "source": [
        "from tensorflow import keras\n",
        "\n",
        "# Save the model\n",
        "model.save('/content/my_model.keras')\n",
        "\n",
        "# To download it\n",
        "from google.colab import files\n",
        "files.download('/content/my_model.keras')\n"
      ],
      "metadata": {
        "colab": {
          "base_uri": "https://localhost:8080/",
          "height": 211
        },
        "id": "Nwgp2ahv5w6V",
        "outputId": "8e50a31a-2f9a-4f5c-a3d8-4508ccf4d505"
      },
      "id": "Nwgp2ahv5w6V",
      "execution_count": null,
      "outputs": [
        {
          "output_type": "error",
          "ename": "NameError",
          "evalue": "name 'model' is not defined",
          "traceback": [
            "\u001b[0;31m---------------------------------------------------------------------------\u001b[0m",
            "\u001b[0;31mNameError\u001b[0m                                 Traceback (most recent call last)",
            "\u001b[0;32m<ipython-input-63-0890cbe84a17>\u001b[0m in \u001b[0;36m<cell line: 0>\u001b[0;34m()\u001b[0m\n\u001b[1;32m      2\u001b[0m \u001b[0;34m\u001b[0m\u001b[0m\n\u001b[1;32m      3\u001b[0m \u001b[0;31m# Save the model\u001b[0m\u001b[0;34m\u001b[0m\u001b[0;34m\u001b[0m\u001b[0m\n\u001b[0;32m----> 4\u001b[0;31m \u001b[0mmodel\u001b[0m\u001b[0;34m.\u001b[0m\u001b[0msave\u001b[0m\u001b[0;34m(\u001b[0m\u001b[0;34m'/content/my_model.keras'\u001b[0m\u001b[0;34m)\u001b[0m\u001b[0;34m\u001b[0m\u001b[0;34m\u001b[0m\u001b[0m\n\u001b[0m\u001b[1;32m      5\u001b[0m \u001b[0;34m\u001b[0m\u001b[0m\n\u001b[1;32m      6\u001b[0m \u001b[0;31m# To download it\u001b[0m\u001b[0;34m\u001b[0m\u001b[0;34m\u001b[0m\u001b[0m\n",
            "\u001b[0;31mNameError\u001b[0m: name 'model' is not defined"
          ]
        }
      ]
    },
    {
      "cell_type": "markdown",
      "source": [
        "## Save the models"
      ],
      "metadata": {
        "id": "g9AeG6dDLas3"
      },
      "id": "g9AeG6dDLas3"
    },
    {
      "cell_type": "code",
      "source": [],
      "metadata": {
        "id": "6S1ygpBGLZ0E"
      },
      "id": "6S1ygpBGLZ0E",
      "execution_count": null,
      "outputs": []
    },
    {
      "cell_type": "code",
      "source": [
        "# Save Keras models\n",
        "model_gru.save('gru_model.keras')\n",
        "model_cnn.save('cnn_model.keras')\n",
        "model_lstm.save('lstm_model.keras')\n",
        "model_dnn.save('dnn_model.keras')\n"
      ],
      "metadata": {
        "id": "g0sdz6yMJaKF"
      },
      "id": "g0sdz6yMJaKF",
      "execution_count": null,
      "outputs": []
    },
    {
      "cell_type": "code",
      "source": [
        "from google.colab import files\n",
        "\n",
        "files.download('gru_model.keras')\n",
        "files.download('cnn_model.keras')\n",
        "files.download('lstm_model.keras')\n",
        "files.download('dnn_model.keras')\n"
      ],
      "metadata": {
        "colab": {
          "base_uri": "https://localhost:8080/",
          "height": 17
        },
        "id": "0D-pBiahJxWo",
        "outputId": "9ae87927-42e4-4e70-de1a-e32318bfd688"
      },
      "id": "0D-pBiahJxWo",
      "execution_count": null,
      "outputs": [
        {
          "output_type": "display_data",
          "data": {
            "text/plain": [
              "<IPython.core.display.Javascript object>"
            ],
            "application/javascript": [
              "\n",
              "    async function download(id, filename, size) {\n",
              "      if (!google.colab.kernel.accessAllowed) {\n",
              "        return;\n",
              "      }\n",
              "      const div = document.createElement('div');\n",
              "      const label = document.createElement('label');\n",
              "      label.textContent = `Downloading \"${filename}\": `;\n",
              "      div.appendChild(label);\n",
              "      const progress = document.createElement('progress');\n",
              "      progress.max = size;\n",
              "      div.appendChild(progress);\n",
              "      document.body.appendChild(div);\n",
              "\n",
              "      const buffers = [];\n",
              "      let downloaded = 0;\n",
              "\n",
              "      const channel = await google.colab.kernel.comms.open(id);\n",
              "      // Send a message to notify the kernel that we're ready.\n",
              "      channel.send({})\n",
              "\n",
              "      for await (const message of channel.messages) {\n",
              "        // Send a message to notify the kernel that we're ready.\n",
              "        channel.send({})\n",
              "        if (message.buffers) {\n",
              "          for (const buffer of message.buffers) {\n",
              "            buffers.push(buffer);\n",
              "            downloaded += buffer.byteLength;\n",
              "            progress.value = downloaded;\n",
              "          }\n",
              "        }\n",
              "      }\n",
              "      const blob = new Blob(buffers, {type: 'application/binary'});\n",
              "      const a = document.createElement('a');\n",
              "      a.href = window.URL.createObjectURL(blob);\n",
              "      a.download = filename;\n",
              "      div.appendChild(a);\n",
              "      a.click();\n",
              "      div.remove();\n",
              "    }\n",
              "  "
            ]
          },
          "metadata": {}
        },
        {
          "output_type": "display_data",
          "data": {
            "text/plain": [
              "<IPython.core.display.Javascript object>"
            ],
            "application/javascript": [
              "download(\"download_7098fe1b-d53d-46ad-acad-2aad9cdbbd02\", \"gru_model.keras\", 75601)"
            ]
          },
          "metadata": {}
        },
        {
          "output_type": "display_data",
          "data": {
            "text/plain": [
              "<IPython.core.display.Javascript object>"
            ],
            "application/javascript": [
              "\n",
              "    async function download(id, filename, size) {\n",
              "      if (!google.colab.kernel.accessAllowed) {\n",
              "        return;\n",
              "      }\n",
              "      const div = document.createElement('div');\n",
              "      const label = document.createElement('label');\n",
              "      label.textContent = `Downloading \"${filename}\": `;\n",
              "      div.appendChild(label);\n",
              "      const progress = document.createElement('progress');\n",
              "      progress.max = size;\n",
              "      div.appendChild(progress);\n",
              "      document.body.appendChild(div);\n",
              "\n",
              "      const buffers = [];\n",
              "      let downloaded = 0;\n",
              "\n",
              "      const channel = await google.colab.kernel.comms.open(id);\n",
              "      // Send a message to notify the kernel that we're ready.\n",
              "      channel.send({})\n",
              "\n",
              "      for await (const message of channel.messages) {\n",
              "        // Send a message to notify the kernel that we're ready.\n",
              "        channel.send({})\n",
              "        if (message.buffers) {\n",
              "          for (const buffer of message.buffers) {\n",
              "            buffers.push(buffer);\n",
              "            downloaded += buffer.byteLength;\n",
              "            progress.value = downloaded;\n",
              "          }\n",
              "        }\n",
              "      }\n",
              "      const blob = new Blob(buffers, {type: 'application/binary'});\n",
              "      const a = document.createElement('a');\n",
              "      a.href = window.URL.createObjectURL(blob);\n",
              "      a.download = filename;\n",
              "      div.appendChild(a);\n",
              "      a.click();\n",
              "      div.remove();\n",
              "    }\n",
              "  "
            ]
          },
          "metadata": {}
        },
        {
          "output_type": "display_data",
          "data": {
            "text/plain": [
              "<IPython.core.display.Javascript object>"
            ],
            "application/javascript": [
              "download(\"download_5a1dfadc-bee8-4f24-afcc-47b1f8651f89\", \"cnn_model.keras\", 474451)"
            ]
          },
          "metadata": {}
        },
        {
          "output_type": "display_data",
          "data": {
            "text/plain": [
              "<IPython.core.display.Javascript object>"
            ],
            "application/javascript": [
              "\n",
              "    async function download(id, filename, size) {\n",
              "      if (!google.colab.kernel.accessAllowed) {\n",
              "        return;\n",
              "      }\n",
              "      const div = document.createElement('div');\n",
              "      const label = document.createElement('label');\n",
              "      label.textContent = `Downloading \"${filename}\": `;\n",
              "      div.appendChild(label);\n",
              "      const progress = document.createElement('progress');\n",
              "      progress.max = size;\n",
              "      div.appendChild(progress);\n",
              "      document.body.appendChild(div);\n",
              "\n",
              "      const buffers = [];\n",
              "      let downloaded = 0;\n",
              "\n",
              "      const channel = await google.colab.kernel.comms.open(id);\n",
              "      // Send a message to notify the kernel that we're ready.\n",
              "      channel.send({})\n",
              "\n",
              "      for await (const message of channel.messages) {\n",
              "        // Send a message to notify the kernel that we're ready.\n",
              "        channel.send({})\n",
              "        if (message.buffers) {\n",
              "          for (const buffer of message.buffers) {\n",
              "            buffers.push(buffer);\n",
              "            downloaded += buffer.byteLength;\n",
              "            progress.value = downloaded;\n",
              "          }\n",
              "        }\n",
              "      }\n",
              "      const blob = new Blob(buffers, {type: 'application/binary'});\n",
              "      const a = document.createElement('a');\n",
              "      a.href = window.URL.createObjectURL(blob);\n",
              "      a.download = filename;\n",
              "      div.appendChild(a);\n",
              "      a.click();\n",
              "      div.remove();\n",
              "    }\n",
              "  "
            ]
          },
          "metadata": {}
        },
        {
          "output_type": "display_data",
          "data": {
            "text/plain": [
              "<IPython.core.display.Javascript object>"
            ],
            "application/javascript": [
              "download(\"download_fb2200dd-ed95-4621-b623-a420c01e510f\", \"lstm_model.keras\", 87525)"
            ]
          },
          "metadata": {}
        },
        {
          "output_type": "display_data",
          "data": {
            "text/plain": [
              "<IPython.core.display.Javascript object>"
            ],
            "application/javascript": [
              "\n",
              "    async function download(id, filename, size) {\n",
              "      if (!google.colab.kernel.accessAllowed) {\n",
              "        return;\n",
              "      }\n",
              "      const div = document.createElement('div');\n",
              "      const label = document.createElement('label');\n",
              "      label.textContent = `Downloading \"${filename}\": `;\n",
              "      div.appendChild(label);\n",
              "      const progress = document.createElement('progress');\n",
              "      progress.max = size;\n",
              "      div.appendChild(progress);\n",
              "      document.body.appendChild(div);\n",
              "\n",
              "      const buffers = [];\n",
              "      let downloaded = 0;\n",
              "\n",
              "      const channel = await google.colab.kernel.comms.open(id);\n",
              "      // Send a message to notify the kernel that we're ready.\n",
              "      channel.send({})\n",
              "\n",
              "      for await (const message of channel.messages) {\n",
              "        // Send a message to notify the kernel that we're ready.\n",
              "        channel.send({})\n",
              "        if (message.buffers) {\n",
              "          for (const buffer of message.buffers) {\n",
              "            buffers.push(buffer);\n",
              "            downloaded += buffer.byteLength;\n",
              "            progress.value = downloaded;\n",
              "          }\n",
              "        }\n",
              "      }\n",
              "      const blob = new Blob(buffers, {type: 'application/binary'});\n",
              "      const a = document.createElement('a');\n",
              "      a.href = window.URL.createObjectURL(blob);\n",
              "      a.download = filename;\n",
              "      div.appendChild(a);\n",
              "      a.click();\n",
              "      div.remove();\n",
              "    }\n",
              "  "
            ]
          },
          "metadata": {}
        },
        {
          "output_type": "display_data",
          "data": {
            "text/plain": [
              "<IPython.core.display.Javascript object>"
            ],
            "application/javascript": [
              "download(\"download_fc4adf4c-2f1f-4b30-8c48-c9a64942478a\", \"dnn_model.keras\", 22912)"
            ]
          },
          "metadata": {}
        }
      ]
    },
    {
      "cell_type": "code",
      "source": [
        "import joblib\n",
        "\n",
        "def save_Sklearn(model, filename):\n",
        "    joblib.dump(model, f\"{filename}.pkl\")\n",
        "    print(f\"Model saved as {filename}.pkl\")\n"
      ],
      "metadata": {
        "id": "E_l5ntfsKSFe"
      },
      "id": "E_l5ntfsKSFe",
      "execution_count": null,
      "outputs": []
    },
    {
      "cell_type": "code",
      "source": [
        "# Save Scikit-learn models\n",
        "\n",
        "save_Sklearn(model_svm, 'svm_model')\n",
        "save_Sklearn(model_lr, 'lr_model')\n",
        "save_Sklearn(model_gd, 'gd_model')\n",
        "save_Sklearn(model_knn, 'knn_model')"
      ],
      "metadata": {
        "colab": {
          "base_uri": "https://localhost:8080/"
        },
        "id": "Y7-LusM-J4sy",
        "outputId": "203bc254-4034-4383-9cf7-8360bb26a2de"
      },
      "id": "Y7-LusM-J4sy",
      "execution_count": null,
      "outputs": [
        {
          "output_type": "stream",
          "name": "stdout",
          "text": [
            "Model saved as svm_model.pkl\n",
            "Model saved as lr_model.pkl\n",
            "Model saved as gd_model.pkl\n",
            "Model saved as knn_model.pkl\n"
          ]
        }
      ]
    },
    {
      "cell_type": "code",
      "source": [
        "files.download('svm_model.pkl')\n",
        "files.download('lr_model.pkl')\n",
        "files.download('gd_model.pkl')\n",
        "files.download('knn_model.pkl')\n"
      ],
      "metadata": {
        "colab": {
          "base_uri": "https://localhost:8080/",
          "height": 17
        },
        "id": "BcmfD5NdKVgA",
        "outputId": "e6661c48-21c1-4923-cd07-d69570e78234"
      },
      "id": "BcmfD5NdKVgA",
      "execution_count": null,
      "outputs": [
        {
          "output_type": "display_data",
          "data": {
            "text/plain": [
              "<IPython.core.display.Javascript object>"
            ],
            "application/javascript": [
              "\n",
              "    async function download(id, filename, size) {\n",
              "      if (!google.colab.kernel.accessAllowed) {\n",
              "        return;\n",
              "      }\n",
              "      const div = document.createElement('div');\n",
              "      const label = document.createElement('label');\n",
              "      label.textContent = `Downloading \"${filename}\": `;\n",
              "      div.appendChild(label);\n",
              "      const progress = document.createElement('progress');\n",
              "      progress.max = size;\n",
              "      div.appendChild(progress);\n",
              "      document.body.appendChild(div);\n",
              "\n",
              "      const buffers = [];\n",
              "      let downloaded = 0;\n",
              "\n",
              "      const channel = await google.colab.kernel.comms.open(id);\n",
              "      // Send a message to notify the kernel that we're ready.\n",
              "      channel.send({})\n",
              "\n",
              "      for await (const message of channel.messages) {\n",
              "        // Send a message to notify the kernel that we're ready.\n",
              "        channel.send({})\n",
              "        if (message.buffers) {\n",
              "          for (const buffer of message.buffers) {\n",
              "            buffers.push(buffer);\n",
              "            downloaded += buffer.byteLength;\n",
              "            progress.value = downloaded;\n",
              "          }\n",
              "        }\n",
              "      }\n",
              "      const blob = new Blob(buffers, {type: 'application/binary'});\n",
              "      const a = document.createElement('a');\n",
              "      a.href = window.URL.createObjectURL(blob);\n",
              "      a.download = filename;\n",
              "      div.appendChild(a);\n",
              "      a.click();\n",
              "      div.remove();\n",
              "    }\n",
              "  "
            ]
          },
          "metadata": {}
        },
        {
          "output_type": "display_data",
          "data": {
            "text/plain": [
              "<IPython.core.display.Javascript object>"
            ],
            "application/javascript": [
              "download(\"download_8e392a21-bb72-46f7-a76f-fa82e6df940e\", \"svm_model.pkl\", 15163)"
            ]
          },
          "metadata": {}
        },
        {
          "output_type": "display_data",
          "data": {
            "text/plain": [
              "<IPython.core.display.Javascript object>"
            ],
            "application/javascript": [
              "\n",
              "    async function download(id, filename, size) {\n",
              "      if (!google.colab.kernel.accessAllowed) {\n",
              "        return;\n",
              "      }\n",
              "      const div = document.createElement('div');\n",
              "      const label = document.createElement('label');\n",
              "      label.textContent = `Downloading \"${filename}\": `;\n",
              "      div.appendChild(label);\n",
              "      const progress = document.createElement('progress');\n",
              "      progress.max = size;\n",
              "      div.appendChild(progress);\n",
              "      document.body.appendChild(div);\n",
              "\n",
              "      const buffers = [];\n",
              "      let downloaded = 0;\n",
              "\n",
              "      const channel = await google.colab.kernel.comms.open(id);\n",
              "      // Send a message to notify the kernel that we're ready.\n",
              "      channel.send({})\n",
              "\n",
              "      for await (const message of channel.messages) {\n",
              "        // Send a message to notify the kernel that we're ready.\n",
              "        channel.send({})\n",
              "        if (message.buffers) {\n",
              "          for (const buffer of message.buffers) {\n",
              "            buffers.push(buffer);\n",
              "            downloaded += buffer.byteLength;\n",
              "            progress.value = downloaded;\n",
              "          }\n",
              "        }\n",
              "      }\n",
              "      const blob = new Blob(buffers, {type: 'application/binary'});\n",
              "      const a = document.createElement('a');\n",
              "      a.href = window.URL.createObjectURL(blob);\n",
              "      a.download = filename;\n",
              "      div.appendChild(a);\n",
              "      a.click();\n",
              "      div.remove();\n",
              "    }\n",
              "  "
            ]
          },
          "metadata": {}
        },
        {
          "output_type": "display_data",
          "data": {
            "text/plain": [
              "<IPython.core.display.Javascript object>"
            ],
            "application/javascript": [
              "download(\"download_6f1cfd69-dba5-4cc8-8920-eb7acf0c9739\", \"lr_model.pkl\", 1519)"
            ]
          },
          "metadata": {}
        },
        {
          "output_type": "display_data",
          "data": {
            "text/plain": [
              "<IPython.core.display.Javascript object>"
            ],
            "application/javascript": [
              "\n",
              "    async function download(id, filename, size) {\n",
              "      if (!google.colab.kernel.accessAllowed) {\n",
              "        return;\n",
              "      }\n",
              "      const div = document.createElement('div');\n",
              "      const label = document.createElement('label');\n",
              "      label.textContent = `Downloading \"${filename}\": `;\n",
              "      div.appendChild(label);\n",
              "      const progress = document.createElement('progress');\n",
              "      progress.max = size;\n",
              "      div.appendChild(progress);\n",
              "      document.body.appendChild(div);\n",
              "\n",
              "      const buffers = [];\n",
              "      let downloaded = 0;\n",
              "\n",
              "      const channel = await google.colab.kernel.comms.open(id);\n",
              "      // Send a message to notify the kernel that we're ready.\n",
              "      channel.send({})\n",
              "\n",
              "      for await (const message of channel.messages) {\n",
              "        // Send a message to notify the kernel that we're ready.\n",
              "        channel.send({})\n",
              "        if (message.buffers) {\n",
              "          for (const buffer of message.buffers) {\n",
              "            buffers.push(buffer);\n",
              "            downloaded += buffer.byteLength;\n",
              "            progress.value = downloaded;\n",
              "          }\n",
              "        }\n",
              "      }\n",
              "      const blob = new Blob(buffers, {type: 'application/binary'});\n",
              "      const a = document.createElement('a');\n",
              "      a.href = window.URL.createObjectURL(blob);\n",
              "      a.download = filename;\n",
              "      div.appendChild(a);\n",
              "      a.click();\n",
              "      div.remove();\n",
              "    }\n",
              "  "
            ]
          },
          "metadata": {}
        },
        {
          "output_type": "display_data",
          "data": {
            "text/plain": [
              "<IPython.core.display.Javascript object>"
            ],
            "application/javascript": [
              "download(\"download_d648f7dc-0333-4415-b4f5-ddd3414cfe1d\", \"gd_model.pkl\", 1773)"
            ]
          },
          "metadata": {}
        },
        {
          "output_type": "display_data",
          "data": {
            "text/plain": [
              "<IPython.core.display.Javascript object>"
            ],
            "application/javascript": [
              "\n",
              "    async function download(id, filename, size) {\n",
              "      if (!google.colab.kernel.accessAllowed) {\n",
              "        return;\n",
              "      }\n",
              "      const div = document.createElement('div');\n",
              "      const label = document.createElement('label');\n",
              "      label.textContent = `Downloading \"${filename}\": `;\n",
              "      div.appendChild(label);\n",
              "      const progress = document.createElement('progress');\n",
              "      progress.max = size;\n",
              "      div.appendChild(progress);\n",
              "      document.body.appendChild(div);\n",
              "\n",
              "      const buffers = [];\n",
              "      let downloaded = 0;\n",
              "\n",
              "      const channel = await google.colab.kernel.comms.open(id);\n",
              "      // Send a message to notify the kernel that we're ready.\n",
              "      channel.send({})\n",
              "\n",
              "      for await (const message of channel.messages) {\n",
              "        // Send a message to notify the kernel that we're ready.\n",
              "        channel.send({})\n",
              "        if (message.buffers) {\n",
              "          for (const buffer of message.buffers) {\n",
              "            buffers.push(buffer);\n",
              "            downloaded += buffer.byteLength;\n",
              "            progress.value = downloaded;\n",
              "          }\n",
              "        }\n",
              "      }\n",
              "      const blob = new Blob(buffers, {type: 'application/binary'});\n",
              "      const a = document.createElement('a');\n",
              "      a.href = window.URL.createObjectURL(blob);\n",
              "      a.download = filename;\n",
              "      div.appendChild(a);\n",
              "      a.click();\n",
              "      div.remove();\n",
              "    }\n",
              "  "
            ]
          },
          "metadata": {}
        },
        {
          "output_type": "display_data",
          "data": {
            "text/plain": [
              "<IPython.core.display.Javascript object>"
            ],
            "application/javascript": [
              "download(\"download_68870612-b6ab-4738-8cae-d99d4cec2df3\", \"knn_model.pkl\", 602388)"
            ]
          },
          "metadata": {}
        }
      ]
    }
  ],
  "metadata": {
    "kaggle": {
      "accelerator": "gpu",
      "dataSources": [
        {
          "datasetId": 3952124,
          "sourceId": 6878499,
          "sourceType": "datasetVersion"
        }
      ],
      "dockerImageVersionId": 30839,
      "isGpuEnabled": true,
      "isInternetEnabled": true,
      "language": "python",
      "sourceType": "notebook"
    },
    "kernelspec": {
      "display_name": "Python 3 (ipykernel)",
      "language": "python",
      "name": "python3"
    },
    "language_info": {
      "codemirror_mode": {
        "name": "ipython",
        "version": 3
      },
      "file_extension": ".py",
      "mimetype": "text/x-python",
      "name": "python",
      "nbconvert_exporter": "python",
      "pygments_lexer": "ipython3",
      "version": "3.12.7"
    },
    "papermill": {
      "default_parameters": {},
      "duration": 623.828875,
      "end_time": "2025-02-01T19:57:07.874394",
      "environment_variables": {},
      "exception": null,
      "input_path": "__notebook__.ipynb",
      "output_path": "__notebook__.ipynb",
      "parameters": {},
      "start_time": "2025-02-01T19:46:44.045519",
      "version": "2.6.0"
    },
    "colab": {
      "provenance": [],
      "include_colab_link": true
    }
  },
  "nbformat": 4,
  "nbformat_minor": 5
}